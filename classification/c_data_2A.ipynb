{
 "cells": [
  {
   "cell_type": "markdown",
   "metadata": {},
   "source": [
    "# Construct Dataset"
   ]
  },
  {
   "cell_type": "code",
   "execution_count": 8,
   "metadata": {},
   "outputs": [],
   "source": [
    "import pycbc.noise\n",
    "import pycbc.psd\n",
    "import pycbc.filter\n",
    "import pylab\n",
    "from pycbc.filter import sigma\n",
    "from pycbc.waveform import get_td_waveform\n",
    "from pycbc.types.timeseries import load_timeseries\n",
    "import matplotlib.pyplot as plt\n",
    "import pandas as pd\n",
    "import numpy as np\n",
    "from numpy.random import uniform, randint\n",
    "from tqdm import tqdm\n",
    "import seaborn as sns\n",
    "from sklearn.model_selection import train_test_split\n",
    "\n",
    "#import from other notebooks functions for data generation\n",
    "import sys\n",
    "sys.path.insert(0, '../functions')\n",
    "from ipynb.fs.defs.false_signals import random_false_sig, flip_gw\n",
    "from ipynb.fs.defs.generate_data import noise, burried_gw, partial_burried_false, partial_burried_gw, burried_false, burried_flip, visualize, bol, empty_gaussian"
   ]
  },
  {
   "cell_type": "markdown",
   "metadata": {},
   "source": [
    "Trial 2 information:\n",
    "- SNR 100 - 1000 randomly generated, full\n",
    "- signals partially contained in windows of 1 second, >50%\n",
    "- masses randomly generated (ranges for masses shown below)\n",
    "- train and test generated in one batch. Then separate."
   ]
  },
  {
   "cell_type": "code",
   "execution_count": 9,
   "metadata": {
    "scrolled": false
   },
   "outputs": [],
   "source": [
    "# Randomly generate masses \n",
    "# Training masses \n",
    "mass = []\n",
    "for i in np.arange(2):   # repeat process twice for data\n",
    "    for u in np.arange(95,101):\n",
    "        for l in np.arange(10,101):\n",
    "            mass.append([uniform(95,100),uniform(10,100)])\n",
    "    for u in np.arange(90,95):\n",
    "        for l in np.arange(10,95):\n",
    "            mass.append([uniform(90,95),uniform(10,95)])\n",
    "    for u in np.arange(85,90):\n",
    "        for l in np.arange(10,90):\n",
    "            mass.append([uniform(85,90),uniform(10,90)])\n",
    "    for u in np.arange(80,85):\n",
    "        for l in np.arange(10,85):\n",
    "            mass.append([uniform(80,85),uniform(10,85)])\n",
    "    for u in np.arange(75,80):\n",
    "        for l in np.arange(10,80):\n",
    "            mass.append([uniform(75,80),uniform(10,80)])\n",
    "    for u in np.arange(70,75):\n",
    "        for l in np.arange(12,75):\n",
    "            mass.append([uniform(70,75),uniform(12,75)])\n",
    "    for u in np.arange(65,70):\n",
    "        for l in np.arange(14,70):\n",
    "            mass.append([uniform(65,70),uniform(14,70)])\n",
    "    for u in np.arange(60,65):\n",
    "        for l in np.arange(16,65):\n",
    "            mass.append([uniform(60,65),uniform(16,65)])\n",
    "    for u in np.arange(55,60):\n",
    "        for l in np.arange(16,60):\n",
    "            mass.append([uniform(55,60),uniform(16,60)])\n",
    "    for u in np.arange(50,55):\n",
    "        for l in np.arange(18,55):\n",
    "            mass.append([uniform(50,55),uniform(18,55)])\n",
    "    for u in np.arange(45,50):\n",
    "        for l in np.arange(20,50):\n",
    "            mass.append([uniform(45,50),uniform(20,50)])\n",
    "    for u in np.arange(40,45):\n",
    "        for l in np.arange(24,45):\n",
    "            mass.append([uniform(40,45),uniform(24,45)])\n",
    "    for u in np.arange(35,40):\n",
    "        for l in np.arange(28,40):\n",
    "            mass.append([uniform(35,40),uniform(28,40)])\n",
    "    for u in np.arange(30,35):\n",
    "        for l in np.arange(30,35):\n",
    "            mass.append([uniform(30,35),uniform(30,35)])\n",
    "\n",
    "mass = pd.DataFrame(mass)\n",
    "mass.columns = ['m1','m2']"
   ]
  },
  {
   "cell_type": "code",
   "execution_count": 10,
   "metadata": {
    "collapsed": true
   },
   "outputs": [],
   "source": [
    "# constants and variables\n",
    "mag = -21   # for false signals. Try to be close to the amplitude of gw signals\n",
    "select = bol(4,len(mass))"
   ]
  },
  {
   "cell_type": "code",
   "execution_count": 11,
   "metadata": {
    "scrolled": true
   },
   "outputs": [
    {
     "name": "stderr",
     "output_type": "stream",
     "text": [
      "100%|██████████| 7362/7362 [23:44<00:00,  5.50it/s]\n"
     ]
    }
   ],
   "source": [
    "# data!\n",
    "X = []\n",
    "y = []\n",
    "\n",
    "# extra data for regression trials\n",
    "reg_X = []\n",
    "reg_y = mass\n",
    "\n",
    "# Generate true cases that contain gw, classification label 1.\n",
    "\n",
    "for i in tqdm(range(len(mass))):\n",
    "    snr = uniform(100,1000)\n",
    "    gww = burried_gw(mass.loc[i,'m1'], mass.loc[i,'m2'], snr)\n",
    "    reg_X.append(np.asarray(gww))\n",
    "    X.append(np.asarray(gww))\n",
    "    y.append(1)\n",
    "    \n",
    "    # Insert false flipped case as well as empty gaussian after every 3 true cases\n",
    "    if select[i]:\n",
    "        wf = burried_flip(mass.loc[i,'m1'], mass.loc[i,'m2'], snr)\n",
    "        X.append(np.asarray(wf))\n",
    "        y.append(0)\n",
    "        \n",
    "        wf = noise(gww,snr)\n",
    "        X.append(np.asarray(wf))\n",
    "        y.append(0)"
   ]
  },
  {
   "cell_type": "code",
   "execution_count": 13,
   "metadata": {},
   "outputs": [
    {
     "name": "stderr",
     "output_type": "stream",
     "text": [
      "100%|██████████| 1500/1500 [03:17<00:00,  7.39it/s]\n",
      "100%|██████████| 5180/5180 [06:31<00:00, 13.85it/s]\n"
     ]
    }
   ],
   "source": [
    "# generate graviational wave with mass 10-100, snr 100-1000, partial percentage 0.5-1\n",
    "for i in tqdm(range(1500)):\n",
    "    wf = partial_burried_gw(uniform(10,100),uniform(10,100),uniform(100,1000),uniform(0.5,1))\n",
    "    reg_X.append(np.asarray(wf))\n",
    "    X.append(np.asarray(wf))\n",
    "    y.append(1)\n",
    "    \n",
    "# Generate partial false signals: snr 100-1000, partial percentage 0.5-1\n",
    "for i in tqdm(range(5180)):\n",
    "    wf = partial_burried_false(-randint(20,23),uniform(100,1000),uniform(0.5,1))\n",
    "    X.append(np.asarray(wf))\n",
    "    y.append(0)"
   ]
  },
  {
   "cell_type": "code",
   "execution_count": 14,
   "metadata": {
    "collapsed": true
   },
   "outputs": [],
   "source": [
    "# Save as dataframe\n",
    "X_df = pd.DataFrame(X)\n",
    "y_df = pd.DataFrame(y)\n",
    "reg_X_df = pd.DataFrame(reg_X)"
   ]
  },
  {
   "cell_type": "code",
   "execution_count": 15,
   "metadata": {
    "collapsed": true
   },
   "outputs": [],
   "source": [
    "# Since sklearn makes things a lot easier, can just store the whole data and split every time. \n",
    "# If want to recreate the split just use same random seed\n",
    "# write data into the same file under different keys\n",
    "\n",
    "# '''ALREADY DONE NO NEED REPEAT\n",
    "f_path = 'c_data_2A.h5'\n",
    "X_df.to_hdf(f_path, key='X', mode='w')\n",
    "y_df.to_hdf(f_path, key='y')\n",
    "reg_X_df.to_hdf(f_path, key='reg_X')\n",
    "reg_y.to_hdf(f_path, key='reg_y')\n",
    "#'''"
   ]
  },
  {
   "cell_type": "markdown",
   "metadata": {},
   "source": [
    "# Data Statistics"
   ]
  },
  {
   "cell_type": "code",
   "execution_count": 16,
   "metadata": {},
   "outputs": [
    {
     "name": "stdout",
     "output_type": "stream",
     "text": [
      "Number of data:  17722\n",
      "Percentage  50.005642703983746 % of data contains gw wave.\n"
     ]
    }
   ],
   "source": [
    "# statistic information\n",
    "print(\"Number of data: \",len(X))\n",
    "\n",
    "pos = 0\n",
    "for i in np.arange(len(X)):\n",
    "    pos += y[i]\n",
    "\n",
    "print(\"Percentage \",100* pos/len(X), \"% of data contains gw wave.\")"
   ]
  },
  {
   "cell_type": "code",
   "execution_count": null,
   "metadata": {
    "collapsed": true
   },
   "outputs": [],
   "source": []
  }
 ],
 "metadata": {
  "kernelspec": {
   "display_name": "Python 3",
   "language": "python",
   "name": "python3"
  },
  "language_info": {
   "codemirror_mode": {
    "name": "ipython",
    "version": 3
   },
   "file_extension": ".py",
   "mimetype": "text/x-python",
   "name": "python",
   "nbconvert_exporter": "python",
   "pygments_lexer": "ipython3",
   "version": "3.6.8"
  }
 },
 "nbformat": 4,
 "nbformat_minor": 2
}

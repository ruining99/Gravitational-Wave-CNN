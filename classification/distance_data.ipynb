{
 "cells": [
  {
   "cell_type": "code",
   "execution_count": 1,
   "metadata": {},
   "outputs": [
    {
     "name": "stderr",
     "output_type": "stream",
     "text": [
      "PyCBC.libutils: pkg-config call failed, setting NO_PKGCONFIG=1\n"
     ]
    }
   ],
   "source": [
    "import pycbc.noise\n",
    "import pycbc.psd\n",
    "import pycbc.filter\n",
    "import pylab\n",
    "from pycbc.filter import sigma\n",
    "from pycbc.waveform import get_td_waveform\n",
    "from pycbc.types.timeseries import load_timeseries\n",
    "import matplotlib.pyplot as plt\n",
    "import pandas as pd\n",
    "import numpy as np\n",
    "from numpy.random import uniform, randint\n",
    "from tqdm import tqdm\n",
    "import seaborn as sns\n",
    "from sklearn.model_selection import train_test_split\n",
    "\n",
    "#import from other notebooks functions for data generation\n",
    "import sys\n",
    "sys.path.insert(0, '../functions')\n",
    "from ipynb.fs.defs.false_signals import random_false_sig, flip_gw, gaussPulse_2B, expsin_2B, sawtooth_2B, chirp_2B\n",
    "from ipynb.fs.defs.generate_data_with_distance import noise_d, burried_gw_d, partial_burried_false_d, partial_burried_gw_d, burried_false_d, burried_flip_d \n",
    "from ipynb.fs.defs.generate_data import visualize, bol"
   ]
  },
  {
   "cell_type": "markdown",
   "metadata": {},
   "source": [
    "# EXTRA TESTING SET, WITH DATA BASED ON DISTANCE!\n",
    "- m: 10-100\n",
    "- distance: 100 Mpc to 2000 Mpc\n",
    "- uniform in r^3, randomized over r^3\n",
    "- So don't need to worry about snr, just use the pycbc noise.\n",
    "\n",
    "For false signals, generate on similar scales as gw"
   ]
  },
  {
   "cell_type": "code",
   "execution_count": 2,
   "metadata": {},
   "outputs": [
    {
     "name": "stderr",
     "output_type": "stream",
     "text": [
      "100%|██████████| 10000/10000 [00:00<00:00, 105363.08it/s]\n"
     ]
    }
   ],
   "source": [
    "# in order to save generating time, uniform sample first\n",
    "# with features encoding data: m1,m2,distance respectively\n",
    "\n",
    "features = []\n",
    "\n",
    "for i in tqdm(range(10000)):\n",
    "    d3 = uniform(1,8000)\n",
    "    d = 100*d3**(1./3.)\n",
    "    features.append([uniform(10,100),uniform(10,100),d])"
   ]
  },
  {
   "cell_type": "code",
   "execution_count": 5,
   "metadata": {
    "collapsed": true
   },
   "outputs": [],
   "source": [
    "# constants and variables\n",
    "mag = -21   # for false signals. Try to be close to the amplitude of gw signals\n",
    "select1 = bol(3,20000)\n",
    "select2 = bol(2,20000)"
   ]
  },
  {
   "cell_type": "code",
   "execution_count": 6,
   "metadata": {},
   "outputs": [
    {
     "name": "stderr",
     "output_type": "stream",
     "text": [
      "100%|██████████| 10000/10000 [41:08<00:00,  4.18it/s] \n"
     ]
    }
   ],
   "source": [
    "X = []\n",
    "y = []\n",
    "\n",
    "# SNR 10 - 100 randomly generated\n",
    "# mass 10-100 randomly generated\n",
    "\n",
    "for i in tqdm(range(10000)):\n",
    "    \n",
    "    m1 = features[i][0]\n",
    "    m2 = features[i][1]\n",
    "    d = features[i][2]\n",
    "    \n",
    "    wf = burried_gw_d(m1, m2, d)\n",
    "    X.append(np.asarray(wf))\n",
    "    y.append(1)\n",
    "    \n",
    "    # Insert false flipped case as well as empty gaussian after every 4 true cases\n",
    "    if select1[i]:\n",
    "        wf = burried_flip_d(m1, m2, d)\n",
    "        X.append(np.asarray(wf))\n",
    "        y.append(0)\n",
    "        \n",
    "        wf = noise_d()\n",
    "        X.append(np.asarray(wf))\n",
    "        y.append(0)\n",
    "        \n",
    "        wf = burried_false_d(-randint(20,23))\n",
    "        X.append(np.asarray(wf))\n",
    "        y.append(0)\n",
    "    \n",
    "    # generate partial graviational wave\n",
    "    # with mass 10-100, snr 10-100, partial percentage 0.5-1\n",
    "    if select2[i]:\n",
    "        wf = partial_burried_gw_d(m1,m2,d,uniform(0.5,1))\n",
    "        X.append(np.asarray(wf))\n",
    "        y.append(1)"
   ]
  },
  {
   "cell_type": "code",
   "execution_count": 7,
   "metadata": {},
   "outputs": [
    {
     "name": "stderr",
     "output_type": "stream",
     "text": [
      "100%|██████████| 5000/5000 [05:47<00:00, 14.21it/s]\n"
     ]
    }
   ],
   "source": [
    "# Generate partial false signals: snr 10-200, partial percentage 0.1-1\n",
    "for i in tqdm(range(5000)):\n",
    "    wf = partial_burried_false_d(-randint(20,23),uniform(0.1,1))\n",
    "    X.append(np.asarray(wf))\n",
    "    y.append(0)"
   ]
  },
  {
   "cell_type": "code",
   "execution_count": 8,
   "metadata": {
    "collapsed": true
   },
   "outputs": [],
   "source": [
    "# Save as dataframe\n",
    "X_df = pd.DataFrame(X)\n",
    "y_df = pd.DataFrame(y)"
   ]
  },
  {
   "cell_type": "code",
   "execution_count": 9,
   "metadata": {
    "collapsed": true
   },
   "outputs": [],
   "source": [
    "# Since sklearn makes things a lot easier, can just store the whole data and split every time. \n",
    "# If want to recreate the split just use same random seed\n",
    "# write data into the same file under different keys\n",
    "\n",
    "# '''ALREADY DONE NO NEED REPEAT\n",
    "f_path = 'c_distance_testdata.h5'\n",
    "X_df.to_hdf(f_path, key='X', mode='w')\n",
    "y_df.to_hdf(f_path, key='y')\n",
    "#'''"
   ]
  }
 ],
 "metadata": {
  "kernelspec": {
   "display_name": "Python 3",
   "language": "python",
   "name": "python3"
  },
  "language_info": {
   "codemirror_mode": {
    "name": "ipython",
    "version": 3
   },
   "file_extension": ".py",
   "mimetype": "text/x-python",
   "name": "python",
   "nbconvert_exporter": "python",
   "pygments_lexer": "ipython3",
   "version": "3.6.8"
  }
 },
 "nbformat": 4,
 "nbformat_minor": 2
}

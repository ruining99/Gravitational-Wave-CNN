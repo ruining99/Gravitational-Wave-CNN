{
 "cells": [
  {
   "cell_type": "code",
   "execution_count": 1,
   "metadata": {},
   "outputs": [
    {
     "name": "stderr",
     "output_type": "stream",
     "text": [
      "Using TensorFlow backend.\n"
     ]
    }
   ],
   "source": [
    "import matplotlib.pyplot as plt\n",
    "from keras.utils import to_categorical\n",
    "from keras.models import Sequential\n",
    "from keras.layers import Dense, Conv1D, Flatten, MaxPooling1D\n",
    "import numpy as np\n",
    "import pandas as pd\n",
    "from sklearn.model_selection import train_test_split\n",
    "from keras.utils import to_categorical\n",
    "from keras.models import load_model\n",
    "from keras import optimizers\n",
    "from keras.callbacks import EarlyStopping\n",
    "from tqdm import tqdm\n",
    "import pylab\n",
    "\n",
    "# functions from other notebooks\n",
    "import sys\n",
    "sys.path.insert(0, '../functions')\n",
    "from ipynb.fs.full.models import classifier\n",
    "# from ipynb.fs.full.generate_data import convert, visualize"
   ]
  },
  {
   "cell_type": "code",
   "execution_count": 2,
   "metadata": {},
   "outputs": [
    {
     "name": "stdout",
     "output_type": "stream",
     "text": [
      "WARNING:tensorflow:From /Users/DRRRR/anaconda/envs/machinelearning/lib/python3.6/site-packages/tensorflow/python/framework/op_def_library.py:263: colocate_with (from tensorflow.python.framework.ops) is deprecated and will be removed in a future version.\n",
      "Instructions for updating:\n",
      "Colocations handled automatically by placer.\n",
      "WARNING:tensorflow:From /Users/DRRRR/anaconda/envs/machinelearning/lib/python3.6/site-packages/tensorflow/python/ops/math_ops.py:3066: to_int32 (from tensorflow.python.ops.math_ops) is deprecated and will be removed in a future version.\n",
      "Instructions for updating:\n",
      "Use tf.cast instead.\n"
     ]
    }
   ],
   "source": [
    "# Check model performance accuracy before\n",
    "model = load_model('classify4.h5')"
   ]
  },
  {
   "cell_type": "code",
   "execution_count": 3,
   "metadata": {},
   "outputs": [
    {
     "name": "stderr",
     "output_type": "stream",
     "text": [
      "PyCBC.libutils: pkg-config call failed, setting NO_PKGCONFIG=1\n"
     ]
    },
    {
     "data": {
      "image/png": "[encoded data removed]",
      "text/plain": [
       "<Figure size 432x288 with 1 Axes>"
      ]
     },
     "metadata": {},
     "output_type": "display_data"
    },
    {
     "name": "stdout",
     "output_type": "stream",
     "text": [
      "28.0\n"
     ]
    }
   ],
   "source": [
    "from pycbc.catalog import Merger\n",
    "from pycbc.filter import resample_to_delta_t, highpass, lowpass_fir\n",
    "\n",
    "merger = Merger(\"GW150914\")\n",
    "\n",
    "# Get the data from the Hanford detector\n",
    "strain = merger.strain('H1')\n",
    "\n",
    "# Remove the low frequency content and downsample the data to 2048Hz\n",
    "#strain = lowpass_fir(strain, 2040.0, 8)\n",
    "strain = resample_to_delta_t( highpass(strain, 20.0), 1.0/4096)\n",
    "\n",
    "# Remove 2 seconds of data from both the beginning and end\n",
    "conditioned = strain.crop(2, 2)\n",
    "\n",
    "pylab.plot(strain.sample_times, strain)\n",
    "pylab.xlabel('Time (s)')\n",
    "pylab.show()\n",
    "\n",
    "print(conditioned.duration)"
   ]
  },
  {
   "cell_type": "code",
   "execution_count": 4,
   "metadata": {
    "collapsed": true
   },
   "outputs": [],
   "source": [
    "# crop the whole thing into 1 second parts to feed in\n",
    "\n",
    "data = []\n",
    "\n",
    "for i in np.arange(27):\n",
    "    d = conditioned.crop(i+0.5, 26.5-i)\n",
    "    data.append(np.asarray(d))\n",
    "    \n",
    "X = np.asarray(data)"
   ]
  },
  {
   "cell_type": "code",
   "execution_count": 5,
   "metadata": {
    "collapsed": true
   },
   "outputs": [],
   "source": [
    "t = X*(2.25*10**20)"
   ]
  },
  {
   "cell_type": "code",
   "execution_count": 6,
   "metadata": {
    "collapsed": true
   },
   "outputs": [],
   "source": [
    "# Reshape data\n",
    "test = []\n",
    "for i in np.arange(len(t)):\n",
    "    h = t[i].reshape(4096,1)\n",
    "    test.append(h)\n",
    "test = np.asarray(test)"
   ]
  },
  {
   "cell_type": "code",
   "execution_count": 7,
   "metadata": {
    "collapsed": true
   },
   "outputs": [],
   "source": [
    "result = model.predict(test)"
   ]
  },
  {
   "cell_type": "code",
   "execution_count": 8,
   "metadata": {},
   "outputs": [
    {
     "name": "stdout",
     "output_type": "stream",
     "text": [
      "[[9.99982715e-01 1.73441113e-05]\n",
      " [9.99999404e-01 6.00377575e-07]\n",
      " [9.99999166e-01 7.96310474e-07]\n",
      " [9.99998450e-01 1.50522783e-06]\n",
      " [9.99999404e-01 5.47631998e-07]\n",
      " [9.99998093e-01 1.84886039e-06]\n",
      " [9.99964952e-01 3.50026858e-05]\n",
      " [9.99999762e-01 2.82911174e-07]\n",
      " [9.99998689e-01 1.28141903e-06]\n",
      " [9.99998212e-01 1.76110211e-06]\n",
      " [9.99997616e-01 2.43378463e-06]\n",
      " [9.99877214e-01 1.22816797e-04]\n",
      " [9.99996901e-01 3.04094374e-06]\n",
      " [9.99998927e-01 1.03515515e-06]\n",
      " [9.99999523e-01 4.99297073e-07]\n",
      " [9.99999762e-01 1.92373804e-07]\n",
      " [9.99990463e-01 9.59419958e-06]\n",
      " [9.99999046e-01 9.16048691e-07]\n",
      " [9.99999642e-01 4.10901407e-07]\n",
      " [9.99998093e-01 1.91740946e-06]\n",
      " [9.99999881e-01 7.58805072e-08]\n",
      " [9.99786913e-01 2.13095496e-04]\n",
      " [9.99971509e-01 2.84808411e-05]\n",
      " [9.99999523e-01 4.51942356e-07]\n",
      " [9.99999881e-01 1.66155445e-07]\n",
      " [9.99997139e-01 2.90126036e-06]\n",
      " [9.99999881e-01 1.10128916e-07]]\n"
     ]
    }
   ],
   "source": [
    "print(result)"
   ]
  },
  {
   "cell_type": "code",
   "execution_count": 94,
   "metadata": {
    "scrolled": true
   },
   "outputs": [
    {
     "name": "stdout",
     "output_type": "stream",
     "text": [
      "[[[-2.15078629]\n",
      "  [ 6.84214589]\n",
      "  [-0.05495525]\n",
      "  ...\n",
      "  [-0.21920411]\n",
      "  [ 4.96371717]\n",
      "  [ 4.65114162]]\n",
      "\n",
      " [[-5.64992074]\n",
      "  [-5.91175953]\n",
      "  [ 8.52756563]\n",
      "  ...\n",
      "  [-3.76176265]\n",
      "  [ 1.16598324]\n",
      "  [ 3.92867519]]\n",
      "\n",
      " [[ 0.64988454]\n",
      "  [-1.14608187]\n",
      "  [-0.9514549 ]\n",
      "  ...\n",
      "  [-0.03171502]\n",
      "  [-1.22347075]\n",
      "  [ 0.4618974 ]]\n",
      "\n",
      " ...\n",
      "\n",
      " [[ 5.12191557]\n",
      "  [-0.3672427 ]\n",
      "  [-3.58393254]\n",
      "  ...\n",
      "  [-0.42339588]\n",
      "  [ 5.44507204]\n",
      "  [-1.6400201 ]]\n",
      "\n",
      " [[-5.85733931]\n",
      "  [ 4.06579726]\n",
      "  [ 2.49839281]\n",
      "  ...\n",
      "  [ 0.77228   ]\n",
      "  [ 2.7437783 ]\n",
      "  [-2.89384069]]\n",
      "\n",
      " [[-3.5723896 ]\n",
      "  [ 1.13399463]\n",
      "  [ 1.23174555]\n",
      "  ...\n",
      "  [ 2.49989735]\n",
      "  [ 1.49493781]\n",
      "  [-1.02461918]]]\n"
     ]
    }
   ],
   "source": [
    "print(test)"
   ]
  },
  {
   "cell_type": "markdown",
   "metadata": {},
   "source": [
    "# The following in fact worked!"
   ]
  },
  {
   "cell_type": "code",
   "execution_count": 95,
   "metadata": {
    "collapsed": true
   },
   "outputs": [],
   "source": [
    "\n",
    "'''\n",
    "from pycbc.waveform import get_td_waveform\n",
    "from numpy.random import uniform, randint\n",
    "\n",
    "hp,hc=get_td_waveform(approximant=\"SEOBNRv4_opt\",\n",
    "                          mass1=36,    \n",
    "                          mass2=36,\n",
    "                          delta_t=1.0/4096,\n",
    "                          f_lower=20,\n",
    "                          distance=400)\n",
    "# randomly shift\n",
    "    # To fit the whole waveform in the 1 second window, need to specify a cyclic shift range. \n",
    "    # 0.08 act as buffer since signal still oscillates a little after merging.\n",
    "sigtime = abs(hp.start_time) + 0.08\n",
    "    \n",
    "if sigtime < 1:\n",
    "    # resize to window of 1 second\n",
    "    hp.resize(4096)\n",
    "    shift_range = 1 - sigtime\n",
    "    shifted = hp.cyclic_time_shift(uniform(0.0,shift_range))\n",
    "else:\n",
    "    totaltime = hp.duration\n",
    "    hp.start_time = 0\n",
    "    hp = hp.crop(0, totaltime - sigtime)\n",
    "    shifted = hp.crop(hp.duration-1,0)\n",
    "    \n",
    "    # reset start time\n",
    "shifted.start_time = 0\n",
    "'''"
   ]
  },
  {
   "cell_type": "code",
   "execution_count": 96,
   "metadata": {
    "collapsed": true
   },
   "outputs": [],
   "source": [
    "'''\n",
    "combined = np.asarray(shifted) + X[0]\n",
    "\n",
    "c=combined*(10**22)\n",
    "\n",
    "cc = c.reshape(4096,1)\n",
    "c = np.asarray(cc)\n",
    "test = [c]\n",
    "\n",
    "test = np.asarray(test)\n",
    "'''"
   ]
  },
  {
   "cell_type": "code",
   "execution_count": 99,
   "metadata": {},
   "outputs": [
    {
     "data": {
      "image/png": "[encoded data removed]",
      "text/plain": [
       "<Figure size 432x288 with 1 Axes>"
      ]
     },
     "metadata": {},
     "output_type": "display_data"
    }
   ],
   "source": [
    "from pycbc.waveform import get_td_waveform\n",
    "from numpy.random import uniform, randint\n",
    "\n",
    "hp,hc=get_td_waveform(approximant=\"SEOBNRv4_opt\",\n",
    "                          mass1=36,    \n",
    "                          mass2=36,\n",
    "                          delta_t=1.0/4096,\n",
    "                          f_lower=20,\n",
    "                          distance=1)\n",
    "\n",
    "pylab.plot(hp.sample_times, hp)\n",
    "pylab.xlabel('Time (s)')\n",
    "pylab.show()"
   ]
  },
  {
   "cell_type": "code",
   "execution_count": 100,
   "metadata": {},
   "outputs": [
    {
     "name": "stdout",
     "output_type": "stream",
     "text": [
      "dict_keys(['GW150914', 'GW151012', 'GW151226', 'GW170104', 'GW170608', 'GW170729', 'GW170809', 'GW170814', 'GW170817', 'GW170818', 'GW170823'])\n"
     ]
    }
   ],
   "source": [
    "import pycbc.catalog\n",
    "\n",
    "c = pycbc.catalog.Catalog()\n",
    "\n",
    "# Names of mergers in the catalog\n",
    "print(c.names)"
   ]
  }
 ],
 "metadata": {
  "kernelspec": {
   "display_name": "Python 3",
   "language": "python",
   "name": "python3"
  },
  "language_info": {
   "codemirror_mode": {
    "name": "ipython",
    "version": 3
   },
   "file_extension": ".py",
   "mimetype": "text/x-python",
   "name": "python",
   "nbconvert_exporter": "python",
   "pygments_lexer": "ipython3",
   "version": "3.6.8"
  }
 },
 "nbformat": 4,
 "nbformat_minor": 2
}

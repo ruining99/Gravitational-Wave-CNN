{
 "cells": [
  {
   "cell_type": "markdown",
   "metadata": {},
   "source": [
    "# Construct Dataset"
   ]
  },
  {
   "cell_type": "code",
   "execution_count": 4,
   "metadata": {},
   "outputs": [],
   "source": [
    "import pycbc.noise\n",
    "import pycbc.psd\n",
    "import pycbc.filter\n",
    "import pylab\n",
    "from pycbc.filter import sigma\n",
    "from pycbc.waveform import get_td_waveform\n",
    "from pycbc.types.timeseries import load_timeseries\n",
    "import matplotlib.pyplot as plt\n",
    "import pandas as pd\n",
    "import numpy as np\n",
    "from numpy.random import uniform, randint\n",
    "from tqdm import tqdm\n",
    "import seaborn as sns\n",
    "from sklearn.model_selection import train_test_split\n",
    "\n",
    "#import from other notebooks functions for data generation\n",
    "import sys\n",
    "sys.path.insert(0, '../functions')\n",
    "from ipynb.fs.defs.false_signals import random_false_sig, flip_gw, gaussPulse_2B, expsin_2B, sawtooth_2B, chirp_2B\n",
    "from ipynb.fs.defs.generate_data import noise, burried_gw, partial_burried_false, partial_burried_gw, burried_false, partial_burried_2B, burried_flip, visualize, bol, empty_gaussian"
   ]
  },
  {
   "cell_type": "markdown",
   "metadata": {},
   "source": [
    "Trial 2 information:\n",
    "- SNR 10 - 100 randomly generated, full\n",
    "- signals partially contained in windows of 1 second, >50%\n",
    "- masses randomly generated (ranges for masses shown below)\n",
    "- train and test generated in one batch. Then separate."
   ]
  },
  {
   "cell_type": "code",
   "execution_count": 5,
   "metadata": {
    "collapsed": true
   },
   "outputs": [],
   "source": [
    "# constants and variables\n",
    "mag = -21   # for false signals. Try to be close to the amplitude of gw signals\n",
    "select1 = bol(3,10000)\n",
    "select2 = bol(2,10000)"
   ]
  },
  {
   "cell_type": "code",
   "execution_count": 9,
   "metadata": {},
   "outputs": [
    {
     "name": "stderr",
     "output_type": "stream",
     "text": [
      "100%|██████████| 6000/6000 [30:47<00:00,  3.00it/s]\n"
     ]
    }
   ],
   "source": [
    "X = []\n",
    "y = []\n",
    "\n",
    "# extra data for regression trials\n",
    "reg_X = []\n",
    "reg_y = []\n",
    "\n",
    "# SNR 10-200 randomly generated\n",
    "# mass 10-100 randomly generated\n",
    "\n",
    "for i in tqdm(range(6000)):\n",
    "    \n",
    "    # true data\n",
    "    m1 = uniform(10,100)\n",
    "    m2 = uniform(10,100)\n",
    "    snr = uniform(10,100)\n",
    "    gww = burried_gw(m1, m2, snr)\n",
    "    X.append(np.asarray(gww))\n",
    "    reg_X.append(np.asarray(gww))\n",
    "    y.append(1)\n",
    "    reg_y.append([m1,m2])\n",
    "    \n",
    "    # Insert false flipped case as well as empty gaussian after every 4 true cases\n",
    "    if select1[i]:\n",
    "        wf = burried_flip(m1, m2, snr)\n",
    "        X.append(np.asarray(wf))\n",
    "        y.append(0)\n",
    "        \n",
    "        wf = noise(gww,snr)\n",
    "        X.append(np.asarray(wf))\n",
    "        y.append(0)\n",
    "        \n",
    "        wf = burried_false(-randint(20,23),snr)\n",
    "        X.append(np.asarray(wf))\n",
    "        y.append(0)\n",
    "    \n",
    "    # generate partial graviational wave\n",
    "    # with mass 10-100, snr 10-200, partial percentage 0.5-1\n",
    "    if select2[i]:\n",
    "        wf = partial_burried_gw(m1,m2, uniform(10,100),uniform(0.5,1))\n",
    "        X.append(np.asarray(wf))\n",
    "        reg_X.append(np.asarray(wf))\n",
    "        y.append(1)\n",
    "        reg_y.append([m1,m2])"
   ]
  },
  {
   "cell_type": "code",
   "execution_count": 10,
   "metadata": {},
   "outputs": [
    {
     "name": "stderr",
     "output_type": "stream",
     "text": [
      "100%|██████████| 3000/3000 [03:55<00:00, 12.72it/s]\n"
     ]
    }
   ],
   "source": [
    "# Generate partial false signals: snr 10-200, partial percentage 0.1-1\n",
    "for i in tqdm(range(3000)):\n",
    "    wf = partial_burried_false(-randint(20,23), uniform(10,100),uniform(0.1,1))\n",
    "    X.append(np.asarray(wf))\n",
    "    y.append(0)"
   ]
  },
  {
   "cell_type": "code",
   "execution_count": 11,
   "metadata": {
    "collapsed": true
   },
   "outputs": [],
   "source": [
    "# Save as dataframe\n",
    "X_df = pd.DataFrame(X)\n",
    "y_df = pd.DataFrame(y)\n",
    "reg_X_df = pd.DataFrame(reg_X)"
   ]
  },
  {
   "cell_type": "code",
   "execution_count": 12,
   "metadata": {
    "collapsed": true
   },
   "outputs": [],
   "source": [
    "reg_y_df = pd.DataFrame(reg_y)"
   ]
  },
  {
   "cell_type": "code",
   "execution_count": 13,
   "metadata": {
    "collapsed": true
   },
   "outputs": [],
   "source": [
    "# Since sklearn makes things a lot easier, can just store the whole data and split every time. \n",
    "# If want to recreate the split just use same random seed\n",
    "# write data into the same file under different keys\n",
    "\n",
    "# '''ALREADY DONE NO NEED REPEAT\n",
    "f_path = 'c_data_3A.h5'\n",
    "X_df.to_hdf(f_path, key='X', mode='w')\n",
    "y_df.to_hdf(f_path, key='y')\n",
    "reg_X_df.to_hdf(f_path, key='reg_X')\n",
    "reg_y_df.to_hdf(f_path, key='reg_y')\n",
    "#'''"
   ]
  },
  {
   "cell_type": "markdown",
   "metadata": {},
   "source": [
    "# Data Statistics"
   ]
  },
  {
   "cell_type": "code",
   "execution_count": 14,
   "metadata": {},
   "outputs": [
    {
     "name": "stdout",
     "output_type": "stream",
     "text": [
      "Number of data:  18000\n",
      "Percentage  50.0 % of data contains gw wave.\n"
     ]
    }
   ],
   "source": [
    "# statistic information\n",
    "print(\"Number of data: \",len(X))\n",
    "\n",
    "pos = 0\n",
    "for i in np.arange(len(X)):\n",
    "    pos += y[i]\n",
    "\n",
    "print(\"Percentage \",100* pos/len(X), \"% of data contains gw wave.\")"
   ]
  },
  {
   "cell_type": "code",
   "execution_count": null,
   "metadata": {
    "collapsed": true
   },
   "outputs": [],
   "source": []
  }
 ],
 "metadata": {
  "kernelspec": {
   "display_name": "Python 3",
   "language": "python",
   "name": "python3"
  },
  "language_info": {
   "codemirror_mode": {
    "name": "ipython",
    "version": 3
   },
   "file_extension": ".py",
   "mimetype": "text/x-python",
   "name": "python",
   "nbconvert_exporter": "python",
   "pygments_lexer": "ipython3",
   "version": "3.6.8"
  }
 },
 "nbformat": 4,
 "nbformat_minor": 2
}

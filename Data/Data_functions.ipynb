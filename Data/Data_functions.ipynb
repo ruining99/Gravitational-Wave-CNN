{
 "cells": [
  {
   "cell_type": "code",
   "execution_count": 1,
   "metadata": {},
   "outputs": [
    {
     "name": "stderr",
     "output_type": "stream",
     "text": [
      "PyCBC.libutils: pkg-config call failed, setting NO_PKGCONFIG=1\n"
     ]
    }
   ],
   "source": [
    "import pycbc.noise\n",
    "import pycbc.psd\n",
    "import pycbc.filter\n",
    "from pycbc.types import timeseries\n",
    "import numpy as np\n",
    "import matplotlib.pyplot as plt\n",
    "import pandas as pd\n",
    "import math\n",
    "from scipy import signal\n",
    "import matplotlib.pyplot as plt\n",
    "from numpy.random import uniform, randint\n",
    "import pylab\n",
    "from pycbc.filter import sigma\n",
    "from pycbc.waveform import get_td_waveform\n",
    "from pycbc.psd import interpolate\n",
    "from pycbc.types.timeseries import load_timeseries\n",
    "\n",
    "#import false signal functions\n",
    "from ipynb.fs.full.Falsig_functions import random_false_sig, flip_gw"
   ]
  },
  {
   "cell_type": "code",
   "execution_count": 2,
   "metadata": {
    "collapsed": true
   },
   "outputs": [],
   "source": [
    "# Generate 1 seconds of noise at 4096 Hz, randomized\n",
    "# argument:\n",
    "# sig: timeseries\n",
    "# snr: desired signal-noise ratio\n",
    "# output noise is scaled to desired snr\n",
    "\n",
    "def noise(sig,snr):\n",
    "    # psd\n",
    "    flow = 20.0\n",
    "    delta_f = 1.0 / 16\n",
    "    flen = int(2048 / delta_f) + 1\n",
    "    psd = pycbc.psd.aLIGOZeroDetHighPower(flen, delta_f, flow)\n",
    "    \n",
    "    # un-scaled noise\n",
    "    delta_t = 1.0 / 4096\n",
    "    tsamples = int(1.0 / delta_t)\n",
    "    ts = pycbc.noise.noise_from_psd(tsamples, delta_t, psd)\n",
    "    \n",
    "    # Scale\n",
    "    new_psd = pycbc.psd.estimate.interpolate(psd, sig.delta_f)  # First interpolate psd to desire delta_f\n",
    "    current_snr = sigma(sig, psd=new_psd, low_frequency_cutoff=20.0)\n",
    "    c = current_snr/snr\n",
    "    scaled_ts = c * ts\n",
    "\n",
    "    return scaled_ts"
   ]
  },
  {
   "cell_type": "code",
   "execution_count": 3,
   "metadata": {
    "collapsed": true
   },
   "outputs": [],
   "source": [
    "# Generate gravitational waveform with specified mass parameters.\n",
    "# Other arguments fixed\n",
    "# return the plus polarization\n",
    "\n",
    "# For the ease of merging, the waveform is shifted and its start_time is reset to 0.\n",
    "\n",
    "def gw(m1,m2):\n",
    "    hp,hc=get_td_waveform(approximant=\"SEOBNRv4_opt\",\n",
    "                          mass1=m1,    \n",
    "                          mass2=m2,\n",
    "                          delta_t=1.0/4096,\n",
    "                          f_lower=20,\n",
    "                          distance=100)\n",
    "    # resize to window of 1 second\n",
    "    hp.resize(4096)\n",
    "    \n",
    "    # randomly shift\n",
    "    # To fit the whole waveform in the 1 second window, need to specify a cyclic shift range. \n",
    "    # 0.05 act as buffer since signal still oscillates a little after merging.\n",
    "    shift_range = 1 - abs(hp.start_time)-0.05 \n",
    "    shifted = hp.cyclic_time_shift(uniform(0.0,shift_range))\n",
    "\n",
    "    # reset start time\n",
    "    shifted.start_time = 0\n",
    "    \n",
    "    return shifted\n",
    "    "
   ]
  },
  {
   "cell_type": "code",
   "execution_count": 4,
   "metadata": {
    "collapsed": true
   },
   "outputs": [],
   "source": [
    "def burried_gw(m1,m2,snr):\n",
    "    sig = gw(m1,m2)\n",
    "    noi = noise(sig,snr)\n",
    "    \n",
    "    return noi + sig"
   ]
  },
  {
   "cell_type": "code",
   "execution_count": 5,
   "metadata": {
    "collapsed": true
   },
   "outputs": [],
   "source": [
    "def burried_false(mag,snr):\n",
    "    fal = random_false_sig(mag)\n",
    "    fal.resize(4096)\n",
    "    noi = noise(fal,snr)\n",
    "    \n",
    "    return noi + fal"
   ]
  },
  {
   "cell_type": "code",
   "execution_count": 6,
   "metadata": {
    "collapsed": true
   },
   "outputs": [],
   "source": [
    "def burried_flip(m1,m2,snr):\n",
    "    hp = gw(m1,m2)\n",
    "    flipped = flip_gw(hp)\n",
    "    noi = noise(hp,snr)\n",
    "    \n",
    "    return noi + flipped"
   ]
  },
  {
   "cell_type": "code",
   "execution_count": 7,
   "metadata": {
    "collapsed": true
   },
   "outputs": [],
   "source": [
    "# A crude visualization because not sure how to tune parameters for qtransform.\n",
    "# Show the plot\n",
    "\n",
    "def visualize(wave):\n",
    "    times, freqs, power = wave.qtransform(.001, logfsteps=100,\n",
    "                                                qrange=(4, 4),\n",
    "                                                frange=(20, 512),)\n",
    "    pylab.figure(figsize=[15, 3])\n",
    "    pylab.pcolormesh(times, freqs, power**0.5)\n",
    "    pylab.yscale('log')\n",
    "    pylab.show()"
   ]
  },
  {
   "cell_type": "code",
   "execution_count": 12,
   "metadata": {},
   "outputs": [
    {
     "data": {
      "text/plain": [
       "'\\n# test\\ntest1 = burried_gw(30,35,1000)\\ntest2 = burried_flip(30,35,1000)\\ntest3 = burried_false(-20,1000)\\n\\n# plot\\npylab.plot(test1.sample_times, test1)\\npylab.show()\\n# plot\\npylab.plot(test2.sample_times, test2)\\npylab.show()\\n# plot\\npylab.plot(test3.sample_times, test3)\\npylab.show()\\n\\nvisualize(test1)\\n'"
      ]
     },
     "execution_count": 12,
     "metadata": {},
     "output_type": "execute_result"
    }
   ],
   "source": [
    "'''\n",
    "# test\n",
    "test1 = burried_gw(30,35,1000)\n",
    "test2 = burried_flip(30,35,1000)\n",
    "test3 = burried_false(-20,1000)\n",
    "\n",
    "# plot\n",
    "pylab.plot(test1.sample_times, test1)\n",
    "pylab.show()\n",
    "# plot\n",
    "pylab.plot(test2.sample_times, test2)\n",
    "pylab.show()\n",
    "# plot\n",
    "pylab.plot(test3.sample_times, test3)\n",
    "pylab.show()\n",
    "\n",
    "visualize(test1)\n",
    "'''"
   ]
  },
  {
   "cell_type": "code",
   "execution_count": null,
   "metadata": {
    "collapsed": true
   },
   "outputs": [],
   "source": []
  }
 ],
 "metadata": {
  "kernelspec": {
   "display_name": "Python 3",
   "language": "python",
   "name": "python3"
  },
  "language_info": {
   "codemirror_mode": {
    "name": "ipython",
    "version": 3
   },
   "file_extension": ".py",
   "mimetype": "text/x-python",
   "name": "python",
   "nbconvert_exporter": "python",
   "pygments_lexer": "ipython3",
   "version": "3.6.8"
  }
 },
 "nbformat": 4,
 "nbformat_minor": 2
}

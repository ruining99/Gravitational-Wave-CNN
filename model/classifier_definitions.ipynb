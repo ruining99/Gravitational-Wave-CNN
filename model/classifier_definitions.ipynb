{
 "cells": [
  {
   "cell_type": "code",
   "execution_count": 30,
   "metadata": {
    "collapsed": true,
    "scrolled": true
   },
   "outputs": [],
   "source": [
    "import matplotlib.pyplot as plt\n",
    "from keras.utils import to_categorical\n",
    "from keras.models import Sequential\n",
    "from keras.layers import Dense, Conv1D, Flatten, MaxPooling1D, Activation,AveragePooling1D\n",
    "import numpy as np\n",
    "import pandas as pd\n",
    "from keras import initializers"
   ]
  },
  {
   "cell_type": "code",
   "execution_count": 1,
   "metadata": {
    "collapsed": true
   },
   "outputs": [],
   "source": [
    "# construct the model used for classifier\n",
    "# In our case the input shape is (4096,1) and is already included.\n",
    "\n",
    "def classifier1():  \n",
    "    \n",
    "    model = Sequential()\n",
    "    # 3 \"convo+pooling\" layers\n",
    "    model.add(Conv1D(filters=16, kernel_size=17, strides=1, input_shape=(4096,1)))\n",
    "    model.add(MaxPooling1D(pool_size=4, strides=4))\n",
    "    model.add(Activation('relu'))\n",
    "    \n",
    "    model.add(Conv1D(filters=32, kernel_size=29, strides=1))\n",
    "    model.add(MaxPooling1D(pool_size=4, strides=4))\n",
    "    model.add(Activation('relu'))\n",
    "    \n",
    "    model.add(Conv1D(filters=64, kernel_size=29, strides=1))\n",
    "    model.add(MaxPooling1D(pool_size=4, strides=4))\n",
    "    model.add(Activation('relu'))\n",
    "\n",
    "    #flatten & linear layers\n",
    "    model.add(Flatten())\n",
    "    model.add(Dense(64))\n",
    "    model.add(Activation('relu'))\n",
    "\n",
    "    #Classify if there is a merger waveform, output probabilistic\n",
    "    model.add(Dense(2, activation=\"softmax\"))\n",
    "\n",
    "    return model"
   ]
  },
  {
   "cell_type": "code",
   "execution_count": 24,
   "metadata": {
    "collapsed": true
   },
   "outputs": [],
   "source": [
    "def classifier2():    \n",
    "    model = Sequential()\n",
    "    # 3 \"convo+pooling\" layers\n",
    "    model.add(Conv1D(filters=16, kernel_size=17, strides=1, input_shape=(4096,1)))\n",
    "    model.add(AveragePooling1D(pool_size=4, strides=4))\n",
    "    model.add(Activation('relu'))\n",
    "    \n",
    "    model.add(Conv1D(filters=32, kernel_size=29, strides=1))\n",
    "    model.add(AveragePooling1D(pool_size=4, strides=4))\n",
    "    model.add(Activation('relu'))\n",
    "    \n",
    "    #model.add(Conv1D(filters=64, kernel_size=29, strides=1))\n",
    "    #model.add(AveragePooling1D(pool_size=4, strides=4))\n",
    "    #model.add(Activation('relu'))\n",
    "\n",
    "    #flatten & linear layers\n",
    "    model.add(Flatten())\n",
    "    model.add(Dense(64, activation=\"relu\"))\n",
    "\n",
    "    #Classify if there is a merger waveform, output probabilistic\n",
    "    model.add(Dense(2, activation=\"softmax\"))\n",
    "\n",
    "    return model"
   ]
  },
  {
   "cell_type": "code",
   "execution_count": 25,
   "metadata": {
    "collapsed": true
   },
   "outputs": [],
   "source": [
    "def classifier3():    \n",
    "    model = Sequential()\n",
    "    # 3 \"convo+pooling\" layers\n",
    "    model.add(Conv1D(filters=16, kernel_size=17, strides=1, input_shape=(4096,1)))\n",
    "    model.add(AveragePooling1D(pool_size=4, strides=4))\n",
    "    model.add(Activation('relu'))\n",
    "    \n",
    "    model.add(Conv1D(filters=32, kernel_size=29, strides=1))\n",
    "    model.add(AveragePooling1D(pool_size=4, strides=4))\n",
    "    model.add(Activation('relu'))\n",
    "    \n",
    "    model.add(Conv1D(filters=64, kernel_size=29, strides=1))\n",
    "    model.add(AveragePooling1D(pool_size=4, strides=4))\n",
    "    model.add(Activation('relu'))\n",
    "\n",
    "    model.add(Conv1D(filters=64, kernel_size=29, strides=1))\n",
    "    model.add(AveragePooling1D(pool_size=4, strides=4))\n",
    "    model.add(Activation('relu'))\n",
    "    \n",
    "    #flatten & linear layers\n",
    "    model.add(Flatten())\n",
    "    model.add(Dense(64, activation=\"relu\"))\n",
    "\n",
    "    #Classify if there is a merger waveform, output probabilistic\n",
    "    model.add(Dense(2, activation=\"softmax\"))\n",
    "\n",
    "    return model"
   ]
  },
  {
   "cell_type": "code",
   "execution_count": null,
   "metadata": {
    "collapsed": true
   },
   "outputs": [],
   "source": []
  }
 ],
 "metadata": {
  "kernelspec": {
   "display_name": "Python 3",
   "language": "python",
   "name": "python3"
  },
  "language_info": {
   "codemirror_mode": {
    "name": "ipython",
    "version": 3
   },
   "file_extension": ".py",
   "mimetype": "text/x-python",
   "name": "python",
   "nbconvert_exporter": "python",
   "pygments_lexer": "ipython3",
   "version": "3.6.8"
  }
 },
 "nbformat": 4,
 "nbformat_minor": 2
}

{
 "cells": [
  {
   "cell_type": "code",
   "execution_count": 1,
   "metadata": {},
   "outputs": [
    {
     "name": "stderr",
     "output_type": "stream",
     "text": [
      "PyCBC.libutils: pkg-config call failed, setting NO_PKGCONFIG=1\n"
     ]
    }
   ],
   "source": [
    "# importing the libraries\n",
    "\n",
    "from pycbc.types import timeseries\n",
    "import numpy as np\n",
    "import matplotlib.pyplot as plt\n",
    "import pandas as pd\n",
    "import math\n",
    "from scipy import signal\n",
    "import matplotlib.pyplot as plt\n",
    "from numpy.random import uniform, randint\n",
    "import pycbc.noise\n",
    "import pycbc.psd\n",
    "import pycbc.filter\n",
    "import pylab\n",
    "from pycbc.filter import sigma\n",
    "from pycbc.waveform import get_td_waveform\n",
    "from pycbc.psd import interpolate\n",
    "from pycbc.types.timeseries import load_timeseries"
   ]
  },
  {
   "cell_type": "markdown",
   "metadata": {},
   "source": [
    "The following functions simulate false waveforms in a random manner.\n",
    "\n",
    "The waveform is saved under '/Users/DRRRR/Desktop/pyCBC/false_signal.txt'\n",
    "\n",
    "It can be loaded as pycbc time series using load_timeseries('/Users/DRRRR/Desktop/pyCBC/false_signal.txt').\n",
    "\n",
    "The only argument required is the length of the waveform t.\n",
    "\n",
    "The false waveforms have randomized amlitude on the scale: 1; yet random_false_sig asks for amplitude magnitude"
   ]
  },
  {
   "cell_type": "code",
   "execution_count": 2,
   "metadata": {
    "collapsed": true,
    "scrolled": false
   },
   "outputs": [],
   "source": [
    "def damp_sin(t):\n",
    "    # simulate a damping sinusoidal time series\n",
    "    nsample = 4096\n",
    "    a = uniform(0.0,200.0)   # frequency factor\n",
    "    b = uniform(0.0,250.0)   # damping factor\n",
    "    \n",
    "    x = np.linspace(0, t, nsample+1)\n",
    "    y = np.sin(x*a) / (x*b+1)\n",
    "    data = pd.Series(y, index=x)\n",
    "    data *= uniform(0.1,10.0)\n",
    "    return data"
   ]
  },
  {
   "cell_type": "code",
   "execution_count": 3,
   "metadata": {
    "collapsed": true,
    "scrolled": false
   },
   "outputs": [],
   "source": [
    "def exp_sin(t):\n",
    "    # simulate a damping sinusoidal time series\n",
    "    nsample = 4096\n",
    "    a = uniform(0.0,200.0)   # frequency factor\n",
    "    b = randint(1,5)   # envelop exponential function order\n",
    "    \n",
    "    x = np.linspace(0, t, nsample+1)\n",
    "    y = np.sin(x*a) * (x**b)\n",
    "    data = pd.Series(y, index=x)\n",
    "    data *= uniform(0.0,10.0)\n",
    "    return data"
   ]
  },
  {
   "cell_type": "code",
   "execution_count": 4,
   "metadata": {
    "collapsed": true
   },
   "outputs": [],
   "source": [
    "def mysquare(t): \n",
    "    # simulate a square wave \n",
    "    nsample = 4096\n",
    "    a = randint(1,50)    # frequency factor\n",
    "    b = randint(0,10)   # periodity information\n",
    "    \n",
    "    x = np.linspace(0, t, nsample+1)\n",
    "    sig = np.sin(b * np.pi * x)\n",
    "    y = signal.square(a * np.pi * x, duty=(sig + 1)/2)\n",
    "    \n",
    "    data = pd.Series(y, index=x)\n",
    "    data *= uniform(0.0,10.0)\n",
    "    return data"
   ]
  },
  {
   "cell_type": "code",
   "execution_count": 5,
   "metadata": {
    "collapsed": true
   },
   "outputs": [],
   "source": [
    "def mysawtooth(t): \n",
    "    # simulate a square wave \n",
    "    nsample = 4096\n",
    "    a = randint(1,50)   # frequency factor\n",
    "    \n",
    "    x = np.linspace(0, t, nsample+1)\n",
    "    y = signal.sawtooth(a * np.pi * x) \n",
    "    \n",
    "    data = pd.Series(y, index=x)\n",
    "    data *= uniform(0.0,10.0)\n",
    "    return data"
   ]
  },
  {
   "cell_type": "code",
   "execution_count": 6,
   "metadata": {
    "collapsed": true
   },
   "outputs": [],
   "source": [
    "def myGaussPulse(t):\n",
    "    # simulate a Gaussian pulse \n",
    "    nsample = 4096   \n",
    "    fc = randint(1,500)   # widness of waveform\n",
    "    power = randint(1,6)\n",
    "    even = randint(0,2)\n",
    "    \n",
    "    x = np.linspace(-t/2.0, t/2.0, nsample+1)\n",
    "    i, q, e = signal.gausspulse(x**power, fc=fc, retquad=True, retenv=True)\n",
    "    if even == 0:\n",
    "        data = pd.Series(i, index=x)\n",
    "    else:\n",
    "        data = pd.Series(q, index=x)\n",
    "    data *= uniform(0.0,10.0)\n",
    "    return data"
   ]
  },
  {
   "cell_type": "code",
   "execution_count": 7,
   "metadata": {
    "collapsed": true
   },
   "outputs": [],
   "source": [
    "def myChirp(t):\n",
    "    # Generate a linear chirp\n",
    "    nsample = 4096  \n",
    "    f0 = np.random.uniform(0.0,40.0)   # f0 how fast change, the lower the faster\n",
    "    f1 = np.random.uniform(0.0,20.0)   # f1 frequency information\n",
    "\n",
    "    x = np.linspace(0, t, nsample+1)\n",
    "    y = signal.chirp(x, f0=f0, f1=f1, t1=np.random.uniform(0.0,0.8), method='linear')\n",
    "    data = pd.Series(y, index=x)\n",
    "    data *= uniform(0.0,10.0)\n",
    "    return data"
   ]
  },
  {
   "cell_type": "code",
   "execution_count": 8,
   "metadata": {
    "collapsed": true
   },
   "outputs": [],
   "source": [
    "# randomly generate one of the following 6 types of signals.\n",
    "# Create a file temporary.txt in local directory\n",
    "# if the txt already exist, will update the content\n",
    "# total length generated will be resized to 1 second\n",
    "# magitude of the false signal, 10*mag\n",
    "\n",
    "def random_false_sig(mag):\n",
    "    i = randint(0,6)\n",
    "    if i==0:\n",
    "        data = damp_sin(1)\n",
    "    elif i==1:            \n",
    "        data = exp_sin(1)\n",
    "    elif i==2:            \n",
    "        data = mysquare(1)\n",
    "    elif i==3:            \n",
    "        data = mysawtooth(1)\n",
    "    elif i==4:            \n",
    "        data = myGaussPulse(1)\n",
    "    else:            \n",
    "        data = myChirp(1)\n",
    "    data *= 10**mag \n",
    "    \n",
    "    # Convert into a pycbc timeseries using the following method\n",
    "    f_path = 'temporary.txt'\n",
    "    f= open(f_path,\"w+\").close()\n",
    "    data.to_csv(f_path,sep=' ')\n",
    "    ts = load_timeseries(f_path)\n",
    "    ts.start_time = 0\n",
    "    \n",
    "    return ts"
   ]
  },
  {
   "cell_type": "code",
   "execution_count": 9,
   "metadata": {
    "collapsed": true
   },
   "outputs": [],
   "source": [
    "# return the time inverse of the gravitational wave template: \"flip\" the template\n",
    "\n",
    "def flip_gw(hp):  \n",
    "    data = pd.Series(np.flip(np.asarray(hp)), index=hp.sample_times)\n",
    "    \n",
    "    #save file\n",
    "    f_path = 'temporary.txt'\n",
    "    f= open(f_path,\"w+\").close()\n",
    "    data.to_csv(f_path,sep=' ')\n",
    "    flipped = load_timeseries(f_path)\n",
    "    \n",
    "    flipped.start_time = 0\n",
    "    \n",
    "    return flipped"
   ]
  },
  {
   "cell_type": "code",
   "execution_count": 10,
   "metadata": {},
   "outputs": [
    {
     "data": {
      "text/plain": [
       "'\\n\\n# example\\n\\nhp,hc=get_td_waveform(approximant=\"SEOBNRv4_opt\",\\n                             mass1=40,    \\n                             mass2=55,\\n                             delta_t=1.0/4096,\\n                             f_lower=20,\\n                             distance=100)\\n\\npylab.plot(hp.sample_times, hp, label=\\'original\\') \\npylab.xlabel(\"Time (s)\")\\npylab.show()\\n\\nshifted = hp.cyclic_time_shift(0.1)\\npylab.plot(shifted.sample_times, shifted, label=\\'shifted\\') \\npylab.xlabel(\"Time (s)\")\\npylab.show()\\n\\nflipped = flip_gw(shifted)\\npylab.plot(flipped.sample_times, flipped) \\npylab.xlabel(\"Time (s)\")\\npylab.show()\\n\\n'"
      ]
     },
     "execution_count": 10,
     "metadata": {},
     "output_type": "execute_result"
    }
   ],
   "source": [
    "'''\n",
    "\n",
    "# example\n",
    "\n",
    "hp,hc=get_td_waveform(approximant=\"SEOBNRv4_opt\",\n",
    "                             mass1=40,    \n",
    "                             mass2=55,\n",
    "                             delta_t=1.0/4096,\n",
    "                             f_lower=20,\n",
    "                             distance=100)\n",
    "\n",
    "pylab.plot(hp.sample_times, hp, label='original') \n",
    "pylab.xlabel(\"Time (s)\")\n",
    "pylab.show()\n",
    "\n",
    "shifted = hp.cyclic_time_shift(0.1)\n",
    "pylab.plot(shifted.sample_times, shifted, label='shifted') \n",
    "pylab.xlabel(\"Time (s)\")\n",
    "pylab.show()\n",
    "\n",
    "flipped = flip_gw(shifted)\n",
    "pylab.plot(flipped.sample_times, flipped) \n",
    "pylab.xlabel(\"Time (s)\")\n",
    "pylab.show()\n",
    "\n",
    "'''"
   ]
  }
 ],
 "metadata": {
  "kernelspec": {
   "display_name": "Python 3",
   "language": "python",
   "name": "python3"
  },
  "language_info": {
   "codemirror_mode": {
    "name": "ipython",
    "version": 3
   },
   "file_extension": ".py",
   "mimetype": "text/x-python",
   "name": "python",
   "nbconvert_exporter": "python",
   "pygments_lexer": "ipython3",
   "version": "3.6.8"
  }
 },
 "nbformat": 4,
 "nbformat_minor": 2
}

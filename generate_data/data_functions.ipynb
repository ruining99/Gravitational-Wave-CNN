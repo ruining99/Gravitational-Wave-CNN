{
 "cells": [
  {
   "cell_type": "code",
   "execution_count": 177,
   "metadata": {},
   "outputs": [
    {
     "ename": "ImportError",
     "evalue": "cannot import name 'gaussPulse_2B'",
     "output_type": "error",
     "traceback": [
      "\u001b[0;31m---------------------------------------------------------------------------\u001b[0m",
      "\u001b[0;31mImportError\u001b[0m                               Traceback (most recent call last)",
      "\u001b[0;32m<ipython-input-177-16ec38e3c07d>\u001b[0m in \u001b[0;36m<module>\u001b[0;34m()\u001b[0m\n\u001b[1;32m     17\u001b[0m \u001b[0;34m\u001b[0m\u001b[0m\n\u001b[1;32m     18\u001b[0m \u001b[0;31m#import false signal functions\u001b[0m\u001b[0;34m\u001b[0m\u001b[0;34m\u001b[0m\u001b[0;34m\u001b[0m\u001b[0m\n\u001b[0;32m---> 19\u001b[0;31m \u001b[0;32mfrom\u001b[0m \u001b[0mipynb\u001b[0m\u001b[0;34m.\u001b[0m\u001b[0mfs\u001b[0m\u001b[0;34m.\u001b[0m\u001b[0mfull\u001b[0m\u001b[0;34m.\u001b[0m\u001b[0mfalsig_functions\u001b[0m \u001b[0;32mimport\u001b[0m \u001b[0mrandom_false_sig\u001b[0m\u001b[0;34m,\u001b[0m \u001b[0mflip_gw\u001b[0m\u001b[0;34m,\u001b[0m \u001b[0mgaussPulse_2B\u001b[0m\u001b[0;34m,\u001b[0m \u001b[0mexpsin_2B\u001b[0m\u001b[0;34m,\u001b[0m \u001b[0msawtooth_2B\u001b[0m\u001b[0;34m,\u001b[0m \u001b[0mchirp_2B\u001b[0m\u001b[0;34m\u001b[0m\u001b[0;34m\u001b[0m\u001b[0m\n\u001b[0m",
      "\u001b[0;31mImportError\u001b[0m: cannot import name 'gaussPulse_2B'"
     ]
    }
   ],
   "source": [
    "import pycbc.noise\n",
    "import pycbc.psd\n",
    "import pycbc.filter\n",
    "from pycbc.types import timeseries\n",
    "import numpy as np\n",
    "import matplotlib.pyplot as plt\n",
    "import pandas as pd\n",
    "import math\n",
    "from scipy import signal\n",
    "import matplotlib.pyplot as plt\n",
    "from numpy.random import uniform, randint\n",
    "import pylab\n",
    "from pycbc.filter import sigma\n",
    "from pycbc.waveform import get_td_waveform\n",
    "from pycbc.psd import interpolate\n",
    "from pycbc.types.timeseries import load_timeseries\n",
    "\n",
    "#import false signal functions\n",
    "from ipynb.fs.full.falsig_functions import random_false_sig, flip_gw, gaussPulse_2B, expsin_2B, sawtooth_2B, chirp_2B"
   ]
  },
  {
   "cell_type": "code",
   "execution_count": 164,
   "metadata": {
    "collapsed": true
   },
   "outputs": [],
   "source": [
    "# Generate 1 seconds of noise at 4096 Hz, randomized\n",
    "# argument:\n",
    "# sig: timeseries\n",
    "# snr: desired signal-noise ratio\n",
    "# output noise is scaled to desired snr\n",
    "\n",
    "def noise(sig,snr):\n",
    "    # psd\n",
    "    flow = 20.0\n",
    "    delta_f = 1.0 / 16\n",
    "    flen = int(2048 / delta_f) + 1\n",
    "    psd = pycbc.psd.aLIGOZeroDetHighPower(flen, delta_f, flow)\n",
    "    \n",
    "    # un-scaled noise\n",
    "    delta_t = 1.0 / 4096\n",
    "    tsamples = int(1.0 / delta_t)\n",
    "    ts = pycbc.noise.noise_from_psd(tsamples, delta_t, psd)\n",
    "    \n",
    "    # Scale\n",
    "    new_psd = pycbc.psd.estimate.interpolate(psd, sig.delta_f)  # First interpolate psd to desire delta_f\n",
    "    current_snr = sigma(sig, psd=new_psd, low_frequency_cutoff=20.0)\n",
    "    c = current_snr/snr\n",
    "    scaled_ts = c * ts\n",
    "\n",
    "    return scaled_ts"
   ]
  },
  {
   "cell_type": "code",
   "execution_count": 165,
   "metadata": {
    "collapsed": true
   },
   "outputs": [],
   "source": [
    "# Generate gravitational waveform with specified mass parameters.\n",
    "# Other arguments fixed\n",
    "# return the plus polarization\n",
    "\n",
    "# For the ease of merging, the waveform is shifted and its start_time is reset to 0.\n",
    "\n",
    "def gw(m1,m2):\n",
    "    hp,hc=get_td_waveform(approximant=\"SEOBNRv4_opt\",\n",
    "                          mass1=m1,    \n",
    "                          mass2=m2,\n",
    "                          delta_t=1.0/4096,\n",
    "                          f_lower=20,\n",
    "                          distance=100)\n",
    "    # resize to window of 1 second\n",
    "    hp.resize(4096)\n",
    "    \n",
    "    # randomly shift\n",
    "    # To fit the whole waveform in the 1 second window, need to specify a cyclic shift range. \n",
    "    # 0.05 act as buffer since signal still oscillates a little after merging.\n",
    "    shift_range = 1 - abs(hp.start_time)-0.05 \n",
    "    shifted = hp.cyclic_time_shift(uniform(0.0,shift_range))\n",
    "\n",
    "    # reset start time\n",
    "    shifted.start_time = 0\n",
    "    \n",
    "    return shifted\n",
    "    "
   ]
  },
  {
   "cell_type": "code",
   "execution_count": 166,
   "metadata": {
    "collapsed": true
   },
   "outputs": [],
   "source": [
    "def burried_gw(m1,m2,snr):\n",
    "    sig = gw(m1,m2)\n",
    "    noi = noise(sig,snr)\n",
    "    \n",
    "    return noi + sig"
   ]
  },
  {
   "cell_type": "code",
   "execution_count": 167,
   "metadata": {
    "collapsed": true
   },
   "outputs": [],
   "source": [
    "def burried_false(mag,snr):\n",
    "    fal = random_false_sig(mag)\n",
    "    fal.resize(4096)\n",
    "    noi = noise(fal,snr)\n",
    "    \n",
    "    return noi + fal"
   ]
  },
  {
   "cell_type": "code",
   "execution_count": 168,
   "metadata": {
    "collapsed": true
   },
   "outputs": [],
   "source": [
    "def burried_flip(m1,m2,snr):\n",
    "    hp = gw(m1,m2)\n",
    "    flipped = flip_gw(hp)\n",
    "    noi = noise(hp,snr)\n",
    "    \n",
    "    return noi + flipped"
   ]
  },
  {
   "cell_type": "code",
   "execution_count": 169,
   "metadata": {
    "collapsed": true
   },
   "outputs": [],
   "source": [
    "# scaling factor. Originally noise contained within around 1*10^-21\n",
    "def empty_gaussian(c):\n",
    "    # psd\n",
    "    flow = 20.0\n",
    "    delta_f = 1.0 / 16\n",
    "    flen = int(2048 / delta_f) + 1\n",
    "    psd = pycbc.psd.aLIGOZeroDetHighPower(flen, delta_f, flow)\n",
    "    \n",
    "    # un-scaled noise\n",
    "    delta_t = 1.0 / 4096\n",
    "    tsamples = int(1.0 / delta_t)\n",
    "    ts = pycbc.noise.noise_from_psd(tsamples, delta_t, psd)\n",
    "    \n",
    "    # Scale\n",
    "    scaled_ts = c * ts\n",
    "\n",
    "    return scaled_ts"
   ]
  },
  {
   "cell_type": "code",
   "execution_count": 170,
   "metadata": {
    "collapsed": true
   },
   "outputs": [],
   "source": [
    "# A crude visualization because not sure how to tune parameters for qtransform.\n",
    "# Show the plot\n",
    "\n",
    "def visualize(wave):\n",
    "    times, freqs, power = wave.qtransform(.001, logfsteps=100,\n",
    "                                                qrange=(4, 4),\n",
    "                                                frange=(20, 512),)\n",
    "    pylab.figure(figsize=[15, 3])\n",
    "    pylab.pcolormesh(times, freqs, power**0.5)\n",
    "    pylab.yscale('log')\n",
    "    pylab.show()"
   ]
  },
  {
   "cell_type": "code",
   "execution_count": 171,
   "metadata": {
    "scrolled": true
   },
   "outputs": [
    {
     "data": {
      "text/plain": [
       "'\\n# test\\ntest1 = burried_gw(30,35,1000)\\ntest2 = burried_flip(30,35,1000)\\ntest3 = burried_false(-21,1000)\\n\\n# plot\\npylab.plot(test1.sample_times, test1)\\npylab.show()\\n# plot\\npylab.plot(test2.sample_times, test2)\\npylab.show()\\n# plot\\npylab.plot(test3.sample_times, test3)\\npylab.show()\\n\\nvisualize(test1)\\nvisualize(test3)\\n\\n'"
      ]
     },
     "execution_count": 171,
     "metadata": {},
     "output_type": "execute_result"
    }
   ],
   "source": [
    "'''\n",
    "# test\n",
    "test1 = burried_gw(30,35,1000)\n",
    "test2 = burried_flip(30,35,1000)\n",
    "test3 = burried_false(-21,1000)\n",
    "\n",
    "# plot\n",
    "pylab.plot(test1.sample_times, test1)\n",
    "pylab.show()\n",
    "# plot\n",
    "pylab.plot(test2.sample_times, test2)\n",
    "pylab.show()\n",
    "# plot\n",
    "pylab.plot(test3.sample_times, test3)\n",
    "pylab.show()\n",
    "\n",
    "visualize(test1)\n",
    "visualize(test3)\n",
    "\n",
    "'''"
   ]
  },
  {
   "cell_type": "code",
   "execution_count": 172,
   "metadata": {
    "collapsed": true
   },
   "outputs": [],
   "source": [
    "# define a function to transform numpy array to pycbc timeseries.\n",
    "\n",
    "def convert(w):\n",
    "    # get sample times\n",
    "    hp,hc=get_td_waveform(approximant=\"SEOBNRv4_opt\",\n",
    "                          mass1=20,    \n",
    "                          mass2=20,\n",
    "                          delta_t=1.0/4096,\n",
    "                          f_lower=20,\n",
    "                          distance=100)\n",
    "    hp.resize(4096)\n",
    "    hp.start_time = 0\n",
    "    times = hp.sample_times\n",
    "    \n",
    "    wform = pd.Series(w, index =times)\n",
    "    \n",
    "    # get pycbc series!\n",
    "    f_path = 'temporary.txt'\n",
    "    f= open(f_path,\"w+\").close()\n",
    "    wform.to_csv(f_path,sep=' ')\n",
    "    wform = load_timeseries(f_path)\n",
    "    \n",
    "    return wform"
   ]
  },
  {
   "cell_type": "code",
   "execution_count": 173,
   "metadata": {
    "collapsed": true
   },
   "outputs": [],
   "source": [
    "# Output one True after every k False, total length n\n",
    "# For data selection purpose\n",
    "def bol(k,n):\n",
    "    bol = []\n",
    "    for i in np.arange(n/(k)):\n",
    "        for l in np.arange(k-1):\n",
    "            bol.append(False)\n",
    "        bol.append(True)\n",
    "    return bol"
   ]
  },
  {
   "cell_type": "code",
   "execution_count": 174,
   "metadata": {
    "collapsed": true
   },
   "outputs": [],
   "source": [
    "# return partial_burried_false_signals \n",
    "# magnitude and snr same as burried_false\n",
    "# percentage: keep 0 to 1 of the waveform, randomly chosen from anypart of the original waveform\n",
    "\n",
    "def partial_burried_false(mag,snr,percentage):\n",
    "    fal = random_false_sig(mag)\n",
    "    fal.resize(4096)\n",
    "    noi = noise(fal,snr)\n",
    "    \n",
    "    # left + right = 1 - percentage\n",
    "    left = uniform(0,1-percentage)\n",
    "    right = (1-percentage)-left\n",
    "    fal = fal.crop(left, right)\n",
    "    \n",
    "    # complete to 4096 data\n",
    "    zeros = 4096 - len(fal)\n",
    "    left_zeros = randint(zeros+1)\n",
    "    right_zeros = zeros - left_zeros \n",
    "    fal.append_zeros(right_zeros)\n",
    "    fal.prepend_zeros(left_zeros)\n",
    "    \n",
    "    fal.start_time = 0\n",
    "    \n",
    "    return fal+noi\n",
    "    "
   ]
  },
  {
   "cell_type": "code",
   "execution_count": 175,
   "metadata": {
    "collapsed": true
   },
   "outputs": [],
   "source": [
    "# return partial_burried_signals \n",
    "# magnitude and snr same as burried_false\n",
    "# percentage: keep 0 to 1 of the waveform, randomly chosen from anypart of the original waveform\n",
    "\n",
    "\n",
    "def partial_burried_gw(m1,m2,snr,percentage):\n",
    "\n",
    "    #differ from false signals because not the whole 1 second is gw\n",
    "    hp,hc=get_td_waveform(approximant=\"SEOBNRv4_opt\",\n",
    "                          mass1=m1,    \n",
    "                          mass2=m2,\n",
    "                          delta_t=1.0/4096,\n",
    "                          f_lower=20,\n",
    "                          distance=100)\n",
    "    \n",
    "    # crop the zeros that usually follows the merger\n",
    "    # length of the merger signal (up till 0.0s the merge and add 0.05 for the remaining impact after 1 second)\n",
    "    sigtime = - hp.start_time + 0.05\n",
    "    totaltime = hp.duration\n",
    "    hp.start_time = 0\n",
    "    hp = hp.crop(0, totaltime - sigtime)\n",
    "    \n",
    "    # left + right = 1 - percentage\n",
    "    left = uniform(0, 1-percentage) * sigtime\n",
    "    right = ((1-percentage)-left) * sigtime\n",
    "    hp = hp.crop(left, right)\n",
    "    \n",
    "    # complete to 4096 data\n",
    "    zeros = 4096 - len(hp)\n",
    "    left_zeros = randint(zeros+1)\n",
    "    right_zeros = zeros - left_zeros \n",
    "    hp.append_zeros(right_zeros)\n",
    "    hp.prepend_zeros(left_zeros)\n",
    "    \n",
    "    noi = noise(hp,snr)\n",
    "    \n",
    "    hp.start_time = 0\n",
    "    \n",
    "    return noi + hp"
   ]
  },
  {
   "cell_type": "code",
   "execution_count": 176,
   "metadata": {
    "collapsed": true
   },
   "outputs": [],
   "source": [
    "# stronger version of last one: open up mass range to be anything, because we can just crop it to 1 second\n",
    "def partial_burried_gw_jr(m1,m2,snr,percentage):\n",
    "       \n",
    "    #differ from false signals because not the whole 1 second is gw\n",
    "    hp,hc=get_td_waveform(approximant=\"SEOBNRv4_opt\",\n",
    "                          mass1=m1,    \n",
    "                          mass2=m2,\n",
    "                          delta_t=1.0/4096,\n",
    "                          f_lower=20,\n",
    "                          distance=100)\n",
    "    noi = noise(hp,snr)\n",
    "    \n",
    "    sigtime = - hp.start_time + 0.05\n",
    "    totaltime = hp.duration\n",
    "    hp.start_time = 0\n",
    "    hp = hp.crop(0, totaltime - sigtime)\n",
    "    \n",
    "    # left + right = 1 - percentage\n",
    "    left = uniform(0, 1-percentage) * sigtime\n",
    "    right = ((1-percentage)-left) * sigtime\n",
    "    hp = hp.crop(left, right)\n",
    "    \n",
    "    if hp.duration <= 1:\n",
    "        # complete to 4096 data\n",
    "        zeros = 4096 - len(hp)\n",
    "        left_zeros = randint(zeros+1)\n",
    "        right_zeros = zeros - left_zeros \n",
    "        hp.append_zeros(right_zeros)\n",
    "        hp.prepend_zeros(left_zeros)\n",
    "    \n",
    "    else:\n",
    "        # alarm message \n",
    "        print(\"Input percentage does not match actual returned signal percentage because waveform is too long. The beginning is thus cropped.\"   )\n",
    "        hp = hp.crop(hp.duration-1, 0)\n",
    "    \n",
    "    noi = noise(hp,snr)    \n",
    "    hp.start_time = 0\n",
    "        \n",
    "    return noi + hp"
   ]
  },
  {
   "cell_type": "markdown",
   "metadata": {},
   "source": [
    "Partially burried flipped gw maybe too hard to be distinguished from non-flipped ones so did not include.\n",
    "\n",
    "One concern is that if it happens so the crop cropped out the merger range, is it still possible to be recognized by the machine.\n",
    "\n",
    "Notice for high masses the merger signal really short only 0.1 so should be careful about cropping.\n",
    "\n",
    "The case for waveform longer than 1 sec is included in the junior version.\n"
   ]
  },
  {
   "cell_type": "code",
   "execution_count": 159,
   "metadata": {
    "scrolled": true
   },
   "outputs": [
    {
     "data": {
      "text/plain": [
       "'\\n# test the functions\\n\\nA  = partial_burried_false(-21,600,0.3)\\npylab.plot(A.sample_times, A)\\npylab.show()\\n\\nB  = partial_burried_gw(50,70,600,0.7)\\npylab.plot(B.sample_times, B)\\npylab.show()\\n\\nC  = partial_burried_gw_jr(50,70,600,0.7)\\npylab.plot(C.sample_times, C)\\npylab.show()\\n\\nC  = partial_burried_gw_jr(15,30,600,0.7)\\npylab.plot(C.sample_times, C)\\npylab.show()\\n'"
      ]
     },
     "execution_count": 159,
     "metadata": {},
     "output_type": "execute_result"
    }
   ],
   "source": [
    "'''\n",
    "# test the functions\n",
    "\n",
    "A  = partial_burried_false(-21,600,0.3)\n",
    "pylab.plot(A.sample_times, A)\n",
    "pylab.show()\n",
    "\n",
    "B  = partial_burried_gw(50,70,600,0.7)\n",
    "pylab.plot(B.sample_times, B)\n",
    "pylab.show()\n",
    "\n",
    "C  = partial_burried_gw_jr(50,70,600,0.7)\n",
    "pylab.plot(C.sample_times, C)\n",
    "pylab.show()\n",
    "\n",
    "C  = partial_burried_gw_jr(15,30,600,0.7)\n",
    "pylab.plot(C.sample_times, C)\n",
    "pylab.show()\n",
    "'''"
   ]
  },
  {
   "cell_type": "markdown",
   "metadata": {},
   "source": [
    "# For 2B False signals that resemble gw"
   ]
  },
  {
   "cell_type": "code",
   "execution_count": 181,
   "metadata": {
    "collapsed": true
   },
   "outputs": [],
   "source": [
    "# return partially burried gausspulse signals as coded for 2B\n",
    "# percentage: keep 0 to 1 of the waveform, randomly chosen from anypart of the original waveform\n",
    "\n",
    "def partial_burried_2B(wf,snr,percentage):\n",
    "    fal = wf\n",
    "    fal.resize(4096)\n",
    "    noi = noise(fal,snr)\n",
    "    \n",
    "    # left + right = 1 - percentage\n",
    "    left = uniform(0,1-percentage)\n",
    "    right = (1-percentage)-left\n",
    "    fal = fal.crop(left, right)\n",
    "    \n",
    "    # complete to 4096 data\n",
    "    zeros = 4096 - len(fal)\n",
    "    left_zeros = randint(zeros+1)\n",
    "    right_zeros = zeros - left_zeros \n",
    "    fal.append_zeros(right_zeros)\n",
    "    fal.prepend_zeros(left_zeros)\n",
    "    \n",
    "    fal.start_time = 0\n",
    "    \n",
    "    return fal+noi\n",
    "    "
   ]
  },
  {
   "cell_type": "code",
   "execution_count": null,
   "metadata": {
    "collapsed": true
   },
   "outputs": [],
   "source": []
  },
  {
   "cell_type": "code",
   "execution_count": null,
   "metadata": {
    "collapsed": true
   },
   "outputs": [],
   "source": []
  }
 ],
 "metadata": {
  "kernelspec": {
   "display_name": "Python 3",
   "language": "python",
   "name": "python3"
  },
  "language_info": {
   "codemirror_mode": {
    "name": "ipython",
    "version": 3
   },
   "file_extension": ".py",
   "mimetype": "text/x-python",
   "name": "python",
   "nbconvert_exporter": "python",
   "pygments_lexer": "ipython3",
   "version": "3.6.8"
  }
 },
 "nbformat": 4,
 "nbformat_minor": 2
}

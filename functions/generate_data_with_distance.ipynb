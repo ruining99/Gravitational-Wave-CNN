{
 "cells": [
  {
   "cell_type": "code",
   "execution_count": 1,
   "metadata": {},
   "outputs": [
    {
     "name": "stderr",
     "output_type": "stream",
     "text": [
      "PyCBC.libutils: pkg-config call failed, setting NO_PKGCONFIG=1\n"
     ]
    }
   ],
   "source": [
    "import pycbc.noise\n",
    "import pycbc.psd\n",
    "import pycbc.filter\n",
    "from pycbc.types import timeseries\n",
    "import numpy as np\n",
    "import matplotlib.pyplot as plt\n",
    "import pandas as pd\n",
    "import math\n",
    "from scipy import signal\n",
    "import matplotlib.pyplot as plt\n",
    "from numpy.random import uniform, randint\n",
    "import pylab\n",
    "from pycbc.filter import sigma\n",
    "from pycbc.waveform import get_td_waveform\n",
    "from pycbc.psd import interpolate\n",
    "from pycbc.types.timeseries import load_timeseries\n",
    "\n",
    "#import false signal functions\n",
    "from ipynb.fs.full.false_signals import random_false_sig, flip_gw"
   ]
  },
  {
   "cell_type": "markdown",
   "metadata": {},
   "source": [
    "# functions"
   ]
  },
  {
   "cell_type": "code",
   "execution_count": 2,
   "metadata": {
    "collapsed": true
   },
   "outputs": [],
   "source": [
    "# Generate 1 seconds of noise at 4096 Hz, randomized, unscaled\n",
    "\n",
    "def noise_d():\n",
    "    # psd\n",
    "    flow = 20.0\n",
    "    delta_f = 1.0 / 16\n",
    "    flen = int(2048 / delta_f) + 1\n",
    "    psd = pycbc.psd.aLIGOZeroDetHighPower(flen, delta_f, flow)\n",
    "    \n",
    "    # un-scaled noise\n",
    "    delta_t = 1.0 / 4096\n",
    "    tsamples = int(1.0 / delta_t)\n",
    "    ts = pycbc.noise.noise_from_psd(tsamples, delta_t, psd)\n",
    "    \n",
    "    return ts"
   ]
  },
  {
   "cell_type": "code",
   "execution_count": 3,
   "metadata": {
    "collapsed": true
   },
   "outputs": [],
   "source": [
    "# Generate gravitational waveform with specified mass parameters.\n",
    "# Other arguments fixed\n",
    "# return the plus polarization\n",
    "\n",
    "# mass range does not need to be restricted any more.\n",
    "# for signal length < 1, it is shifted. \n",
    "# for signal length > 1, the waveform is cropped on the left to keep the right-hand side with the merger moement.\n",
    "# For the ease of merging, the start_time is reset to 0 and total length is 1\n",
    "\n",
    "def gw_d(m1,m2,d):\n",
    "    hp,hc=get_td_waveform(approximant=\"SEOBNRv4_opt\",\n",
    "                          mass1=m1,    \n",
    "                          mass2=m2,\n",
    "                          distance=d,\n",
    "                          delta_t=1.0/4096,\n",
    "                          f_lower=20)\n",
    "    \n",
    "    # randomly shift\n",
    "    # To fit the whole waveform in the 1 second window, need to specify a cyclic shift range. \n",
    "    # 0.08 act as buffer since signal still oscillates a little after merging.\n",
    "    sigtime = abs(hp.start_time) + 0.08\n",
    "    \n",
    "    if sigtime < 1:\n",
    "        # resize to window of 1 second\n",
    "        hp.resize(4096)\n",
    "        shift_range = 1 - sigtime\n",
    "        shifted = hp.cyclic_time_shift(uniform(0.0,shift_range))\n",
    "    else:\n",
    "        totaltime = hp.duration\n",
    "        hp.start_time = 0\n",
    "        hp = hp.crop(0, totaltime - sigtime)\n",
    "        shifted = hp.crop(hp.duration-1,0)\n",
    "    \n",
    "    # reset start time\n",
    "    shifted.start_time = 0\n",
    "    \n",
    "    return shifted"
   ]
  },
  {
   "cell_type": "code",
   "execution_count": 4,
   "metadata": {
    "collapsed": true
   },
   "outputs": [],
   "source": [
    "def burried_gw_d(m1,m2,d):\n",
    "    sig = gw_d(m1,m2,d)\n",
    "    noi = noise_d()\n",
    "    \n",
    "    return noi + sig"
   ]
  },
  {
   "cell_type": "code",
   "execution_count": 5,
   "metadata": {
    "collapsed": true
   },
   "outputs": [],
   "source": [
    "def burried_false_d(mag):\n",
    "    fal = random_false_sig(mag)\n",
    "    fal.resize(4096)\n",
    "    noi = noise_d()\n",
    "    \n",
    "    return noi + fal"
   ]
  },
  {
   "cell_type": "code",
   "execution_count": 6,
   "metadata": {
    "collapsed": true
   },
   "outputs": [],
   "source": [
    "def burried_flip_d(m1,m2,d):\n",
    "    hp = gw_d(m1,m2,d)\n",
    "    flipped = flip_gw(hp)\n",
    "    noi = noise_d()\n",
    "    \n",
    "    return noi + flipped"
   ]
  },
  {
   "cell_type": "code",
   "execution_count": 7,
   "metadata": {
    "collapsed": true
   },
   "outputs": [],
   "source": [
    "# return partial_burried_false_signals \n",
    "# magnitude and snr same as burried_false\n",
    "# percentage: keep 0 to 1 of the waveform, randomly chosen from anypart of the original waveform\n",
    "\n",
    "def partial_burried_false_d(mag,percentage):\n",
    "    fal = random_false_sig(mag)\n",
    "    fal.resize(4096)\n",
    "    noi = noise_d()\n",
    "    \n",
    "    # left + right = 1 - percentage\n",
    "    left = uniform(0,1-percentage)\n",
    "    right = (1-percentage)-left\n",
    "    fal = fal.crop(left, right)\n",
    "    \n",
    "    # complete to 4096 data\n",
    "    zeros = 4096 - len(fal)\n",
    "    left_zeros = randint(zeros+1)\n",
    "    right_zeros = zeros - left_zeros \n",
    "    fal.append_zeros(right_zeros)\n",
    "    fal.prepend_zeros(left_zeros)\n",
    "    \n",
    "    fal.start_time = 0\n",
    "    \n",
    "    return fal+noi"
   ]
  },
  {
   "cell_type": "code",
   "execution_count": 8,
   "metadata": {
    "collapsed": true
   },
   "outputs": [],
   "source": [
    "# return partial_burried_signals \n",
    "# The partial signal generated by cropping off left side and append zeros on right\n",
    "# In this way, the merger moement is included. \n",
    "# The purpose is that the net can detect the gw as long as merger moment included and a signal of 50%-100% remains.\n",
    "# percentage means the part kept\n",
    "\n",
    "def partial_burried_gw_d(m1,m2,d,percentage):\n",
    "    hp,hc=get_td_waveform(approximant=\"SEOBNRv4_opt\",\n",
    "                          mass1=m1,    \n",
    "                          mass2=m2,\n",
    "                          distance = d,\n",
    "                          delta_t=1.0/4096,\n",
    "                          f_lower=20)\n",
    "\n",
    "    # crop to only keep signal\n",
    "    sigtime = abs(hp.start_time) + 0.08\n",
    "    totaltime = hp.duration\n",
    "    hp.start_time = 0\n",
    "    hp = hp.crop(0, totaltime - sigtime)\n",
    "    \n",
    "    # if really long only keep 1 sec\n",
    "    if sigtime > 1:\n",
    "        hp = hp.crop(hp.duration-1,0)\n",
    "        left = 1-percentage\n",
    "    else:\n",
    "        left = (1-percentage) * sigtime\n",
    "    # now keep only certain percentage from right end side\n",
    "    hp.start_time = 0\n",
    "    \n",
    "    hp = hp.crop(left, 0)\n",
    "    \n",
    "    # complete to 4096 data\n",
    "    zeros = 4096 - len(hp)\n",
    "    hp.append_zeros(zeros)\n",
    "    \n",
    "    # burry in noise\n",
    "    noi = noise_d()    \n",
    "    hp.start_time = 0\n",
    "        \n",
    "    return noi + hp"
   ]
  },
  {
   "cell_type": "markdown",
   "metadata": {},
   "source": [
    "# check SNRs"
   ]
  },
  {
   "cell_type": "code",
   "execution_count": 39,
   "metadata": {},
   "outputs": [],
   "source": [
    "def output_snr(m1,m2,d):\n",
    "\n",
    "    S = gw_d(m1,m2,d)\n",
    "\n",
    "    # psd\n",
    "    flow = 20.0\n",
    "    delta_f = 1.0 / 16\n",
    "    flen = int(2048 / delta_f) + 1\n",
    "    psd = pycbc.psd.aLIGOZeroDetHighPower(flen, delta_f, flow)\n",
    "    \n",
    "    # un-scaled noise\n",
    "    delta_t = 1.0 / 4096\n",
    "    tsamples = int(1.0 / delta_t)\n",
    "    ts = pycbc.noise.noise_from_psd(tsamples, delta_t, psd)\n",
    "    \n",
    "    new_psd = pycbc.psd.estimate.interpolate(psd, S.delta_f)  # First interpolate psd to desire delta_f\n",
    "    return sigma(S, psd=new_psd, low_frequency_cutoff=20.0)\n"
   ]
  },
  {
   "cell_type": "code",
   "execution_count": 49,
   "metadata": {},
   "outputs": [
    {
     "name": "stdout",
     "output_type": "stream",
     "text": [
      "lowest snr with m1,m2 10 and distance 2000: 7.166659635243008\n",
      "highest snr with m1,m2 100 and distance 100: 953.5509668867712\n"
     ]
    }
   ],
   "source": [
    "# lowest and highest SNRs possible considering mass range 10-100 and distance range 100-2000\n",
    "\n",
    "print(\"lowest snr with m1,m2 10 and distance 2000:\", output_snr(10,10,2000))\n",
    "print(\"highest snr with m1,m2 100 and distance 100:\", output_snr(100,100,100))"
   ]
  },
  {
   "cell_type": "code",
   "execution_count": null,
   "metadata": {
    "collapsed": true
   },
   "outputs": [],
   "source": []
  }
 ],
 "metadata": {
  "kernelspec": {
   "display_name": "Python 3",
   "language": "python",
   "name": "python3"
  },
  "language_info": {
   "codemirror_mode": {
    "name": "ipython",
    "version": 3
   },
   "file_extension": ".py",
   "mimetype": "text/x-python",
   "name": "python",
   "nbconvert_exporter": "python",
   "pygments_lexer": "ipython3",
   "version": "3.6.8"
  }
 },
 "nbformat": 4,
 "nbformat_minor": 2
}

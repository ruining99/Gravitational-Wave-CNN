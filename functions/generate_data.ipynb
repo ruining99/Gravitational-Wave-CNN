{
 "cells": [
  {
   "cell_type": "code",
   "execution_count": 1,
   "metadata": {},
   "outputs": [
    {
     "name": "stderr",
     "output_type": "stream",
     "text": [
      "PyCBC.libutils: pkg-config call failed, setting NO_PKGCONFIG=1\n"
     ]
    }
   ],
   "source": [
    "import pycbc.noise\n",
    "import pycbc.psd\n",
    "import pycbc.filter\n",
    "from pycbc.types import timeseries\n",
    "import numpy as np\n",
    "import matplotlib.pyplot as plt\n",
    "import pandas as pd\n",
    "import math\n",
    "from scipy import signal\n",
    "import matplotlib.pyplot as plt\n",
    "from numpy.random import uniform, randint\n",
    "import pylab\n",
    "from pycbc.filter import sigma\n",
    "from pycbc.waveform import get_td_waveform\n",
    "from pycbc.psd import interpolate\n",
    "from pycbc.types.timeseries import load_timeseries\n",
    "\n",
    "#import false signal functions\n",
    "from ipynb.fs.full.false_signals import random_false_sig, flip_gw"
   ]
  },
  {
   "cell_type": "markdown",
   "metadata": {},
   "source": [
    "# Generate pure noise / signals"
   ]
  },
  {
   "cell_type": "code",
   "execution_count": 4,
   "metadata": {
    "collapsed": true
   },
   "outputs": [],
   "source": [
    "# Generate 1 seconds of noise at 4096 Hz, randomized\n",
    "# argument:\n",
    "# sig: timeseries\n",
    "# snr: desired signal-noise ratio\n",
    "# output noise is scaled to desired snr\n",
    "\n",
    "def noise(sig,snr):\n",
    "    # psd\n",
    "    flow = 20.0\n",
    "    delta_f = 1.0 / 16\n",
    "    flen = int(2048 / delta_f) + 1\n",
    "    psd = pycbc.psd.aLIGOZeroDetHighPower(flen, delta_f, flow)\n",
    "    \n",
    "    # un-scaled noise\n",
    "    delta_t = 1.0 / 4096\n",
    "    tsamples = int(1.0 / delta_t)\n",
    "    ts = pycbc.noise.noise_from_psd(tsamples, delta_t, psd)\n",
    "    \n",
    "    # Scale\n",
    "    new_psd = pycbc.psd.estimate.interpolate(psd, sig.delta_f)  # First interpolate psd to desire delta_f\n",
    "    current_snr = sigma(sig, psd=new_psd, low_frequency_cutoff=20.0)\n",
    "    c = current_snr/snr\n",
    "    scaled_ts = c * ts\n",
    "\n",
    "    return scaled_ts"
   ]
  },
  {
   "cell_type": "code",
   "execution_count": 5,
   "metadata": {
    "collapsed": true
   },
   "outputs": [],
   "source": [
    "# Generate gravitational waveform with specified mass parameters.\n",
    "# Other arguments fixed\n",
    "# return the plus polarization\n",
    "\n",
    "# mass range does not need to be restricted any more.\n",
    "# for signal length < 1, it is shifted. \n",
    "# for signal length > 1, the waveform is cropped on the left to keep the right-hand side with the merger moement.\n",
    "# For the ease of merging, the start_time is reset to 0 and total length is 1\n",
    "\n",
    "def gw(m1,m2):\n",
    "    hp,hc=get_td_waveform(approximant=\"SEOBNRv4_opt\",\n",
    "                          mass1=m1,    \n",
    "                          mass2=m2,\n",
    "                          delta_t=1.0/4096,\n",
    "                          f_lower=20,\n",
    "                          distance=100)\n",
    "    \n",
    "    # randomly shift\n",
    "    # To fit the whole waveform in the 1 second window, need to specify a cyclic shift range. \n",
    "    # 0.08 act as buffer since signal still oscillates a little after merging.\n",
    "    sigtime = abs(hp.start_time) + 0.08\n",
    "    \n",
    "    if sigtime < 1:\n",
    "        # resize to window of 1 second\n",
    "        hp.resize(4096)\n",
    "        shift_range = 1 - sigtime\n",
    "        shifted = hp.cyclic_time_shift(uniform(0.0,shift_range))\n",
    "    else:\n",
    "        totaltime = hp.duration\n",
    "        hp.start_time = 0\n",
    "        hp = hp.crop(0, totaltime - sigtime)\n",
    "        shifted = hp.crop(hp.duration-1,0)\n",
    "    \n",
    "    # reset start time\n",
    "    shifted.start_time = 0\n",
    "    \n",
    "    return shifted"
   ]
  },
  {
   "cell_type": "code",
   "execution_count": 11,
   "metadata": {
    "collapsed": true
   },
   "outputs": [],
   "source": [
    "# scaling factor. Originally noise contained within around 1*10^-21\n",
    "# like noise, but noise is mainly an internal function\n",
    "\n",
    "def empty_gaussian(c):\n",
    "    # psd\n",
    "    flow = 20.0\n",
    "    delta_f = 1.0 / 16\n",
    "    flen = int(2048 / delta_f) + 1\n",
    "    psd = pycbc.psd.aLIGOZeroDetHighPower(flen, delta_f, flow)\n",
    "    \n",
    "    # un-scaled noise\n",
    "    delta_t = 1.0 / 4096\n",
    "    tsamples = int(1.0 / delta_t)\n",
    "    ts = pycbc.noise.noise_from_psd(tsamples, delta_t, psd)\n",
    "    \n",
    "    # Scale\n",
    "    scaled_ts = c * ts\n",
    "\n",
    "    return scaled_ts"
   ]
  },
  {
   "cell_type": "markdown",
   "metadata": {},
   "source": [
    "# Generate signals burried in noise with a specified SNR"
   ]
  },
  {
   "cell_type": "code",
   "execution_count": 7,
   "metadata": {
    "collapsed": true
   },
   "outputs": [],
   "source": [
    "def burried_gw(m1,m2,snr):\n",
    "    sig = gw(m1,m2)\n",
    "    noi = noise(sig,snr)\n",
    "    \n",
    "    return noi + sig"
   ]
  },
  {
   "cell_type": "code",
   "execution_count": 8,
   "metadata": {
    "collapsed": true
   },
   "outputs": [],
   "source": [
    "def burried_false(mag,snr):\n",
    "    fal = random_false_sig(mag)\n",
    "    fal.resize(4096)\n",
    "    noi = noise(fal,snr)\n",
    "    \n",
    "    return noi + fal"
   ]
  },
  {
   "cell_type": "code",
   "execution_count": 9,
   "metadata": {
    "collapsed": true
   },
   "outputs": [],
   "source": [
    "def burried_flip(m1,m2,snr):\n",
    "    hp = gw(m1,m2)\n",
    "    flipped = flip_gw(hp)\n",
    "    noi = noise(hp,snr)\n",
    "    \n",
    "    return noi + flipped"
   ]
  },
  {
   "cell_type": "code",
   "execution_count": 9,
   "metadata": {
    "scrolled": true
   },
   "outputs": [
    {
     "data": {
      "text/plain": [
       "'\\n# test\\ntest1 = burried_gw(10,15,1000)\\ntest2 = burried_flip(30,35,1000)\\ntest3 = burried_false(-21,1000)\\n\\n# plot\\npylab.plot(test1.sample_times, test1)\\npylab.show()\\n# plot\\npylab.plot(test2.sample_times, test2)\\npylab.show()\\n# plot\\npylab.plot(test3.sample_times, test3)\\npylab.show()\\n\\nvisualize(test1)\\nvisualize(test3)\\n'"
      ]
     },
     "execution_count": 9,
     "metadata": {},
     "output_type": "execute_result"
    }
   ],
   "source": [
    "\n",
    "'''\n",
    "# test\n",
    "test1 = burried_gw(10,15,1000)\n",
    "test2 = burried_flip(30,35,1000)\n",
    "test3 = burried_false(-21,1000)\n",
    "\n",
    "# plot\n",
    "pylab.plot(test1.sample_times, test1)\n",
    "pylab.show()\n",
    "# plot\n",
    "pylab.plot(test2.sample_times, test2)\n",
    "pylab.show()\n",
    "# plot\n",
    "pylab.plot(test3.sample_times, test3)\n",
    "pylab.show()\n",
    "\n",
    "visualize(test1)\n",
    "visualize(test3)\n",
    "'''\n"
   ]
  },
  {
   "cell_type": "markdown",
   "metadata": {},
   "source": [
    "# Partial signals burried in noise\n",
    "for false, it is randomly selected and randomly burried\n",
    "for gw, certain percentage on right side is kept for practical purposes"
   ]
  },
  {
   "cell_type": "code",
   "execution_count": 12,
   "metadata": {
    "collapsed": true
   },
   "outputs": [],
   "source": [
    "# return partial_burried_false_signals \n",
    "# magnitude and snr same as burried_false\n",
    "# percentage: keep 0 to 1 of the waveform, randomly chosen from anypart of the original waveform\n",
    "\n",
    "def partial_burried_false(mag,snr,percentage):\n",
    "    fal = random_false_sig(mag)\n",
    "    fal.resize(4096)\n",
    "    noi = noise(fal,snr)\n",
    "    \n",
    "    # left + right = 1 - percentage\n",
    "    left = uniform(0,1-percentage)\n",
    "    right = (1-percentage)-left\n",
    "    fal = fal.crop(left, right)\n",
    "    \n",
    "    # complete to 4096 data\n",
    "    zeros = 4096 - len(fal)\n",
    "    left_zeros = randint(zeros+1)\n",
    "    right_zeros = zeros - left_zeros \n",
    "    fal.append_zeros(right_zeros)\n",
    "    fal.prepend_zeros(left_zeros)\n",
    "    \n",
    "    fal.start_time = 0\n",
    "    \n",
    "    return fal+noi"
   ]
  },
  {
   "cell_type": "code",
   "execution_count": 14,
   "metadata": {
    "collapsed": true
   },
   "outputs": [],
   "source": [
    "# return partial_burried_signals \n",
    "# The partial signal generated by cropping off left side and append zeros on right\n",
    "# In this way, the merger moement is included. \n",
    "# The purpose is that the net can detect the gw as long as merger moment included and a signal of 50%-100% remains.\n",
    "# percentage means the part kept\n",
    "\n",
    "def partial_burried_gw(m1,m2,snr,percentage):\n",
    "    hp,hc=get_td_waveform(approximant=\"SEOBNRv4_opt\",\n",
    "                          mass1=m1,    \n",
    "                          mass2=m2,\n",
    "                          delta_t=1.0/4096,\n",
    "                          f_lower=20,\n",
    "                          distance=100)\n",
    "\n",
    "    # crop to only keep signal\n",
    "    sigtime = abs(hp.start_time) + 0.08\n",
    "    totaltime = hp.duration\n",
    "    hp.start_time = 0\n",
    "    hp = hp.crop(0, totaltime - sigtime)\n",
    "    \n",
    "    # if really long only keep 1 sec\n",
    "    if sigtime > 1:\n",
    "        hp = hp.crop(hp.duration-1,0)\n",
    "        left = 1-percentage\n",
    "    else:\n",
    "        left = (1-percentage) * sigtime\n",
    "    # now keep only certain percentage from right end side\n",
    "    hp.start_time = 0\n",
    "    \n",
    "    hp = hp.crop(left, 0)\n",
    "    \n",
    "    # complete to 4096 data\n",
    "    zeros = 4096 - len(hp)\n",
    "    hp.append_zeros(zeros)\n",
    "    \n",
    "    # burry in noise\n",
    "    noi = noise(hp,snr)    \n",
    "    hp.start_time = 0\n",
    "        \n",
    "    return noi + hp"
   ]
  },
  {
   "cell_type": "code",
   "execution_count": 15,
   "metadata": {},
   "outputs": [
    {
     "data": {
      "text/plain": [
       "'\\n# test the functions\\n\\nA  = partial_burried_false(-21,600,0.3)\\npylab.plot(A.sample_times, A)\\npylab.show()\\n\\nB  = partial_burried_gw(100,50,600,0.5)\\npylab.plot(B.sample_times, B)\\npylab.show()\\n\\nC = burried_gw(100,50,600)\\npylab.plot(C.sample_times, C)\\npylab.show()\\n\\n'"
      ]
     },
     "execution_count": 15,
     "metadata": {},
     "output_type": "execute_result"
    }
   ],
   "source": [
    "'''\n",
    "# test the functions\n",
    "\n",
    "A  = partial_burried_false(-21,600,0.3)\n",
    "pylab.plot(A.sample_times, A)\n",
    "pylab.show()\n",
    "\n",
    "B  = partial_burried_gw(100,50,600,0.5)\n",
    "pylab.plot(B.sample_times, B)\n",
    "pylab.show()\n",
    "\n",
    "C = burried_gw(100,50,600)\n",
    "pylab.plot(C.sample_times, C)\n",
    "pylab.show()\n",
    "\n",
    "'''\n"
   ]
  },
  {
   "cell_type": "markdown",
   "metadata": {},
   "source": [
    "# Other functions"
   ]
  },
  {
   "cell_type": "code",
   "execution_count": 16,
   "metadata": {
    "collapsed": true
   },
   "outputs": [],
   "source": [
    "# define a function to transform numpy array to pycbc timeseries.\n",
    "\n",
    "def convert(w):\n",
    "    # get sample times\n",
    "    hp,hc=get_td_waveform(approximant=\"SEOBNRv4_opt\",\n",
    "                          mass1=20,    \n",
    "                          mass2=20,\n",
    "                          delta_t=1.0/4096,\n",
    "                          f_lower=20,\n",
    "                          distance=100)\n",
    "    hp.resize(4096)\n",
    "    hp.start_time = 0\n",
    "    times = hp.sample_times\n",
    "    \n",
    "    wform = pd.Series(w, index =times)\n",
    "    \n",
    "    # get pycbc series!\n",
    "    f_path = 'temporary.txt'\n",
    "    f= open(f_path,\"w+\").close()\n",
    "    wform.to_csv(f_path,sep=' ')\n",
    "    wform = load_timeseries(f_path)\n",
    "    \n",
    "    return wform"
   ]
  },
  {
   "cell_type": "code",
   "execution_count": 17,
   "metadata": {
    "collapsed": true
   },
   "outputs": [],
   "source": [
    "# Output one True after every k False, total length n\n",
    "# For data selection purpose\n",
    "def bol(k,n):\n",
    "    bol = []\n",
    "    for i in np.arange(n/(k)):\n",
    "        for l in np.arange(k-1):\n",
    "            bol.append(False)\n",
    "        bol.append(True)\n",
    "    return bol"
   ]
  },
  {
   "cell_type": "code",
   "execution_count": 18,
   "metadata": {
    "collapsed": true
   },
   "outputs": [],
   "source": [
    "# A crude visualization because not sure how to tune parameters for qtransform.\n",
    "# Show the plot\n",
    "\n",
    "def visualize(wave):\n",
    "    times, freqs, power = wave.qtransform(.001, logfsteps=100,\n",
    "                                                qrange=(4, 4),\n",
    "                                                frange=(20, 512),)\n",
    "    pylab.figure(figsize=[15, 3])\n",
    "    pylab.pcolormesh(times, freqs, power**0.5)\n",
    "    pylab.yscale('log')\n",
    "    pylab.show()"
   ]
  },
  {
   "cell_type": "markdown",
   "metadata": {
    "collapsed": true
   },
   "source": [
    "# Modified false signal functions for 2B"
   ]
  },
  {
   "cell_type": "code",
   "execution_count": 19,
   "metadata": {
    "collapsed": true
   },
   "outputs": [],
   "source": [
    "# return partially burried gausspulse signals as coded for 2B\n",
    "# percentage: keep 0 to 1 of the waveform, randomly chosen from anypart of the original waveform\n",
    "\n",
    "def partial_burried_2B(wf,snr,percentage):\n",
    "    fal = wf\n",
    "    fal.resize(4096)\n",
    "    noi = noise(fal,snr)\n",
    "    \n",
    "    # left + right = 1 - percentage\n",
    "    left = uniform(0,1-percentage)\n",
    "    right = (1-percentage)-left\n",
    "    fal = fal.crop(left, right)\n",
    "    \n",
    "    # complete to 4096 data\n",
    "    zeros = 4096 - len(fal)\n",
    "    left_zeros = randint(zeros+1)\n",
    "    right_zeros = zeros - left_zeros \n",
    "    fal.append_zeros(right_zeros)\n",
    "    fal.prepend_zeros(left_zeros)\n",
    "    \n",
    "    fal.start_time = 0\n",
    "    \n",
    "    return fal+noi\n"
   ]
  },
  {
   "cell_type": "code",
   "execution_count": 20,
   "metadata": {},
   "outputs": [
    {
     "data": {
      "text/plain": [
       "'\\n\\n# test\\ngww = burried_gw(20, 60, 20)\\nvisualize(gww)\\n'"
      ]
     },
     "execution_count": 20,
     "metadata": {},
     "output_type": "execute_result"
    }
   ],
   "source": [
    "'''\n",
    "\n",
    "# test\n",
    "gww = burried_gw(20, 60, 20)\n",
    "visualize(gww)\n",
    "'''\n"
   ]
  }
 ],
 "metadata": {
  "kernelspec": {
   "display_name": "Python 3",
   "language": "python",
   "name": "python3"
  },
  "language_info": {
   "codemirror_mode": {
    "name": "ipython",
    "version": 3
   },
   "file_extension": ".py",
   "mimetype": "text/x-python",
   "name": "python",
   "nbconvert_exporter": "python",
   "pygments_lexer": "ipython3",
   "version": "3.6.8"
  }
 },
 "nbformat": 4,
 "nbformat_minor": 2
}

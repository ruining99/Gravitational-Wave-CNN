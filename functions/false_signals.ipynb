{
 "cells": [
  {
   "cell_type": "markdown",
   "metadata": {},
   "source": [
    "# Generate False signals"
   ]
  },
  {
   "cell_type": "markdown",
   "metadata": {},
   "source": [
    "The following functions simulate false waveforms that the model should differentiate from gravitational wave,\n",
    "\n",
    "in the hope that these false waveforms will train the model to differentiate the glitches in real detector data."
   ]
  },
  {
   "cell_type": "code",
   "execution_count": 1,
   "metadata": {},
   "outputs": [
    {
     "name": "stderr",
     "output_type": "stream",
     "text": [
      "PyCBC.libutils: pkg-config call failed, setting NO_PKGCONFIG=1\n"
     ]
    }
   ],
   "source": [
    "# importing the libraries\n",
    "\n",
    "from pycbc.types import timeseries\n",
    "import numpy as np\n",
    "import matplotlib.pyplot as plt\n",
    "import pandas as pd\n",
    "import math\n",
    "from scipy import signal\n",
    "import matplotlib.pyplot as plt\n",
    "from numpy.random import uniform, randint\n",
    "import pycbc.noise\n",
    "import pycbc.psd\n",
    "import pycbc.filter\n",
    "import pylab\n",
    "from pycbc.filter import sigma\n",
    "from pycbc.waveform import get_td_waveform\n",
    "from pycbc.psd import interpolate\n",
    "from pycbc.types.timeseries import load_timeseries\n",
    "from pycbc.types import TimeSeries"
   ]
  },
  {
   "cell_type": "markdown",
   "metadata": {},
   "source": [
    "# Internal functions "
   ]
  },
  {
   "cell_type": "markdown",
   "metadata": {},
   "source": [
    "The following functions are only used internally in the document to generate multiple types of false signals.\n",
    "\n",
    "The only argument is time, in the context a sample rate of 4096 Hz.\n",
    "\n",
    "Within each function, parameters are randomized to generate varying waveforms of the same type.\n",
    "\n",
    "return a panda series.\n",
    "\n",
    "* Signal amplitude: 0-1"
   ]
  },
  {
   "cell_type": "code",
   "execution_count": 2,
   "metadata": {
    "collapsed": true,
    "scrolled": false
   },
   "outputs": [],
   "source": [
    "def damp_sin(t):\n",
    "    # simulate a damping sinusoidal time series\n",
    "    nsample = 4096\n",
    "    a = uniform(0.0,200.0)   # frequency factor\n",
    "    b = uniform(0.0,250.0)   # damping factor\n",
    "    \n",
    "    x = np.linspace(0, t, nsample+1)\n",
    "    y = np.sin(x*a) / (x*b+1)\n",
    "    data = pd.Series(y, index=x)\n",
    "    data *= uniform(0.1,10.0)\n",
    "    return data"
   ]
  },
  {
   "cell_type": "code",
   "execution_count": 3,
   "metadata": {
    "collapsed": true,
    "scrolled": false
   },
   "outputs": [],
   "source": [
    "def exp_sin(t):\n",
    "    # simulate a exponential sinusoidal time series\n",
    "    nsample = 4096\n",
    "    a = uniform(0.0,200.0)   # frequency factor\n",
    "    b = randint(1,5)   # envelop exponential function order\n",
    "    \n",
    "    x = np.linspace(0, t, nsample+1)\n",
    "    y = np.sin(x*a) * (x**b)\n",
    "    data = pd.Series(y, index=x)\n",
    "    data *= uniform(0.0,10.0)\n",
    "    return data"
   ]
  },
  {
   "cell_type": "code",
   "execution_count": 4,
   "metadata": {
    "collapsed": true
   },
   "outputs": [],
   "source": [
    "def mysquare(t): \n",
    "    # simulate a square wave \n",
    "    nsample = 4096\n",
    "    a = randint(1,50)    # frequency factor\n",
    "    b = randint(0,10)   # periodity information\n",
    "    \n",
    "    x = np.linspace(0, t, nsample+1)\n",
    "    sig = np.sin(b * np.pi * x)\n",
    "    y = signal.square(a * np.pi * x, duty=(sig + 1)/2)\n",
    "    \n",
    "    data = pd.Series(y, index=x)\n",
    "    data *= uniform(0.0,10.0)\n",
    "    return data"
   ]
  },
  {
   "cell_type": "code",
   "execution_count": 5,
   "metadata": {
    "collapsed": true
   },
   "outputs": [],
   "source": [
    "def mysawtooth(t): \n",
    "    # simulate a square wave \n",
    "    nsample = 4096\n",
    "    a = randint(1,50)   # frequency factor\n",
    "    \n",
    "    x = np.linspace(0, t, nsample+1)\n",
    "    y = signal.sawtooth(a * np.pi * x) \n",
    "    \n",
    "    data = pd.Series(y, index=x)\n",
    "    data *= uniform(0.0,10.0)\n",
    "    return data"
   ]
  },
  {
   "cell_type": "code",
   "execution_count": 6,
   "metadata": {
    "collapsed": true
   },
   "outputs": [],
   "source": [
    "def myGaussPulse(t):\n",
    "    # simulate a Gaussian pulse \n",
    "    nsample = 4096   \n",
    "    fc = randint(1,500)   # widness of waveform\n",
    "    power = randint(1,6)\n",
    "    even = randint(0,2)\n",
    "    \n",
    "    x = np.linspace(-t/2.0, t/2.0, nsample+1)\n",
    "    i, q, e = signal.gausspulse(x**power, fc=fc, retquad=True, retenv=True)\n",
    "    if even == 0:\n",
    "        data = pd.Series(i, index=x)\n",
    "    else:\n",
    "        data = pd.Series(q, index=x)\n",
    "    data *= uniform(0.0,10.0)\n",
    "    return data"
   ]
  },
  {
   "cell_type": "code",
   "execution_count": 7,
   "metadata": {
    "collapsed": true
   },
   "outputs": [],
   "source": [
    "def myChirp(t):\n",
    "    # Generate a linear chirp\n",
    "    nsample = 4096  \n",
    "    f0 = np.random.uniform(0.0,40.0)   # f0 how fast change, the lower the faster\n",
    "    f1 = np.random.uniform(0.0,20.0)   # f1 frequency information\n",
    "\n",
    "    x = np.linspace(0, t, nsample+1)\n",
    "    y = signal.chirp(x, f0=f0, f1=f1, t1=np.random.uniform(0.0,0.8), method='linear')\n",
    "    data = pd.Series(y, index=x)\n",
    "    data *= uniform(0.0,10.0)\n",
    "    return data"
   ]
  },
  {
   "cell_type": "markdown",
   "metadata": {},
   "source": [
    "# Global functions"
   ]
  },
  {
   "cell_type": "markdown",
   "metadata": {},
   "source": [
    "used from other documents"
   ]
  },
  {
   "cell_type": "code",
   "execution_count": 2,
   "metadata": {
    "collapsed": true
   },
   "outputs": [],
   "source": [
    "# randomly generate one of the following 6 types of signals.\n",
    "# total length generated will be resized to 1 second\n",
    "# magitude of the false signal, 10*mag\n",
    "# return a pycbc time series\n",
    "\n",
    "def random_false_sig(mag):\n",
    "    i = randint(0,6)\n",
    "    if i==0:\n",
    "        data = damp_sin(1)\n",
    "    elif i==1:            \n",
    "        data = exp_sin(1)\n",
    "    elif i==2:            \n",
    "        data = mysquare(1)\n",
    "    elif i==3:            \n",
    "        data = mysawtooth(1)\n",
    "    elif i==4:            \n",
    "        data = myGaussPulse(1)\n",
    "    else:            \n",
    "        data = myChirp(1)\n",
    "    data *= 10**mag \n",
    "    \n",
    "    # Convert into a pycbc timeseries using the following method\n",
    "    ts = TimeSeries(np.array(data), delta_t=1/4096, epoch=0)\n",
    "    \n",
    "    return ts"
   ]
  },
  {
   "cell_type": "code",
   "execution_count": 11,
   "metadata": {
    "collapsed": true
   },
   "outputs": [],
   "source": [
    "# return the time inverse of the gravitational wave template: \"flip\" the template\n",
    "\n",
    "def flip_gw(hp):  \n",
    "    data = pd.Series(np.flip(np.asarray(hp)), index=hp.sample_times)\n",
    "    \n",
    "    flipped = TimeSeries(np.array(data), delta_t=1/4096, epoch=0)\n",
    "    \n",
    "    return flipped"
   ]
  },
  {
   "cell_type": "code",
   "execution_count": 12,
   "metadata": {},
   "outputs": [
    {
     "data": {
      "text/plain": [
       "'\\n\\n# example\\n\\nhp,hc=get_td_waveform(approximant=\"SEOBNRv4_opt\",\\n                             mass1=40,    \\n                             mass2=55,\\n                             delta_t=1.0/4096,\\n                             f_lower=20,\\n                             distance=100)\\n\\npylab.plot(hp.sample_times, hp, label=\\'original\\') \\npylab.xlabel(\"Time (s)\")\\npylab.show()\\n\\nshifted = hp.cyclic_time_shift(0.1)\\npylab.plot(shifted.sample_times, shifted, label=\\'shifted\\') \\npylab.xlabel(\"Time (s)\")\\npylab.show()\\n\\nflipped = flip_gw(shifted)\\npylab.plot(flipped.sample_times, flipped) \\npylab.xlabel(\"Time (s)\")\\npylab.show()\\n\\n'"
      ]
     },
     "execution_count": 12,
     "metadata": {},
     "output_type": "execute_result"
    }
   ],
   "source": [
    "'''\n",
    "\n",
    "# example\n",
    "\n",
    "hp,hc=get_td_waveform(approximant=\"SEOBNRv4_opt\",\n",
    "                             mass1=40,    \n",
    "                             mass2=55,\n",
    "                             delta_t=1.0/4096,\n",
    "                             f_lower=20,\n",
    "                             distance=100)\n",
    "\n",
    "pylab.plot(hp.sample_times, hp, label='original') \n",
    "pylab.xlabel(\"Time (s)\")\n",
    "pylab.show()\n",
    "\n",
    "shifted = hp.cyclic_time_shift(0.1)\n",
    "pylab.plot(shifted.sample_times, shifted, label='shifted') \n",
    "pylab.xlabel(\"Time (s)\")\n",
    "pylab.show()\n",
    "\n",
    "flipped = flip_gw(shifted)\n",
    "pylab.plot(flipped.sample_times, flipped) \n",
    "pylab.xlabel(\"Time (s)\")\n",
    "pylab.show()\n",
    "\n",
    "'''\n"
   ]
  },
  {
   "cell_type": "markdown",
   "metadata": {},
   "source": [
    "# FOR STAGE 2B, FALSE SIGNALS THAT ESPECIALLY LOOK LIKE GW"
   ]
  },
  {
   "cell_type": "code",
   "execution_count": 12,
   "metadata": {
    "collapsed": true
   },
   "outputs": [],
   "source": [
    "# allow more parameter tuning than myGaussPulse\n",
    "# fc: widness of waveform\n",
    "# power: randint(1,6)\n",
    "# even = 0 or 1\n",
    "\n",
    "\n",
    "def gaussPulse_2B(t, fc, power, mag, even):\n",
    "    nsample = 4096   \n",
    "    \n",
    "    x = np.linspace(-t/2.0, t/2.0, nsample+1)\n",
    "    i, q, e = signal.gausspulse(x**power, fc=fc, retquad=True, retenv=True)\n",
    "    if even == 0:\n",
    "        data = pd.Series(i, index=x)\n",
    "    else:\n",
    "        data = pd.Series(q, index=x)\n",
    "    data *= uniform(0.0,10.0)\n",
    "    \n",
    "    data *= 10**mag \n",
    "    \n",
    "    # Convert into a pycbc timeseries using the following method\n",
    "    ts = TimeSeries(np.array(data), delta_t=1/4096, epoch=0)\n",
    "    \n",
    "    return ts"
   ]
  },
  {
   "cell_type": "code",
   "execution_count": 14,
   "metadata": {},
   "outputs": [
    {
     "data": {
      "text/plain": [
       "'\\n# test (for stage 2B)\\nfc = uniform(10,150)\\neven = randint(2)\\nA = gaussPulse_2B(1, fc, 1, -21, even)\\n\\npylab.plot(A.sample_times, A) \\npylab.xlabel(\"Time (s)\")\\npylab.show()\\n\\n'"
      ]
     },
     "execution_count": 14,
     "metadata": {},
     "output_type": "execute_result"
    }
   ],
   "source": [
    "'''\n",
    "# test (for stage 2B)\n",
    "fc = uniform(10,150)\n",
    "even = randint(2)\n",
    "A = gaussPulse_2B(1, fc, 1, -21, even)\n",
    "\n",
    "pylab.plot(A.sample_times, A) \n",
    "pylab.xlabel(\"Time (s)\")\n",
    "pylab.show()\n",
    "\n",
    "'''\n"
   ]
  },
  {
   "cell_type": "code",
   "execution_count": 15,
   "metadata": {
    "collapsed": true
   },
   "outputs": [],
   "source": [
    "# a = uniform(0.0,200.0)   frequency factor\n",
    "# b = randint(1,5)   envelop exponential function order\n",
    "    \n",
    "def expsin_2B(t,a,b,mag):\n",
    "    # simulate a exponential sinusoidal time series\n",
    "    nsample = 4096\n",
    "    \n",
    "    x = np.linspace(0, t, nsample+1)\n",
    "    y = np.sin(x*a) * (x**b)\n",
    "    data = pd.Series(y, index=x)\n",
    "    data *= uniform(0.0,10.0)\n",
    "    \n",
    "    data *= 10**mag\n",
    "    \n",
    "    # Convert into a pycbc timeseries using the following method\n",
    "    ts = TimeSeries(np.array(data), delta_t=1/4096, epoch=0)\n",
    "    \n",
    "    return ts"
   ]
  },
  {
   "cell_type": "code",
   "execution_count": 17,
   "metadata": {},
   "outputs": [
    {
     "data": {
      "text/plain": [
       "'\\n# test (for stage 2B)\\na = uniform(130,180)\\nb = randint(1,3)\\nB = expsin_2B(1,a,b,-21)\\n\\npylab.plot(B.sample_times, B) \\npylab.xlabel(\"Time (s)\")\\npylab.show()\\n\\n'"
      ]
     },
     "execution_count": 17,
     "metadata": {},
     "output_type": "execute_result"
    }
   ],
   "source": [
    "'''\n",
    "# test (for stage 2B)\n",
    "a = uniform(130,180)\n",
    "b = randint(1,3)\n",
    "B = expsin_2B(1,a,b,-21)\n",
    "\n",
    "pylab.plot(B.sample_times, B) \n",
    "pylab.xlabel(\"Time (s)\")\n",
    "pylab.show()\n",
    "\n",
    "'''"
   ]
  },
  {
   "cell_type": "code",
   "execution_count": 18,
   "metadata": {
    "collapsed": true
   },
   "outputs": [],
   "source": [
    "#a = randint(1,50)   frequency factor\n",
    "\n",
    "def sawtooth_2B(t,a, mag): \n",
    "    # simulate a square wave \n",
    "    nsample = 4096    \n",
    "    x = np.linspace(0, t, nsample+1)\n",
    "    y = signal.sawtooth(a * np.pi * x) \n",
    "    \n",
    "    data = pd.Series(y, index=x)\n",
    "    data *= uniform(0.0,10.0)\n",
    "    data *= 10**mag\n",
    "    \n",
    "    # Convert into a pycbc timeseries using the following method\n",
    "    ts = TimeSeries(np.array(data), delta_t=1/4096, epoch=0)\n",
    "    \n",
    "    return ts"
   ]
  },
  {
   "cell_type": "code",
   "execution_count": 20,
   "metadata": {},
   "outputs": [
    {
     "data": {
      "text/plain": [
       "'\\n# test (for stage 2B)\\na = randint(50,70)\\nC = sawtooth_2B(1,50,-21)\\n\\npylab.plot(C.sample_times, C) \\npylab.xlabel(\"Time (s)\")\\npylab.show()\\n\\n'"
      ]
     },
     "execution_count": 20,
     "metadata": {},
     "output_type": "execute_result"
    }
   ],
   "source": [
    "'''\n",
    "# test (for stage 2B)\n",
    "a = randint(50,70)\n",
    "C = sawtooth_2B(1,50,-21)\n",
    "\n",
    "pylab.plot(C.sample_times, C) \n",
    "pylab.xlabel(\"Time (s)\")\n",
    "pylab.show()\n",
    "\n",
    "'''\n"
   ]
  },
  {
   "cell_type": "code",
   "execution_count": 21,
   "metadata": {
    "collapsed": true
   },
   "outputs": [],
   "source": [
    "# f0 = np.random.uniform(0.0,40.0)    f0 how fast change, the lower the faster\n",
    "# f1 = np.random.uniform(0.0,20.0)    f1 frequency information\n",
    "\n",
    "def chirp_2B(t,f0,f1,mag):\n",
    "    # Generate a linear chirp\n",
    "    nsample = 4096  \n",
    "    \n",
    "    x = np.linspace(0, t, nsample+1)\n",
    "    y = signal.chirp(x, f0=f0, f1=f1, t1=np.random.uniform(0.0,0.8), method='linear')\n",
    "    data = pd.Series(y, index=x)\n",
    "    data *= uniform(0.0,10.0)\n",
    "    data *= 10**mag\n",
    "    \n",
    "    # Convert into a pycbc timeseries using the following method\n",
    "    ts = TimeSeries(np.array(data), delta_t=1/4096, epoch=0)\n",
    "    \n",
    "    return ts"
   ]
  },
  {
   "cell_type": "code",
   "execution_count": 23,
   "metadata": {},
   "outputs": [
    {
     "data": {
      "text/plain": [
       "'\\n# test (for stage 2B)\\nf0 = np.random.uniform(10,15.0)\\nD = chirp_2B(1,f0,19,-21)\\n\\npylab.plot(D.sample_times, D) \\npylab.xlabel(\"Time (s)\")\\npylab.show()\\n\\n'"
      ]
     },
     "execution_count": 23,
     "metadata": {},
     "output_type": "execute_result"
    }
   ],
   "source": [
    "'''\n",
    "# test (for stage 2B)\n",
    "f0 = np.random.uniform(10,15.0)\n",
    "D = chirp_2B(1,f0,19,-21)\n",
    "\n",
    "pylab.plot(D.sample_times, D) \n",
    "pylab.xlabel(\"Time (s)\")\n",
    "pylab.show()\n",
    "\n",
    "'''"
   ]
  },
  {
   "cell_type": "code",
   "execution_count": null,
   "metadata": {
    "collapsed": true
   },
   "outputs": [],
   "source": []
  }
 ],
 "metadata": {
  "kernelspec": {
   "display_name": "Python 3",
   "language": "python",
   "name": "python3"
  },
  "language_info": {
   "codemirror_mode": {
    "name": "ipython",
    "version": 3
   },
   "file_extension": ".py",
   "mimetype": "text/x-python",
   "name": "python",
   "nbconvert_exporter": "python",
   "pygments_lexer": "ipython3",
   "version": "3.6.8"
  }
 },
 "nbformat": 4,
 "nbformat_minor": 2
}

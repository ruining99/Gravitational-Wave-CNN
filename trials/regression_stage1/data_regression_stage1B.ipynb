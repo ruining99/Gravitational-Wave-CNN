{
 "cells": [
  {
   "cell_type": "markdown",
   "metadata": {},
   "source": [
    "# Construct Dataset"
   ]
  },
  {
   "cell_type": "code",
   "execution_count": 1,
   "metadata": {},
   "outputs": [
    {
     "name": "stderr",
     "output_type": "stream",
     "text": [
      "PyCBC.libutils: pkg-config call failed, setting NO_PKGCONFIG=1\n"
     ]
    }
   ],
   "source": [
    "import pycbc.noise\n",
    "import pycbc.psd\n",
    "import pycbc.filter\n",
    "import pylab\n",
    "from pycbc.filter import sigma\n",
    "from pycbc.waveform import get_td_waveform\n",
    "from pycbc.types.timeseries import load_timeseries\n",
    "import matplotlib.pyplot as plt\n",
    "import pandas as pd\n",
    "import numpy as np\n",
    "from numpy.random import uniform, randint\n",
    "from tqdm import tqdm\n",
    "import seaborn as sns\n",
    "from sklearn.model_selection import train_test_split\n",
    "\n",
    "#import data functions\n",
    "from ipynb.fs.full.data_functions import gw, visualize, bol"
   ]
  },
  {
   "cell_type": "markdown",
   "metadata": {},
   "source": [
    "Trial 1 for regression! \n",
    "- no noise added pure signal. \n",
    "- signals fully contained in windows of 1 second\n",
    "- masses randomly generated (ranges for masses shown below)\n",
    "    - unlike later trials of classifier, here we will make sure the whole waveform around 0.8 second length\n",
    "- train and test generated in one batch. Then separate."
   ]
  },
  {
   "cell_type": "code",
   "execution_count": 2,
   "metadata": {
    "scrolled": true
   },
   "outputs": [
    {
     "data": {
      "image/png": "[encoded data removed]",
      "text/plain": [
       "<Figure size 360x360 with 1 Axes>"
      ]
     },
     "metadata": {},
     "output_type": "display_data"
    }
   ],
   "source": [
    "# Randomly generate masses IN ASCENDING ORDER\n",
    "# Training masses \n",
    "mass = []\n",
    "for i in np.arange(2000):  \n",
    "    pair = [uniform(10,20),uniform(70,90)]\n",
    "    pair.sort()\n",
    "    mass.append(pair)\n",
    "    \n",
    "for i in np.arange(500):  \n",
    "    pair = [uniform(15,20),uniform(95,100)]\n",
    "    pair.sort()\n",
    "    mass.append(pair)\n",
    "\n",
    "for i in np.arange(800):  \n",
    "    pair = [uniform(30,35),uniform(30,40)]\n",
    "    pair.sort()\n",
    "    mass.append(pair)\n",
    "           \n",
    "for i in np.arange(500):  \n",
    "    pair = [uniform(75,80),uniform(35,40)]\n",
    "    pair.sort()\n",
    "    mass.append(pair)   \n",
    "    \n",
    "for i in np.arange(1000):  \n",
    "    pair = [uniform(35,45),uniform(90,100)]\n",
    "    pair.sort()\n",
    "    mass.append(pair)   \n",
    "\n",
    "mass = pd.DataFrame(mass)\n",
    "mass.columns = ['m1','m2']\n",
    "\n",
    "# Create scatterplot of dataframe\n",
    "sns.lmplot('m1', 'm2', data=mass, fit_reg=False, \n",
    "           scatter_kws={\"s\": 8})\n",
    "plt.ylim(0,100)\n",
    "plt.xlim(0,100)\n",
    "\n",
    "plt.plot(np.arange(100),'r--')\n",
    "plt.plot(1000/np.arange(1,100),'r--')\n",
    "plt.show()"
   ]
  },
  {
   "cell_type": "markdown",
   "metadata": {},
   "source": [
    "Unexpected finding: for length to be less than around 0.8, we have the range of masses constrained by the above 2 functions!"
   ]
  },
  {
   "cell_type": "code",
   "execution_count": 3,
   "metadata": {
    "collapsed": true
   },
   "outputs": [],
   "source": [
    "# target: [m1,m2] where m1 <= m2\n",
    "# note that only need to append X, y is basically mass dataframe\n",
    "def appendX(wave):\n",
    "    wave.save('temporary2.txt')\n",
    "    wave = np.loadtxt('temporary2.txt',usecols=1)\n",
    "    X.append(wave)"
   ]
  },
  {
   "cell_type": "code",
   "execution_count": 4,
   "metadata": {
    "scrolled": false
   },
   "outputs": [
    {
     "name": "stderr",
     "output_type": "stream",
     "text": [
      "100%|██████████| 4800/4800 [08:20<00:00,  4.49it/s]\n"
     ]
    }
   ],
   "source": [
    "# Generate data of pure gw (snr = \\infty) \n",
    "X = []\n",
    "y = mass\n",
    "\n",
    "for i in tqdm(range(len(mass))):\n",
    "    gww = gw(mass.loc[i,'m1'], mass.loc[i,'m2'])\n",
    "    appendX(gww)"
   ]
  },
  {
   "cell_type": "code",
   "execution_count": 5,
   "metadata": {
    "collapsed": true
   },
   "outputs": [],
   "source": [
    "# Save as dataframe\n",
    "X_df = pd.DataFrame(X)"
   ]
  },
  {
   "cell_type": "code",
   "execution_count": 6,
   "metadata": {
    "collapsed": true
   },
   "outputs": [],
   "source": [
    "# Since sklearn makes things a lot easier, can just store the whole data and split every time. \n",
    "# If want to recreate the split just use same random seed\n",
    "\n",
    "# '''ALREADY DONE NO NEED REPEAT\n",
    "f_path = 'regression_training/stage1B/X.txt'\n",
    "X_df.to_csv(f_path)\n",
    "f_path = 'regression_training/stage1B/y.txt'\n",
    "y.to_csv(f_path) \n",
    "#'''"
   ]
  },
  {
   "cell_type": "code",
   "execution_count": 7,
   "metadata": {},
   "outputs": [
    {
     "name": "stdout",
     "output_type": "stream",
     "text": [
      "Number of data:  4800\n"
     ]
    }
   ],
   "source": [
    "# statistic information\n",
    "print(\"Number of data: \",len(X))"
   ]
  },
  {
   "cell_type": "code",
   "execution_count": null,
   "metadata": {
    "collapsed": true
   },
   "outputs": [],
   "source": []
  }
 ],
 "metadata": {
  "kernelspec": {
   "display_name": "Python 3",
   "language": "python",
   "name": "python3"
  },
  "language_info": {
   "codemirror_mode": {
    "name": "ipython",
    "version": 3
   },
   "file_extension": ".py",
   "mimetype": "text/x-python",
   "name": "python",
   "nbconvert_exporter": "python",
   "pygments_lexer": "ipython3",
   "version": "3.6.8"
  }
 },
 "nbformat": 4,
 "nbformat_minor": 2
}

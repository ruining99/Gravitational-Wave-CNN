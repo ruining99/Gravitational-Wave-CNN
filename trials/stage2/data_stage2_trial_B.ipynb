{
 "cells": [
  {
   "cell_type": "markdown",
   "metadata": {},
   "source": [
    "# Construct dataset"
   ]
  },
  {
   "cell_type": "code",
   "execution_count": 1,
   "metadata": {},
   "outputs": [
    {
     "name": "stderr",
     "output_type": "stream",
     "text": [
      "PyCBC.libutils: pkg-config call failed, setting NO_PKGCONFIG=1\n"
     ]
    }
   ],
   "source": [
    "import pycbc.noise\n",
    "import pycbc.psd\n",
    "import pycbc.filter\n",
    "import pylab\n",
    "from pycbc.filter import sigma\n",
    "from pycbc.waveform import get_td_waveform\n",
    "from pycbc.types.timeseries import load_timeseries\n",
    "import matplotlib.pyplot as plt\n",
    "import pandas as pd\n",
    "import numpy as np\n",
    "from numpy.random import uniform, randint\n",
    "from tqdm import tqdm\n",
    "import seaborn as sns\n",
    "from sklearn.model_selection import train_test_split\n",
    "\n",
    "#import false signal functions\n",
    "from ipynb.fs.full.falsig_functions import random_false_sig, flip_gw, gaussPulse_2B, expsin_2B, sawtooth_2B, chirp_2B\n",
    "from ipynb.fs.full.data_functions import noise, burried_gw, partial_burried_false, partial_burried_gw, partial_burried_gw_jr, burried_false, burried_flip, visualize,bol, partial_burried_2B, empty_gaussian"
   ]
  },
  {
   "cell_type": "markdown",
   "metadata": {},
   "source": [
    "Trial 2B information:\n",
    "- add data to fix the wrong predictions of 2A\n",
    "    - gausspulse and seesaw especially\n",
    "- bring along add more lower snr partial gw data\n",
    "- incorporate the test data from 2A while training\n"
   ]
  },
  {
   "cell_type": "code",
   "execution_count": 2,
   "metadata": {
    "collapsed": true
   },
   "outputs": [],
   "source": [
    "def appendXy(wave,target):\n",
    "    wave.save('temporary2.txt')\n",
    "    wave = np.loadtxt('temporary2.txt',usecols=1)\n",
    "    X.append(wave)\n",
    "    y.append(target)"
   ]
  },
  {
   "cell_type": "code",
   "execution_count": 6,
   "metadata": {
    "scrolled": true
   },
   "outputs": [
    {
     "name": "stderr",
     "output_type": "stream",
     "text": [
      "\n",
      "  0%|          | 0/1000 [00:00<?, ?it/s]\u001b[A\n",
      "  0%|          | 1/1000 [00:00<02:45,  6.05it/s]\u001b[A\n",
      "  0%|          | 2/1000 [00:00<02:46,  5.99it/s]\u001b[A\n",
      "  0%|          | 3/1000 [00:00<02:48,  5.90it/s]\u001b[A\n",
      "  0%|          | 4/1000 [00:00<02:54,  5.72it/s]\u001b[A\n",
      "  0%|          | 5/1000 [00:00<02:47,  5.94it/s]\u001b[A\n",
      "  1%|          | 6/1000 [00:01<02:48,  5.91it/s]\u001b[A\n",
      "  1%|          | 7/1000 [00:01<02:47,  5.95it/s]\u001b[A\n",
      "  1%|          | 8/1000 [00:01<02:44,  6.04it/s]\u001b[A\n",
      "  1%|          | 9/1000 [00:01<02:39,  6.22it/s]\u001b[A\n",
      "  1%|          | 10/1000 [00:01<02:40,  6.16it/s]\u001b[A\n",
      "  1%|          | 11/1000 [00:01<02:41,  6.13it/s]\u001b[A\n",
      "  1%|          | 12/1000 [00:02<02:46,  5.95it/s]\u001b[A\n",
      "  1%|▏         | 13/1000 [00:02<02:45,  5.96it/s]\u001b[A\n",
      "  1%|▏         | 14/1000 [00:02<02:49,  5.80it/s]\u001b[A\n",
      "  2%|▏         | 15/1000 [00:02<02:43,  6.02it/s]\u001b[A\n",
      "  2%|▏         | 16/1000 [00:02<02:58,  5.52it/s]\u001b[A\n",
      "  2%|▏         | 17/1000 [00:02<03:17,  4.97it/s]\u001b[A\n",
      "  2%|▏         | 18/1000 [00:03<03:05,  5.31it/s]\u001b[A\n",
      "  2%|▏         | 19/1000 [00:03<03:09,  5.19it/s]\u001b[A\n",
      "  2%|▏         | 20/1000 [00:03<03:03,  5.34it/s]\u001b[A\n",
      "  2%|▏         | 21/1000 [00:03<02:54,  5.60it/s]\u001b[A\n",
      "  2%|▏         | 22/1000 [00:03<02:57,  5.50it/s]\u001b[A\n",
      "  2%|▏         | 23/1000 [00:04<03:04,  5.30it/s]\u001b[A\n",
      "  2%|▏         | 24/1000 [00:04<03:02,  5.35it/s]\u001b[A\n",
      "  2%|▎         | 25/1000 [00:04<03:12,  5.07it/s]\u001b[A\n",
      "  3%|▎         | 26/1000 [00:04<03:05,  5.25it/s]\u001b[A\n",
      "  3%|▎         | 27/1000 [00:04<02:57,  5.48it/s]\u001b[A\n",
      "  3%|▎         | 28/1000 [00:04<02:52,  5.65it/s]\u001b[A\n",
      "  3%|▎         | 29/1000 [00:05<02:50,  5.68it/s]\u001b[A\n",
      "  3%|▎         | 30/1000 [00:05<02:51,  5.65it/s]\u001b[A\n",
      "  3%|▎         | 31/1000 [00:05<02:49,  5.72it/s]\u001b[A\n",
      "  3%|▎         | 32/1000 [00:05<02:57,  5.47it/s]\u001b[A\n",
      "  3%|▎         | 33/1000 [00:05<02:56,  5.46it/s]\u001b[A\n",
      "  3%|▎         | 34/1000 [00:06<03:00,  5.35it/s]\u001b[A\n",
      "  4%|▎         | 35/1000 [00:06<03:11,  5.05it/s]\u001b[A\n",
      "  4%|▎         | 36/1000 [00:06<02:59,  5.37it/s]\u001b[A\n",
      "  4%|▎         | 37/1000 [00:06<03:20,  4.81it/s]\u001b[A\n",
      "  4%|▍         | 38/1000 [00:06<03:12,  5.00it/s]\u001b[A\n",
      "  4%|▍         | 39/1000 [00:07<03:20,  4.80it/s]\u001b[A\n",
      "100%|██████████| 1000/1000 [03:15<00:00,  5.60it/s]\n",
      "100%|██████████| 330/330 [01:04<00:00,  4.27it/s]\n",
      "100%|██████████| 330/330 [01:20<00:00,  4.07it/s]\n",
      "100%|██████████| 330/330 [01:07<00:00,  4.64it/s]\n"
     ]
    }
   ],
   "source": [
    "mag = -21\n",
    "X = []\n",
    "y = []\n",
    "\n",
    "# SNR 100 - 1000 randomly generated partial signals of false signals that are easy to be mixed up\n",
    "\n",
    "# for gauss pulse use partial percentage 0.5-1\n",
    "for i in tqdm(range(1000)):\n",
    "    fc = uniform(10,150)\n",
    "    even = randint(2)\n",
    "    wf = gaussPulse_2B(1, fc, 1, mag, even)\n",
    "    \n",
    "    wf = partial_burried_2B(wf,uniform(100,1000),uniform(0.5,1))\n",
    "    appendXy(wf,0)\n",
    "\n",
    "# for other use percentage 0.3-1\n",
    "# expsin\n",
    "for i in tqdm(range(330)):\n",
    "    a = uniform(130,180)\n",
    "    b = randint(1,3)\n",
    "    wf = expsin_2B(1,a,b,-21)\n",
    "    \n",
    "    wf = partial_burried_2B(wf,uniform(100,1000),uniform(0.3,1))\n",
    "    appendXy(wf,0)\n",
    "    \n",
    "# sawtooth\n",
    "for i in tqdm(range(330)):\n",
    "    a = randint(50,70)\n",
    "    wf= sawtooth_2B(1,50,-21)\n",
    "    \n",
    "    wf = partial_burried_2B(wf,uniform(100,1000),uniform(0.3,1))\n",
    "    appendXy(wf,0)\n",
    "    \n",
    "# chirp\n",
    "for i in tqdm(range(330)):\n",
    "    f0 = np.random.uniform(10,15.0)\n",
    "    wf = chirp_2B(1,f0,19,-21)\n",
    "\n",
    "    wf = partial_burried_2B(wf,uniform(100,1000),uniform(0.3,1))\n",
    "    appendXy(wf,0)"
   ]
  },
  {
   "cell_type": "code",
   "execution_count": 7,
   "metadata": {
    "scrolled": true
   },
   "outputs": [
    {
     "name": "stderr",
     "output_type": "stream",
     "text": [
      "  0%|          | 0/1980 [00:00<?, ?it/s]/Users/DRRRR/anaconda/envs/machinelearning/lib/python3.6/site-packages/pycbc/scheme.py:189: RuntimeWarning: divide by zero encountered in true_divide\n",
      "  return _import_cache[mgr.state][fn](*args, **kwds)\n",
      "/Users/DRRRR/anaconda/envs/machinelearning/lib/python3.6/site-packages/pycbc/scheme.py:189: RuntimeWarning: invalid value encountered in true_divide\n",
      "  return _import_cache[mgr.state][fn](*args, **kwds)\n",
      "  0%|          | 1/1980 [00:00<15:54,  2.07it/s]"
     ]
    },
    {
     "name": "stdout",
     "output_type": "stream",
     "text": [
      "Input percentage does not match actual returned signal percentage because waveform is too long. The beginning is thus cropped.\n"
     ]
    },
    {
     "name": "stderr",
     "output_type": "stream",
     "text": [
      "  1%|          | 14/1980 [00:03<09:00,  3.63it/s]"
     ]
    },
    {
     "name": "stdout",
     "output_type": "stream",
     "text": [
      "Input percentage does not match actual returned signal percentage because waveform is too long. The beginning is thus cropped.\n"
     ]
    },
    {
     "name": "stderr",
     "output_type": "stream",
     "text": [
      "  1%|          | 17/1980 [00:04<10:17,  3.18it/s]"
     ]
    },
    {
     "name": "stdout",
     "output_type": "stream",
     "text": [
      "Input percentage does not match actual returned signal percentage because waveform is too long. The beginning is thus cropped.\n"
     ]
    },
    {
     "name": "stderr",
     "output_type": "stream",
     "text": [
      "  1%|▏         | 28/1980 [00:06<06:22,  5.10it/s]"
     ]
    },
    {
     "name": "stdout",
     "output_type": "stream",
     "text": [
      "Input percentage does not match actual returned signal percentage because waveform is too long. The beginning is thus cropped.\n"
     ]
    },
    {
     "name": "stderr",
     "output_type": "stream",
     "text": [
      "  2%|▏         | 48/1980 [00:10<06:21,  5.06it/s]"
     ]
    },
    {
     "name": "stdout",
     "output_type": "stream",
     "text": [
      "Input percentage does not match actual returned signal percentage because waveform is too long. The beginning is thus cropped.\n"
     ]
    },
    {
     "name": "stderr",
     "output_type": "stream",
     "text": [
      "  3%|▎         | 63/1980 [00:13<06:01,  5.30it/s]"
     ]
    },
    {
     "name": "stdout",
     "output_type": "stream",
     "text": [
      "Input percentage does not match actual returned signal percentage because waveform is too long. The beginning is thus cropped.\n"
     ]
    },
    {
     "name": "stderr",
     "output_type": "stream",
     "text": [
      "  4%|▎         | 73/1980 [00:15<06:27,  4.92it/s]"
     ]
    },
    {
     "name": "stdout",
     "output_type": "stream",
     "text": [
      "Input percentage does not match actual returned signal percentage because waveform is too long. The beginning is thus cropped.\n"
     ]
    },
    {
     "name": "stderr",
     "output_type": "stream",
     "text": [
      "  4%|▍         | 75/1980 [00:15<06:58,  4.55it/s]"
     ]
    },
    {
     "name": "stdout",
     "output_type": "stream",
     "text": [
      "Input percentage does not match actual returned signal percentage because waveform is too long. The beginning is thus cropped.\n"
     ]
    },
    {
     "name": "stderr",
     "output_type": "stream",
     "text": [
      "  4%|▍         | 80/1980 [00:16<06:01,  5.25it/s]"
     ]
    },
    {
     "name": "stdout",
     "output_type": "stream",
     "text": [
      "Input percentage does not match actual returned signal percentage because waveform is too long. The beginning is thus cropped.\n"
     ]
    },
    {
     "name": "stderr",
     "output_type": "stream",
     "text": [
      "  6%|▌         | 110/1980 [00:22<06:14,  4.99it/s]"
     ]
    },
    {
     "name": "stdout",
     "output_type": "stream",
     "text": [
      "Input percentage does not match actual returned signal percentage because waveform is too long. The beginning is thus cropped.\n"
     ]
    },
    {
     "name": "stderr",
     "output_type": "stream",
     "text": [
      "  6%|▌         | 118/1980 [00:23<05:39,  5.49it/s]"
     ]
    },
    {
     "name": "stdout",
     "output_type": "stream",
     "text": [
      "Input percentage does not match actual returned signal percentage because waveform is too long. The beginning is thus cropped.\n",
      "Input percentage does not match actual returned signal percentage because waveform is too long. The beginning is thus cropped.\n"
     ]
    },
    {
     "name": "stderr",
     "output_type": "stream",
     "text": [
      "  6%|▋         | 125/1980 [00:25<05:32,  5.59it/s]"
     ]
    },
    {
     "name": "stdout",
     "output_type": "stream",
     "text": [
      "Input percentage does not match actual returned signal percentage because waveform is too long. The beginning is thus cropped.\n"
     ]
    },
    {
     "name": "stderr",
     "output_type": "stream",
     "text": [
      "  7%|▋         | 141/1980 [00:27<05:16,  5.82it/s]"
     ]
    },
    {
     "name": "stdout",
     "output_type": "stream",
     "text": [
      "Input percentage does not match actual returned signal percentage because waveform is too long. The beginning is thus cropped.\n"
     ]
    },
    {
     "name": "stderr",
     "output_type": "stream",
     "text": [
      "  8%|▊         | 159/1980 [00:30<05:30,  5.51it/s]"
     ]
    },
    {
     "name": "stdout",
     "output_type": "stream",
     "text": [
      "Input percentage does not match actual returned signal percentage because waveform is too long. The beginning is thus cropped.\n"
     ]
    },
    {
     "name": "stderr",
     "output_type": "stream",
     "text": [
      "  9%|▉         | 180/1980 [00:34<05:14,  5.73it/s]"
     ]
    },
    {
     "name": "stdout",
     "output_type": "stream",
     "text": [
      "Input percentage does not match actual returned signal percentage because waveform is too long. The beginning is thus cropped.\n"
     ]
    },
    {
     "name": "stderr",
     "output_type": "stream",
     "text": [
      " 10%|█         | 201/1980 [00:38<05:03,  5.85it/s]"
     ]
    },
    {
     "name": "stdout",
     "output_type": "stream",
     "text": [
      "Input percentage does not match actual returned signal percentage because waveform is too long. The beginning is thus cropped.\n"
     ]
    },
    {
     "name": "stderr",
     "output_type": "stream",
     "text": [
      " 10%|█         | 206/1980 [00:39<05:18,  5.56it/s]"
     ]
    },
    {
     "name": "stdout",
     "output_type": "stream",
     "text": [
      "Input percentage does not match actual returned signal percentage because waveform is too long. The beginning is thus cropped.\n"
     ]
    },
    {
     "name": "stderr",
     "output_type": "stream",
     "text": [
      " 11%|█         | 208/1980 [00:39<05:15,  5.62it/s]"
     ]
    },
    {
     "name": "stdout",
     "output_type": "stream",
     "text": [
      "Input percentage does not match actual returned signal percentage because waveform is too long. The beginning is thus cropped.\n"
     ]
    },
    {
     "name": "stderr",
     "output_type": "stream",
     "text": [
      " 11%|█         | 210/1980 [00:39<05:16,  5.60it/s]"
     ]
    },
    {
     "name": "stdout",
     "output_type": "stream",
     "text": [
      "Input percentage does not match actual returned signal percentage because waveform is too long. The beginning is thus cropped.\n"
     ]
    },
    {
     "name": "stderr",
     "output_type": "stream",
     "text": [
      " 11%|█         | 212/1980 [00:40<05:15,  5.60it/s]"
     ]
    },
    {
     "name": "stdout",
     "output_type": "stream",
     "text": [
      "Input percentage does not match actual returned signal percentage because waveform is too long. The beginning is thus cropped.\n"
     ]
    },
    {
     "name": "stderr",
     "output_type": "stream",
     "text": [
      " 12%|█▏        | 244/1980 [00:45<05:30,  5.25it/s]"
     ]
    },
    {
     "name": "stdout",
     "output_type": "stream",
     "text": [
      "Input percentage does not match actual returned signal percentage because waveform is too long. The beginning is thus cropped.\n"
     ]
    },
    {
     "name": "stderr",
     "output_type": "stream",
     "text": [
      " 14%|█▍        | 274/1980 [00:51<06:54,  4.11it/s]"
     ]
    },
    {
     "name": "stdout",
     "output_type": "stream",
     "text": [
      "Input percentage does not match actual returned signal percentage because waveform is too long. The beginning is thus cropped.\n"
     ]
    },
    {
     "name": "stderr",
     "output_type": "stream",
     "text": [
      " 14%|█▍        | 286/1980 [00:54<07:11,  3.92it/s]"
     ]
    },
    {
     "name": "stdout",
     "output_type": "stream",
     "text": [
      "Input percentage does not match actual returned signal percentage because waveform is too long. The beginning is thus cropped.\n"
     ]
    },
    {
     "name": "stderr",
     "output_type": "stream",
     "text": [
      " 18%|█▊        | 360/1980 [01:08<05:21,  5.04it/s]"
     ]
    },
    {
     "name": "stdout",
     "output_type": "stream",
     "text": [
      "Input percentage does not match actual returned signal percentage because waveform is too long. The beginning is thus cropped.\n"
     ]
    },
    {
     "name": "stderr",
     "output_type": "stream",
     "text": [
      " 19%|█▉        | 379/1980 [01:11<04:45,  5.60it/s]"
     ]
    },
    {
     "name": "stdout",
     "output_type": "stream",
     "text": [
      "Input percentage does not match actual returned signal percentage because waveform is too long. The beginning is thus cropped.\n"
     ]
    },
    {
     "name": "stderr",
     "output_type": "stream",
     "text": [
      " 20%|██        | 400/1980 [01:15<04:37,  5.69it/s]"
     ]
    },
    {
     "name": "stdout",
     "output_type": "stream",
     "text": [
      "Input percentage does not match actual returned signal percentage because waveform is too long. The beginning is thus cropped.\n"
     ]
    },
    {
     "name": "stderr",
     "output_type": "stream",
     "text": [
      " 21%|██        | 406/1980 [01:16<04:41,  5.59it/s]"
     ]
    },
    {
     "name": "stdout",
     "output_type": "stream",
     "text": [
      "Input percentage does not match actual returned signal percentage because waveform is too long. The beginning is thus cropped.\n"
     ]
    },
    {
     "name": "stderr",
     "output_type": "stream",
     "text": [
      " 21%|██        | 416/1980 [01:17<04:30,  5.78it/s]"
     ]
    },
    {
     "name": "stdout",
     "output_type": "stream",
     "text": [
      "Input percentage does not match actual returned signal percentage because waveform is too long. The beginning is thus cropped.\n"
     ]
    },
    {
     "name": "stderr",
     "output_type": "stream",
     "text": [
      " 22%|██▏       | 433/1980 [01:20<04:29,  5.74it/s]"
     ]
    },
    {
     "name": "stdout",
     "output_type": "stream",
     "text": [
      "Input percentage does not match actual returned signal percentage because waveform is too long. The beginning is thus cropped.\n"
     ]
    },
    {
     "name": "stderr",
     "output_type": "stream",
     "text": [
      " 23%|██▎       | 458/1980 [01:25<04:32,  5.59it/s]"
     ]
    },
    {
     "name": "stdout",
     "output_type": "stream",
     "text": [
      "Input percentage does not match actual returned signal percentage because waveform is too long. The beginning is thus cropped.\n"
     ]
    },
    {
     "name": "stderr",
     "output_type": "stream",
     "text": [
      " 24%|██▍       | 482/1980 [22:23<3:14:22,  7.79s/it]   "
     ]
    },
    {
     "name": "stdout",
     "output_type": "stream",
     "text": [
      "Input percentage does not match actual returned signal percentage because waveform is too long. The beginning is thus cropped.\n"
     ]
    },
    {
     "name": "stderr",
     "output_type": "stream",
     "text": [
      " 25%|██▌       | 501/1980 [22:30<07:41,  3.20it/s]  "
     ]
    },
    {
     "name": "stdout",
     "output_type": "stream",
     "text": [
      "Input percentage does not match actual returned signal percentage because waveform is too long. The beginning is thus cropped.\n"
     ]
    },
    {
     "name": "stderr",
     "output_type": "stream",
     "text": [
      " 26%|██▌       | 510/1980 [22:33<07:29,  3.27it/s]"
     ]
    },
    {
     "name": "stdout",
     "output_type": "stream",
     "text": [
      "Input percentage does not match actual returned signal percentage because waveform is too long. The beginning is thus cropped.\n"
     ]
    },
    {
     "name": "stderr",
     "output_type": "stream",
     "text": [
      " 27%|██▋       | 535/1980 [22:40<04:55,  4.89it/s]"
     ]
    },
    {
     "name": "stdout",
     "output_type": "stream",
     "text": [
      "Input percentage does not match actual returned signal percentage because waveform is too long. The beginning is thus cropped.\n"
     ]
    },
    {
     "name": "stderr",
     "output_type": "stream",
     "text": [
      " 28%|██▊       | 549/1980 [22:43<05:57,  4.00it/s]"
     ]
    },
    {
     "name": "stdout",
     "output_type": "stream",
     "text": [
      "Input percentage does not match actual returned signal percentage because waveform is too long. The beginning is thus cropped.\n"
     ]
    },
    {
     "name": "stderr",
     "output_type": "stream",
     "text": [
      " 28%|██▊       | 553/1980 [22:44<05:40,  4.19it/s]"
     ]
    },
    {
     "name": "stdout",
     "output_type": "stream",
     "text": [
      "Input percentage does not match actual returned signal percentage because waveform is too long. The beginning is thus cropped.\n"
     ]
    },
    {
     "name": "stderr",
     "output_type": "stream",
     "text": [
      " 28%|██▊       | 563/1980 [22:46<04:37,  5.11it/s]"
     ]
    },
    {
     "name": "stdout",
     "output_type": "stream",
     "text": [
      "Input percentage does not match actual returned signal percentage because waveform is too long. The beginning is thus cropped.\n"
     ]
    },
    {
     "name": "stderr",
     "output_type": "stream",
     "text": [
      " 29%|██▊       | 565/1980 [22:46<04:44,  4.97it/s]"
     ]
    },
    {
     "name": "stdout",
     "output_type": "stream",
     "text": [
      "Input percentage does not match actual returned signal percentage because waveform is too long. The beginning is thus cropped.\n"
     ]
    },
    {
     "name": "stderr",
     "output_type": "stream",
     "text": [
      " 29%|██▊       | 568/1980 [22:47<04:47,  4.92it/s]"
     ]
    },
    {
     "name": "stdout",
     "output_type": "stream",
     "text": [
      "Input percentage does not match actual returned signal percentage because waveform is too long. The beginning is thus cropped.\n"
     ]
    },
    {
     "name": "stderr",
     "output_type": "stream",
     "text": [
      " 29%|██▉       | 570/1980 [22:47<05:20,  4.40it/s]"
     ]
    },
    {
     "name": "stdout",
     "output_type": "stream",
     "text": [
      "Input percentage does not match actual returned signal percentage because waveform is too long. The beginning is thus cropped.\n"
     ]
    },
    {
     "name": "stderr",
     "output_type": "stream",
     "text": [
      " 29%|██▉       | 578/1980 [22:49<04:49,  4.85it/s]"
     ]
    },
    {
     "name": "stdout",
     "output_type": "stream",
     "text": [
      "Input percentage does not match actual returned signal percentage because waveform is too long. The beginning is thus cropped.\n"
     ]
    },
    {
     "name": "stderr",
     "output_type": "stream",
     "text": [
      " 29%|██▉       | 584/1980 [22:50<04:28,  5.20it/s]"
     ]
    },
    {
     "name": "stdout",
     "output_type": "stream",
     "text": [
      "Input percentage does not match actual returned signal percentage because waveform is too long. The beginning is thus cropped.\n"
     ]
    },
    {
     "name": "stderr",
     "output_type": "stream",
     "text": [
      " 30%|██▉       | 589/1980 [22:51<04:58,  4.66it/s]"
     ]
    },
    {
     "name": "stdout",
     "output_type": "stream",
     "text": [
      "Input percentage does not match actual returned signal percentage because waveform is too long. The beginning is thus cropped.\n",
      "Input percentage does not match actual returned signal percentage because waveform is too long. The beginning is thus cropped.\n",
      "Input percentage does not match actual returned signal percentage because waveform is too long. The beginning is thus cropped.\n"
     ]
    },
    {
     "name": "stderr",
     "output_type": "stream",
     "text": [
      " 32%|███▏      | 632/1980 [22:54<05:15,  4.27it/s]"
     ]
    },
    {
     "name": "stdout",
     "output_type": "stream",
     "text": [
      "Input percentage does not match actual returned signal percentage because waveform is too long. The beginning is thus cropped.\n"
     ]
    },
    {
     "name": "stderr",
     "output_type": "stream",
     "text": [
      " 33%|███▎      | 646/1980 [22:58<08:01,  2.77it/s]"
     ]
    },
    {
     "name": "stdout",
     "output_type": "stream",
     "text": [
      "Input percentage does not match actual returned signal percentage because waveform is too long. The beginning is thus cropped.\n"
     ]
    },
    {
     "name": "stderr",
     "output_type": "stream",
     "text": [
      " 33%|███▎      | 662/1980 [23:02<07:08,  3.08it/s]"
     ]
    },
    {
     "name": "stdout",
     "output_type": "stream",
     "text": [
      "Input percentage does not match actual returned signal percentage because waveform is too long. The beginning is thus cropped.\n"
     ]
    },
    {
     "name": "stderr",
     "output_type": "stream",
     "text": [
      " 34%|███▍      | 669/1980 [23:04<05:15,  4.16it/s]"
     ]
    },
    {
     "name": "stdout",
     "output_type": "stream",
     "text": [
      "Input percentage does not match actual returned signal percentage because waveform is too long. The beginning is thus cropped.\n"
     ]
    },
    {
     "name": "stderr",
     "output_type": "stream",
     "text": [
      " 35%|███▍      | 687/1980 [23:08<03:58,  5.43it/s]"
     ]
    },
    {
     "name": "stdout",
     "output_type": "stream",
     "text": [
      "Input percentage does not match actual returned signal percentage because waveform is too long. The beginning is thus cropped.\n"
     ]
    },
    {
     "name": "stderr",
     "output_type": "stream",
     "text": [
      " 35%|███▌      | 700/1980 [23:10<05:11,  4.12it/s]"
     ]
    },
    {
     "name": "stdout",
     "output_type": "stream",
     "text": [
      "Input percentage does not match actual returned signal percentage because waveform is too long. The beginning is thus cropped.\n"
     ]
    },
    {
     "name": "stderr",
     "output_type": "stream",
     "text": [
      " 36%|███▌      | 707/1980 [23:12<04:20,  4.89it/s]"
     ]
    },
    {
     "name": "stdout",
     "output_type": "stream",
     "text": [
      "Input percentage does not match actual returned signal percentage because waveform is too long. The beginning is thus cropped.\n",
      "Input percentage does not match actual returned signal percentage because waveform is too long. The beginning is thus cropped.\n"
     ]
    },
    {
     "name": "stderr",
     "output_type": "stream",
     "text": [
      " 36%|███▋      | 718/1980 [23:14<05:04,  4.14it/s]"
     ]
    },
    {
     "name": "stdout",
     "output_type": "stream",
     "text": [
      "Input percentage does not match actual returned signal percentage because waveform is too long. The beginning is thus cropped.\n"
     ]
    },
    {
     "name": "stderr",
     "output_type": "stream",
     "text": [
      " 37%|███▋      | 732/1980 [23:17<04:40,  4.45it/s]"
     ]
    },
    {
     "name": "stdout",
     "output_type": "stream",
     "text": [
      "Input percentage does not match actual returned signal percentage because waveform is too long. The beginning is thus cropped.\n"
     ]
    },
    {
     "name": "stderr",
     "output_type": "stream",
     "text": [
      " 39%|███▊      | 767/1980 [23:25<05:34,  3.63it/s]"
     ]
    },
    {
     "name": "stdout",
     "output_type": "stream",
     "text": [
      "Input percentage does not match actual returned signal percentage because waveform is too long. The beginning is thus cropped.\n"
     ]
    },
    {
     "name": "stderr",
     "output_type": "stream",
     "text": [
      " 39%|███▉      | 772/1980 [23:26<04:22,  4.59it/s]"
     ]
    },
    {
     "name": "stdout",
     "output_type": "stream",
     "text": [
      "Input percentage does not match actual returned signal percentage because waveform is too long. The beginning is thus cropped.\n"
     ]
    },
    {
     "name": "stderr",
     "output_type": "stream",
     "text": [
      " 40%|███▉      | 788/1980 [23:29<04:34,  4.35it/s]"
     ]
    },
    {
     "name": "stdout",
     "output_type": "stream",
     "text": [
      "Input percentage does not match actual returned signal percentage because waveform is too long. The beginning is thus cropped.\n"
     ]
    },
    {
     "name": "stderr",
     "output_type": "stream",
     "text": [
      " 41%|████▏     | 820/1980 [23:36<04:10,  4.63it/s]"
     ]
    },
    {
     "name": "stdout",
     "output_type": "stream",
     "text": [
      "Input percentage does not match actual returned signal percentage because waveform is too long. The beginning is thus cropped.\n"
     ]
    },
    {
     "name": "stderr",
     "output_type": "stream",
     "text": [
      " 43%|████▎     | 856/1980 [23:44<05:00,  3.75it/s]"
     ]
    },
    {
     "name": "stdout",
     "output_type": "stream",
     "text": [
      "Input percentage does not match actual returned signal percentage because waveform is too long. The beginning is thus cropped.\n"
     ]
    },
    {
     "name": "stderr",
     "output_type": "stream",
     "text": [
      " 44%|████▎     | 862/1980 [23:46<04:21,  4.27it/s]"
     ]
    },
    {
     "name": "stdout",
     "output_type": "stream",
     "text": [
      "Input percentage does not match actual returned signal percentage because waveform is too long. The beginning is thus cropped.\n"
     ]
    },
    {
     "name": "stderr",
     "output_type": "stream",
     "text": [
      " 44%|████▎     | 864/1980 [23:46<04:01,  4.62it/s]"
     ]
    },
    {
     "name": "stdout",
     "output_type": "stream",
     "text": [
      "Input percentage does not match actual returned signal percentage because waveform is too long. The beginning is thus cropped.\n"
     ]
    },
    {
     "name": "stderr",
     "output_type": "stream",
     "text": [
      " 44%|████▍     | 870/1980 [23:48<03:59,  4.64it/s]"
     ]
    },
    {
     "name": "stdout",
     "output_type": "stream",
     "text": [
      "Input percentage does not match actual returned signal percentage because waveform is too long. The beginning is thus cropped.\n"
     ]
    },
    {
     "name": "stderr",
     "output_type": "stream",
     "text": [
      " 45%|████▍     | 887/1980 [23:51<03:30,  5.20it/s]"
     ]
    },
    {
     "name": "stdout",
     "output_type": "stream",
     "text": [
      "Input percentage does not match actual returned signal percentage because waveform is too long. The beginning is thus cropped.\n"
     ]
    },
    {
     "name": "stderr",
     "output_type": "stream",
     "text": [
      " 46%|████▌     | 901/1980 [23:54<03:43,  4.82it/s]"
     ]
    },
    {
     "name": "stdout",
     "output_type": "stream",
     "text": [
      "Input percentage does not match actual returned signal percentage because waveform is too long. The beginning is thus cropped.\n"
     ]
    },
    {
     "name": "stderr",
     "output_type": "stream",
     "text": [
      " 46%|████▌     | 907/1980 [23:55<03:50,  4.66it/s]"
     ]
    },
    {
     "name": "stdout",
     "output_type": "stream",
     "text": [
      "Input percentage does not match actual returned signal percentage because waveform is too long. The beginning is thus cropped.\n"
     ]
    },
    {
     "name": "stderr",
     "output_type": "stream",
     "text": [
      " 47%|████▋     | 932/1980 [24:00<03:18,  5.28it/s]"
     ]
    },
    {
     "name": "stdout",
     "output_type": "stream",
     "text": [
      "Input percentage does not match actual returned signal percentage because waveform is too long. The beginning is thus cropped.\n"
     ]
    },
    {
     "name": "stderr",
     "output_type": "stream",
     "text": [
      " 47%|████▋     | 936/1980 [24:01<03:17,  5.29it/s]"
     ]
    },
    {
     "name": "stdout",
     "output_type": "stream",
     "text": [
      "Input percentage does not match actual returned signal percentage because waveform is too long. The beginning is thus cropped.\n"
     ]
    },
    {
     "name": "stderr",
     "output_type": "stream",
     "text": [
      " 48%|████▊     | 955/1980 [24:04<03:00,  5.68it/s]"
     ]
    },
    {
     "name": "stdout",
     "output_type": "stream",
     "text": [
      "Input percentage does not match actual returned signal percentage because waveform is too long. The beginning is thus cropped.\n"
     ]
    },
    {
     "name": "stderr",
     "output_type": "stream",
     "text": [
      " 49%|████▉     | 974/1980 [24:07<02:50,  5.91it/s]"
     ]
    },
    {
     "name": "stdout",
     "output_type": "stream",
     "text": [
      "Input percentage does not match actual returned signal percentage because waveform is too long. The beginning is thus cropped.\n"
     ]
    },
    {
     "name": "stderr",
     "output_type": "stream",
     "text": [
      " 49%|████▉     | 977/1980 [24:08<02:54,  5.73it/s]"
     ]
    },
    {
     "name": "stdout",
     "output_type": "stream",
     "text": [
      "Input percentage does not match actual returned signal percentage because waveform is too long. The beginning is thus cropped.\n"
     ]
    },
    {
     "name": "stderr",
     "output_type": "stream",
     "text": [
      " 51%|█████     | 1000/1980 [24:12<03:14,  5.05it/s]"
     ]
    },
    {
     "name": "stdout",
     "output_type": "stream",
     "text": [
      "Input percentage does not match actual returned signal percentage because waveform is too long. The beginning is thus cropped.\n"
     ]
    },
    {
     "name": "stderr",
     "output_type": "stream",
     "text": [
      " 52%|█████▏    | 1026/1980 [24:17<02:50,  5.60it/s]"
     ]
    },
    {
     "name": "stdout",
     "output_type": "stream",
     "text": [
      "Input percentage does not match actual returned signal percentage because waveform is too long. The beginning is thus cropped.\n"
     ]
    },
    {
     "name": "stderr",
     "output_type": "stream",
     "text": [
      " 52%|█████▏    | 1039/1980 [24:19<03:09,  4.98it/s]"
     ]
    },
    {
     "name": "stdout",
     "output_type": "stream",
     "text": [
      "Input percentage does not match actual returned signal percentage because waveform is too long. The beginning is thus cropped.\n"
     ]
    },
    {
     "name": "stderr",
     "output_type": "stream",
     "text": [
      "\r",
      " 53%|█████▎    | 1040/1980 [24:19<03:34,  4.38it/s]"
     ]
    },
    {
     "name": "stdout",
     "output_type": "stream",
     "text": [
      "Input percentage does not match actual returned signal percentage because waveform is too long. The beginning is thus cropped.\n"
     ]
    },
    {
     "name": "stderr",
     "output_type": "stream",
     "text": [
      " 54%|█████▍    | 1070/1980 [24:25<03:06,  4.88it/s]"
     ]
    },
    {
     "name": "stdout",
     "output_type": "stream",
     "text": [
      "Input percentage does not match actual returned signal percentage because waveform is too long. The beginning is thus cropped.\n"
     ]
    },
    {
     "name": "stderr",
     "output_type": "stream",
     "text": [
      " 55%|█████▍    | 1085/1980 [24:28<03:00,  4.97it/s]"
     ]
    },
    {
     "name": "stdout",
     "output_type": "stream",
     "text": [
      "Input percentage does not match actual returned signal percentage because waveform is too long. The beginning is thus cropped.\n"
     ]
    },
    {
     "name": "stderr",
     "output_type": "stream",
     "text": [
      " 55%|█████▍    | 1088/1980 [24:29<03:17,  4.51it/s]"
     ]
    },
    {
     "name": "stdout",
     "output_type": "stream",
     "text": [
      "Input percentage does not match actual returned signal percentage because waveform is too long. The beginning is thus cropped.\n"
     ]
    },
    {
     "name": "stderr",
     "output_type": "stream",
     "text": [
      " 55%|█████▌    | 1092/1980 [24:30<03:14,  4.56it/s]"
     ]
    },
    {
     "name": "stdout",
     "output_type": "stream",
     "text": [
      "Input percentage does not match actual returned signal percentage because waveform is too long. The beginning is thus cropped.\n"
     ]
    },
    {
     "name": "stderr",
     "output_type": "stream",
     "text": [
      " 55%|█████▌    | 1096/1980 [24:30<03:03,  4.81it/s]"
     ]
    },
    {
     "name": "stdout",
     "output_type": "stream",
     "text": [
      "Input percentage does not match actual returned signal percentage because waveform is too long. The beginning is thus cropped.\n"
     ]
    },
    {
     "name": "stderr",
     "output_type": "stream",
     "text": [
      " 57%|█████▋    | 1130/1980 [24:38<03:02,  4.66it/s]"
     ]
    },
    {
     "name": "stdout",
     "output_type": "stream",
     "text": [
      "Input percentage does not match actual returned signal percentage because waveform is too long. The beginning is thus cropped.\n"
     ]
    },
    {
     "name": "stderr",
     "output_type": "stream",
     "text": [
      " 58%|█████▊    | 1151/1980 [24:42<03:13,  4.30it/s]"
     ]
    },
    {
     "name": "stdout",
     "output_type": "stream",
     "text": [
      "Input percentage does not match actual returned signal percentage because waveform is too long. The beginning is thus cropped.\n"
     ]
    },
    {
     "name": "stderr",
     "output_type": "stream",
     "text": [
      " 59%|█████▉    | 1167/1980 [24:45<02:25,  5.59it/s]"
     ]
    },
    {
     "name": "stdout",
     "output_type": "stream",
     "text": [
      "Input percentage does not match actual returned signal percentage because waveform is too long. The beginning is thus cropped.\n"
     ]
    },
    {
     "name": "stderr",
     "output_type": "stream",
     "text": [
      " 60%|█████▉    | 1180/1980 [24:48<02:58,  4.48it/s]"
     ]
    },
    {
     "name": "stdout",
     "output_type": "stream",
     "text": [
      "Input percentage does not match actual returned signal percentage because waveform is too long. The beginning is thus cropped.\n"
     ]
    },
    {
     "name": "stderr",
     "output_type": "stream",
     "text": [
      " 61%|██████    | 1208/1980 [24:54<03:41,  3.49it/s]"
     ]
    },
    {
     "name": "stdout",
     "output_type": "stream",
     "text": [
      "Input percentage does not match actual returned signal percentage because waveform is too long. The beginning is thus cropped.\n"
     ]
    },
    {
     "name": "stderr",
     "output_type": "stream",
     "text": [
      " 61%|██████    | 1210/1980 [24:55<04:05,  3.13it/s]"
     ]
    },
    {
     "name": "stdout",
     "output_type": "stream",
     "text": [
      "Input percentage does not match actual returned signal percentage because waveform is too long. The beginning is thus cropped.\n"
     ]
    },
    {
     "name": "stderr",
     "output_type": "stream",
     "text": [
      " 62%|██████▏   | 1220/1980 [24:57<02:53,  4.39it/s]"
     ]
    },
    {
     "name": "stdout",
     "output_type": "stream",
     "text": [
      "Input percentage does not match actual returned signal percentage because waveform is too long. The beginning is thus cropped.\n"
     ]
    },
    {
     "name": "stderr",
     "output_type": "stream",
     "text": [
      " 62%|██████▏   | 1223/1980 [24:58<03:16,  3.85it/s]"
     ]
    },
    {
     "name": "stdout",
     "output_type": "stream",
     "text": [
      "Input percentage does not match actual returned signal percentage because waveform is too long. The beginning is thus cropped.\n"
     ]
    },
    {
     "name": "stderr",
     "output_type": "stream",
     "text": [
      " 62%|██████▏   | 1226/1980 [24:58<03:02,  4.13it/s]"
     ]
    },
    {
     "name": "stdout",
     "output_type": "stream",
     "text": [
      "Input percentage does not match actual returned signal percentage because waveform is too long. The beginning is thus cropped.\n"
     ]
    },
    {
     "name": "stderr",
     "output_type": "stream",
     "text": [
      " 62%|██████▏   | 1233/1980 [25:00<03:05,  4.03it/s]"
     ]
    },
    {
     "name": "stdout",
     "output_type": "stream",
     "text": [
      "Input percentage does not match actual returned signal percentage because waveform is too long. The beginning is thus cropped.\n"
     ]
    },
    {
     "name": "stderr",
     "output_type": "stream",
     "text": [
      " 63%|██████▎   | 1243/1980 [25:02<02:40,  4.59it/s]"
     ]
    },
    {
     "name": "stdout",
     "output_type": "stream",
     "text": [
      "Input percentage does not match actual returned signal percentage because waveform is too long. The beginning is thus cropped.\n"
     ]
    },
    {
     "name": "stderr",
     "output_type": "stream",
     "text": [
      " 63%|██████▎   | 1246/1980 [25:03<03:21,  3.65it/s]"
     ]
    },
    {
     "name": "stdout",
     "output_type": "stream",
     "text": [
      "Input percentage does not match actual returned signal percentage because waveform is too long. The beginning is thus cropped.\n"
     ]
    },
    {
     "name": "stderr",
     "output_type": "stream",
     "text": [
      "\r",
      " 63%|██████▎   | 1247/1980 [25:03<03:24,  3.58it/s]"
     ]
    },
    {
     "name": "stdout",
     "output_type": "stream",
     "text": [
      "Input percentage does not match actual returned signal percentage because waveform is too long. The beginning is thus cropped.\n"
     ]
    },
    {
     "name": "stderr",
     "output_type": "stream",
     "text": [
      " 64%|██████▎   | 1261/1980 [25:07<02:37,  4.56it/s]"
     ]
    },
    {
     "name": "stdout",
     "output_type": "stream",
     "text": [
      "Input percentage does not match actual returned signal percentage because waveform is too long. The beginning is thus cropped.\n"
     ]
    },
    {
     "name": "stderr",
     "output_type": "stream",
     "text": [
      " 64%|██████▍   | 1265/1980 [25:08<02:58,  4.00it/s]"
     ]
    },
    {
     "name": "stdout",
     "output_type": "stream",
     "text": [
      "Input percentage does not match actual returned signal percentage because waveform is too long. The beginning is thus cropped.\n"
     ]
    },
    {
     "name": "stderr",
     "output_type": "stream",
     "text": [
      " 65%|██████▍   | 1283/1980 [25:12<02:28,  4.70it/s]"
     ]
    },
    {
     "name": "stdout",
     "output_type": "stream",
     "text": [
      "Input percentage does not match actual returned signal percentage because waveform is too long. The beginning is thus cropped.\n"
     ]
    },
    {
     "name": "stderr",
     "output_type": "stream",
     "text": [
      " 65%|██████▍   | 1286/1980 [25:12<02:16,  5.07it/s]"
     ]
    },
    {
     "name": "stdout",
     "output_type": "stream",
     "text": [
      "Input percentage does not match actual returned signal percentage because waveform is too long. The beginning is thus cropped.\n"
     ]
    },
    {
     "name": "stderr",
     "output_type": "stream",
     "text": [
      " 65%|██████▌   | 1290/1980 [25:13<02:40,  4.29it/s]"
     ]
    },
    {
     "name": "stdout",
     "output_type": "stream",
     "text": [
      "Input percentage does not match actual returned signal percentage because waveform is too long. The beginning is thus cropped.\n"
     ]
    },
    {
     "name": "stderr",
     "output_type": "stream",
     "text": [
      " 66%|██████▌   | 1299/1980 [25:15<03:17,  3.45it/s]"
     ]
    },
    {
     "name": "stdout",
     "output_type": "stream",
     "text": [
      "Input percentage does not match actual returned signal percentage because waveform is too long. The beginning is thus cropped.\n"
     ]
    },
    {
     "name": "stderr",
     "output_type": "stream",
     "text": [
      " 66%|██████▌   | 1302/1980 [25:16<02:46,  4.06it/s]"
     ]
    },
    {
     "name": "stdout",
     "output_type": "stream",
     "text": [
      "Input percentage does not match actual returned signal percentage because waveform is too long. The beginning is thus cropped.\n"
     ]
    },
    {
     "name": "stderr",
     "output_type": "stream",
     "text": [
      " 67%|██████▋   | 1317/1980 [25:24<04:01,  2.74it/s]"
     ]
    },
    {
     "name": "stdout",
     "output_type": "stream",
     "text": [
      "Input percentage does not match actual returned signal percentage because waveform is too long. The beginning is thus cropped.\n"
     ]
    },
    {
     "name": "stderr",
     "output_type": "stream",
     "text": [
      " 67%|██████▋   | 1331/1980 [25:27<02:12,  4.91it/s]"
     ]
    },
    {
     "name": "stdout",
     "output_type": "stream",
     "text": [
      "Input percentage does not match actual returned signal percentage because waveform is too long. The beginning is thus cropped.\n"
     ]
    },
    {
     "name": "stderr",
     "output_type": "stream",
     "text": [
      " 68%|██████▊   | 1344/1980 [25:29<02:11,  4.84it/s]"
     ]
    },
    {
     "name": "stdout",
     "output_type": "stream",
     "text": [
      "Input percentage does not match actual returned signal percentage because waveform is too long. The beginning is thus cropped.\n"
     ]
    },
    {
     "name": "stderr",
     "output_type": "stream",
     "text": [
      " 68%|██████▊   | 1351/1980 [25:31<02:29,  4.22it/s]"
     ]
    },
    {
     "name": "stdout",
     "output_type": "stream",
     "text": [
      "Input percentage does not match actual returned signal percentage because waveform is too long. The beginning is thus cropped.\n"
     ]
    },
    {
     "name": "stderr",
     "output_type": "stream",
     "text": [
      " 68%|██████▊   | 1353/1980 [25:31<02:27,  4.24it/s]"
     ]
    },
    {
     "name": "stdout",
     "output_type": "stream",
     "text": [
      "Input percentage does not match actual returned signal percentage because waveform is too long. The beginning is thus cropped.\n"
     ]
    },
    {
     "name": "stderr",
     "output_type": "stream",
     "text": [
      " 68%|██████▊   | 1355/1980 [25:32<02:22,  4.37it/s]"
     ]
    },
    {
     "name": "stdout",
     "output_type": "stream",
     "text": [
      "Input percentage does not match actual returned signal percentage because waveform is too long. The beginning is thus cropped.\n"
     ]
    },
    {
     "name": "stderr",
     "output_type": "stream",
     "text": [
      " 69%|██████▉   | 1373/1980 [25:36<02:28,  4.08it/s]"
     ]
    },
    {
     "name": "stdout",
     "output_type": "stream",
     "text": [
      "Input percentage does not match actual returned signal percentage because waveform is too long. The beginning is thus cropped.\n"
     ]
    },
    {
     "name": "stderr",
     "output_type": "stream",
     "text": [
      " 70%|██████▉   | 1383/1980 [25:38<02:11,  4.55it/s]"
     ]
    },
    {
     "name": "stdout",
     "output_type": "stream",
     "text": [
      "Input percentage does not match actual returned signal percentage because waveform is too long. The beginning is thus cropped.\n"
     ]
    },
    {
     "name": "stderr",
     "output_type": "stream",
     "text": [
      " 70%|███████   | 1393/1980 [25:41<04:15,  2.30it/s]"
     ]
    },
    {
     "name": "stdout",
     "output_type": "stream",
     "text": [
      "Input percentage does not match actual returned signal percentage because waveform is too long. The beginning is thus cropped.\n"
     ]
    },
    {
     "name": "stderr",
     "output_type": "stream",
     "text": [
      " 72%|███████▏  | 1427/1980 [25:53<02:05,  4.41it/s]"
     ]
    },
    {
     "name": "stdout",
     "output_type": "stream",
     "text": [
      "Input percentage does not match actual returned signal percentage because waveform is too long. The beginning is thus cropped.\n"
     ]
    },
    {
     "name": "stderr",
     "output_type": "stream",
     "text": [
      " 73%|███████▎  | 1439/1980 [25:55<01:44,  5.16it/s]"
     ]
    },
    {
     "name": "stdout",
     "output_type": "stream",
     "text": [
      "Input percentage does not match actual returned signal percentage because waveform is too long. The beginning is thus cropped.\n"
     ]
    },
    {
     "name": "stderr",
     "output_type": "stream",
     "text": [
      " 73%|███████▎  | 1443/1980 [25:56<01:49,  4.92it/s]"
     ]
    },
    {
     "name": "stdout",
     "output_type": "stream",
     "text": [
      "Input percentage does not match actual returned signal percentage because waveform is too long. The beginning is thus cropped.\n"
     ]
    },
    {
     "name": "stderr",
     "output_type": "stream",
     "text": [
      " 74%|███████▍  | 1472/1980 [26:02<01:52,  4.50it/s]"
     ]
    },
    {
     "name": "stdout",
     "output_type": "stream",
     "text": [
      "Input percentage does not match actual returned signal percentage because waveform is too long. The beginning is thus cropped.\n"
     ]
    },
    {
     "name": "stderr",
     "output_type": "stream",
     "text": [
      " 74%|███████▍  | 1474/1980 [26:02<01:42,  4.94it/s]"
     ]
    },
    {
     "name": "stdout",
     "output_type": "stream",
     "text": [
      "Input percentage does not match actual returned signal percentage because waveform is too long. The beginning is thus cropped.\n"
     ]
    },
    {
     "name": "stderr",
     "output_type": "stream",
     "text": [
      " 75%|███████▍  | 1480/1980 [26:03<01:34,  5.27it/s]"
     ]
    },
    {
     "name": "stdout",
     "output_type": "stream",
     "text": [
      "Input percentage does not match actual returned signal percentage because waveform is too long. The beginning is thus cropped.\n"
     ]
    },
    {
     "name": "stderr",
     "output_type": "stream",
     "text": [
      " 75%|███████▌  | 1491/1980 [26:05<01:46,  4.58it/s]"
     ]
    },
    {
     "name": "stdout",
     "output_type": "stream",
     "text": [
      "Input percentage does not match actual returned signal percentage because waveform is too long. The beginning is thus cropped.\n"
     ]
    },
    {
     "name": "stderr",
     "output_type": "stream",
     "text": [
      " 75%|███████▌  | 1493/1980 [26:06<01:44,  4.68it/s]"
     ]
    },
    {
     "name": "stdout",
     "output_type": "stream",
     "text": [
      "Input percentage does not match actual returned signal percentage because waveform is too long. The beginning is thus cropped.\n"
     ]
    },
    {
     "name": "stderr",
     "output_type": "stream",
     "text": [
      " 76%|███████▌  | 1503/1980 [26:08<01:30,  5.26it/s]"
     ]
    },
    {
     "name": "stdout",
     "output_type": "stream",
     "text": [
      "Input percentage does not match actual returned signal percentage because waveform is too long. The beginning is thus cropped.\n"
     ]
    },
    {
     "name": "stderr",
     "output_type": "stream",
     "text": [
      " 76%|███████▌  | 1506/1980 [26:08<01:45,  4.49it/s]"
     ]
    },
    {
     "name": "stdout",
     "output_type": "stream",
     "text": [
      "Input percentage does not match actual returned signal percentage because waveform is too long. The beginning is thus cropped.\n"
     ]
    },
    {
     "name": "stderr",
     "output_type": "stream",
     "text": [
      " 77%|███████▋  | 1519/1980 [26:11<01:25,  5.42it/s]"
     ]
    },
    {
     "name": "stdout",
     "output_type": "stream",
     "text": [
      "Input percentage does not match actual returned signal percentage because waveform is too long. The beginning is thus cropped.\n"
     ]
    },
    {
     "name": "stderr",
     "output_type": "stream",
     "text": [
      " 77%|███████▋  | 1525/1980 [26:12<01:32,  4.94it/s]"
     ]
    },
    {
     "name": "stdout",
     "output_type": "stream",
     "text": [
      "Input percentage does not match actual returned signal percentage because waveform is too long. The beginning is thus cropped.\n",
      "Input percentage does not match actual returned signal percentage because waveform is too long. The beginning is thus cropped."
     ]
    },
    {
     "name": "stderr",
     "output_type": "stream",
     "text": [
      " 77%|███████▋  | 1532/1980 [26:14<01:23,  5.35it/s]"
     ]
    },
    {
     "name": "stdout",
     "output_type": "stream",
     "text": [
      "\n",
      "Input percentage does not match actual returned signal percentage because waveform is too long. The beginning is thus cropped.\n"
     ]
    },
    {
     "name": "stderr",
     "output_type": "stream",
     "text": [
      " 78%|███████▊  | 1535/1980 [26:14<01:27,  5.09it/s]"
     ]
    },
    {
     "name": "stdout",
     "output_type": "stream",
     "text": [
      "Input percentage does not match actual returned signal percentage because waveform is too long. The beginning is thus cropped.\n"
     ]
    },
    {
     "name": "stderr",
     "output_type": "stream",
     "text": [
      " 78%|███████▊  | 1538/1980 [26:15<01:36,  4.59it/s]"
     ]
    },
    {
     "name": "stdout",
     "output_type": "stream",
     "text": [
      "Input percentage does not match actual returned signal percentage because waveform is too long. The beginning is thus cropped.\n"
     ]
    },
    {
     "name": "stderr",
     "output_type": "stream",
     "text": [
      " 78%|███████▊  | 1545/1980 [26:16<01:34,  4.62it/s]"
     ]
    },
    {
     "name": "stdout",
     "output_type": "stream",
     "text": [
      "Input percentage does not match actual returned signal percentage because waveform is too long. The beginning is thus cropped.\n"
     ]
    },
    {
     "name": "stderr",
     "output_type": "stream",
     "text": [
      " 78%|███████▊  | 1553/1980 [26:18<01:22,  5.17it/s]"
     ]
    },
    {
     "name": "stdout",
     "output_type": "stream",
     "text": [
      "Input percentage does not match actual returned signal percentage because waveform is too long. The beginning is thus cropped.\n"
     ]
    },
    {
     "name": "stderr",
     "output_type": "stream",
     "text": [
      " 79%|███████▉  | 1570/1980 [26:21<01:14,  5.47it/s]"
     ]
    },
    {
     "name": "stdout",
     "output_type": "stream",
     "text": [
      "Input percentage does not match actual returned signal percentage because waveform is too long. The beginning is thus cropped.\n",
      "Input percentage does not match actual returned signal percentage because waveform is too long. The beginning is thus cropped.\n"
     ]
    },
    {
     "name": "stderr",
     "output_type": "stream",
     "text": [
      " 80%|███████▉  | 1581/1980 [26:23<01:22,  4.84it/s]"
     ]
    },
    {
     "name": "stdout",
     "output_type": "stream",
     "text": [
      "Input percentage does not match actual returned signal percentage because waveform is too long. The beginning is thus cropped.\n"
     ]
    },
    {
     "name": "stderr",
     "output_type": "stream",
     "text": [
      " 81%|████████▏ | 1611/1980 [26:30<01:23,  4.43it/s]"
     ]
    },
    {
     "name": "stdout",
     "output_type": "stream",
     "text": [
      "Input percentage does not match actual returned signal percentage because waveform is too long. The beginning is thus cropped.\n"
     ]
    },
    {
     "name": "stderr",
     "output_type": "stream",
     "text": [
      " 84%|████████▎ | 1657/1980 [26:52<01:34,  3.42it/s]"
     ]
    },
    {
     "name": "stdout",
     "output_type": "stream",
     "text": [
      "Input percentage does not match actual returned signal percentage because waveform is too long. The beginning is thus cropped.\n"
     ]
    },
    {
     "name": "stderr",
     "output_type": "stream",
     "text": [
      " 85%|████████▍ | 1676/1980 [26:56<01:06,  4.60it/s]"
     ]
    },
    {
     "name": "stdout",
     "output_type": "stream",
     "text": [
      "Input percentage does not match actual returned signal percentage because waveform is too long. The beginning is thus cropped.\n"
     ]
    },
    {
     "name": "stderr",
     "output_type": "stream",
     "text": [
      " 85%|████████▍ | 1681/1980 [26:57<01:01,  4.86it/s]"
     ]
    },
    {
     "name": "stdout",
     "output_type": "stream",
     "text": [
      "Input percentage does not match actual returned signal percentage because waveform is too long. The beginning is thus cropped.\n"
     ]
    },
    {
     "name": "stderr",
     "output_type": "stream",
     "text": [
      " 85%|████████▌ | 1691/1980 [27:00<01:06,  4.38it/s]"
     ]
    },
    {
     "name": "stdout",
     "output_type": "stream",
     "text": [
      "Input percentage does not match actual returned signal percentage because waveform is too long. The beginning is thus cropped.\n"
     ]
    },
    {
     "name": "stderr",
     "output_type": "stream",
     "text": [
      " 86%|████████▌ | 1694/1980 [27:00<01:09,  4.13it/s]"
     ]
    },
    {
     "name": "stdout",
     "output_type": "stream",
     "text": [
      "Input percentage does not match actual returned signal percentage because waveform is too long. The beginning is thus cropped.\n"
     ]
    },
    {
     "name": "stderr",
     "output_type": "stream",
     "text": [
      " 86%|████████▌ | 1699/1980 [27:01<01:01,  4.56it/s]"
     ]
    },
    {
     "name": "stdout",
     "output_type": "stream",
     "text": [
      "Input percentage does not match actual returned signal percentage because waveform is too long. The beginning is thus cropped.\n"
     ]
    },
    {
     "name": "stderr",
     "output_type": "stream",
     "text": [
      " 87%|████████▋ | 1728/1980 [27:07<00:50,  4.95it/s]"
     ]
    },
    {
     "name": "stdout",
     "output_type": "stream",
     "text": [
      "Input percentage does not match actual returned signal percentage because waveform is too long. The beginning is thus cropped.\n"
     ]
    },
    {
     "name": "stderr",
     "output_type": "stream",
     "text": [
      " 88%|████████▊ | 1751/1980 [27:13<00:48,  4.73it/s]"
     ]
    },
    {
     "name": "stdout",
     "output_type": "stream",
     "text": [
      "Input percentage does not match actual returned signal percentage because waveform is too long. The beginning is thus cropped.\n"
     ]
    },
    {
     "name": "stderr",
     "output_type": "stream",
     "text": [
      " 89%|████████▊ | 1753/1980 [27:13<00:43,  5.16it/s]"
     ]
    },
    {
     "name": "stdout",
     "output_type": "stream",
     "text": [
      "Input percentage does not match actual returned signal percentage because waveform is too long. The beginning is thus cropped.\n"
     ]
    },
    {
     "name": "stderr",
     "output_type": "stream",
     "text": [
      " 89%|████████▉ | 1764/1980 [27:16<00:53,  4.03it/s]"
     ]
    },
    {
     "name": "stdout",
     "output_type": "stream",
     "text": [
      "Input percentage does not match actual returned signal percentage because waveform is too long. The beginning is thus cropped.\n"
     ]
    },
    {
     "name": "stderr",
     "output_type": "stream",
     "text": [
      "\r",
      " 89%|████████▉ | 1765/1980 [27:16<00:54,  3.94it/s]"
     ]
    },
    {
     "name": "stdout",
     "output_type": "stream",
     "text": [
      "Input percentage does not match actual returned signal percentage because waveform is too long. The beginning is thus cropped.\n"
     ]
    },
    {
     "name": "stderr",
     "output_type": "stream",
     "text": [
      " 89%|████████▉ | 1767/1980 [27:17<00:55,  3.84it/s]"
     ]
    },
    {
     "name": "stdout",
     "output_type": "stream",
     "text": [
      "Input percentage does not match actual returned signal percentage because waveform is too long. The beginning is thus cropped.\n"
     ]
    },
    {
     "name": "stderr",
     "output_type": "stream",
     "text": [
      " 90%|████████▉ | 1774/1980 [27:18<00:46,  4.47it/s]"
     ]
    },
    {
     "name": "stdout",
     "output_type": "stream",
     "text": [
      "Input percentage does not match actual returned signal percentage because waveform is too long. The beginning is thus cropped.\n"
     ]
    },
    {
     "name": "stderr",
     "output_type": "stream",
     "text": [
      " 91%|█████████ | 1795/1980 [27:24<00:41,  4.43it/s]"
     ]
    },
    {
     "name": "stdout",
     "output_type": "stream",
     "text": [
      "Input percentage does not match actual returned signal percentage because waveform is too long. The beginning is thus cropped.\n"
     ]
    },
    {
     "name": "stderr",
     "output_type": "stream",
     "text": [
      " 91%|█████████ | 1800/1980 [27:25<00:42,  4.23it/s]"
     ]
    },
    {
     "name": "stdout",
     "output_type": "stream",
     "text": [
      "Input percentage does not match actual returned signal percentage because waveform is too long. The beginning is thus cropped.\n"
     ]
    },
    {
     "name": "stderr",
     "output_type": "stream",
     "text": [
      " 92%|█████████▏| 1815/1980 [27:29<00:38,  4.25it/s]"
     ]
    },
    {
     "name": "stdout",
     "output_type": "stream",
     "text": [
      "Input percentage does not match actual returned signal percentage because waveform is too long. The beginning is thus cropped.\n"
     ]
    },
    {
     "name": "stderr",
     "output_type": "stream",
     "text": [
      " 92%|█████████▏| 1829/1980 [27:34<01:02,  2.42it/s]"
     ]
    },
    {
     "name": "stdout",
     "output_type": "stream",
     "text": [
      "Input percentage does not match actual returned signal percentage because waveform is too long. The beginning is thus cropped.\n"
     ]
    },
    {
     "name": "stderr",
     "output_type": "stream",
     "text": [
      " 93%|█████████▎| 1833/1980 [27:36<01:08,  2.15it/s]"
     ]
    },
    {
     "name": "stdout",
     "output_type": "stream",
     "text": [
      "Input percentage does not match actual returned signal percentage because waveform is too long. The beginning is thus cropped.\n"
     ]
    },
    {
     "name": "stderr",
     "output_type": "stream",
     "text": [
      " 93%|█████████▎| 1836/1980 [27:37<00:54,  2.63it/s]"
     ]
    },
    {
     "name": "stdout",
     "output_type": "stream",
     "text": [
      "Input percentage does not match actual returned signal percentage because waveform is too long. The beginning is thus cropped.\n"
     ]
    },
    {
     "name": "stderr",
     "output_type": "stream",
     "text": [
      " 94%|█████████▎| 1856/1980 [27:41<00:30,  4.05it/s]"
     ]
    },
    {
     "name": "stdout",
     "output_type": "stream",
     "text": [
      "Input percentage does not match actual returned signal percentage because waveform is too long. The beginning is thus cropped.\n"
     ]
    },
    {
     "name": "stderr",
     "output_type": "stream",
     "text": [
      " 94%|█████████▍| 1859/1980 [27:42<00:29,  4.05it/s]"
     ]
    },
    {
     "name": "stdout",
     "output_type": "stream",
     "text": [
      "Input percentage does not match actual returned signal percentage because waveform is too long. The beginning is thus cropped.\n"
     ]
    },
    {
     "name": "stderr",
     "output_type": "stream",
     "text": [
      " 95%|█████████▌| 1884/1980 [27:48<00:22,  4.32it/s]"
     ]
    },
    {
     "name": "stdout",
     "output_type": "stream",
     "text": [
      "Input percentage does not match actual returned signal percentage because waveform is too long. The beginning is thus cropped.\n"
     ]
    },
    {
     "name": "stderr",
     "output_type": "stream",
     "text": [
      " 95%|█████████▌| 1886/1980 [27:48<00:25,  3.64it/s]"
     ]
    },
    {
     "name": "stdout",
     "output_type": "stream",
     "text": [
      "Input percentage does not match actual returned signal percentage because waveform is too long. The beginning is thus cropped.\n"
     ]
    },
    {
     "name": "stderr",
     "output_type": "stream",
     "text": [
      " 96%|█████████▋| 1908/1980 [27:59<00:35,  2.02it/s]"
     ]
    },
    {
     "name": "stdout",
     "output_type": "stream",
     "text": [
      "Input percentage does not match actual returned signal percentage because waveform is too long. The beginning is thus cropped.\n"
     ]
    },
    {
     "name": "stderr",
     "output_type": "stream",
     "text": [
      " 98%|█████████▊| 1934/1980 [28:07<00:13,  3.50it/s]"
     ]
    },
    {
     "name": "stdout",
     "output_type": "stream",
     "text": [
      "Input percentage does not match actual returned signal percentage because waveform is too long. The beginning is thus cropped.\n"
     ]
    },
    {
     "name": "stderr",
     "output_type": "stream",
     "text": [
      " 98%|█████████▊| 1944/1980 [28:10<00:16,  2.25it/s]"
     ]
    },
    {
     "name": "stdout",
     "output_type": "stream",
     "text": [
      "Input percentage does not match actual returned signal percentage because waveform is too long. The beginning is thus cropped.\n"
     ]
    },
    {
     "name": "stderr",
     "output_type": "stream",
     "text": [
      "\r",
      " 98%|█████████▊| 1945/1980 [28:10<00:15,  2.21it/s]"
     ]
    },
    {
     "name": "stdout",
     "output_type": "stream",
     "text": [
      "Input percentage does not match actual returned signal percentage because waveform is too long. The beginning is thus cropped.\n"
     ]
    },
    {
     "name": "stderr",
     "output_type": "stream",
     "text": [
      " 99%|█████████▊| 1953/1980 [28:12<00:07,  3.77it/s]"
     ]
    },
    {
     "name": "stdout",
     "output_type": "stream",
     "text": [
      "Input percentage does not match actual returned signal percentage because waveform is too long. The beginning is thus cropped.\n"
     ]
    },
    {
     "name": "stderr",
     "output_type": "stream",
     "text": [
      " 99%|█████████▉| 1966/1980 [28:17<00:04,  2.83it/s]"
     ]
    },
    {
     "name": "stdout",
     "output_type": "stream",
     "text": [
      "Input percentage does not match actual returned signal percentage because waveform is too long. The beginning is thus cropped.\n"
     ]
    },
    {
     "name": "stderr",
     "output_type": "stream",
     "text": [
      "100%|█████████▉| 1971/1980 [28:18<00:02,  3.17it/s]"
     ]
    },
    {
     "name": "stdout",
     "output_type": "stream",
     "text": [
      "Input percentage does not match actual returned signal percentage because waveform is too long. The beginning is thus cropped.\n"
     ]
    },
    {
     "name": "stderr",
     "output_type": "stream",
     "text": [
      "100%|██████████| 1980/1980 [28:20<00:00,  4.26it/s]"
     ]
    },
    {
     "name": "stdout",
     "output_type": "stream",
     "text": [
      "Input percentage does not match actual returned signal percentage because waveform is too long. The beginning is thus cropped.\n"
     ]
    },
    {
     "name": "stderr",
     "output_type": "stream",
     "text": [
      "\n"
     ]
    }
   ],
   "source": [
    "# generate graviational wave with mass 10-100, snr 80-200, partial percentage 0.5-1\n",
    "for i in tqdm(range(1980)):\n",
    "    wf = partial_burried_gw_jr(uniform(10,100),uniform(10,100),uniform(80,200),uniform(0.5,1))\n",
    "    appendXy(wf,1)"
   ]
  },
  {
   "cell_type": "code",
   "execution_count": 9,
   "metadata": {
    "collapsed": true
   },
   "outputs": [],
   "source": [
    "# Save as dataframe\n",
    "X_df = pd.DataFrame(X)\n",
    "y_df = pd.DataFrame(y)"
   ]
  },
  {
   "cell_type": "code",
   "execution_count": 10,
   "metadata": {
    "collapsed": true
   },
   "outputs": [],
   "source": [
    "# Since sklearn makes things a lot easier, can just store the whole data and split every time. \n",
    "# If want to recreate the split just use same random seed\n",
    "\n",
    "# '''ALREADY DONE NO NEED REPEAT\n",
    "f_path = 'training_data/2B/X.txt'\n",
    "X_df.to_csv(f_path)\n",
    "f_path = 'training_data/2B/y.txt'\n",
    "y_df.to_csv(f_path) \n",
    "#'''"
   ]
  },
  {
   "cell_type": "markdown",
   "metadata": {},
   "source": [
    "# Data Statistics"
   ]
  },
  {
   "cell_type": "code",
   "execution_count": 8,
   "metadata": {},
   "outputs": [
    {
     "name": "stdout",
     "output_type": "stream",
     "text": [
      "Number of data:  3970\n",
      "Percentage  49.87405541561713 % of data contains gw wave.\n"
     ]
    }
   ],
   "source": [
    "# statistic information\n",
    "print(\"Number of data: \",len(X))\n",
    "\n",
    "pos = 0\n",
    "for i in np.arange(len(X)):\n",
    "    pos += y[i]\n",
    "\n",
    "print(\"Percentage \",100* pos/len(X), \"% of data contains gw wave.\")"
   ]
  }
 ],
 "metadata": {
  "kernelspec": {
   "display_name": "Python 3",
   "language": "python",
   "name": "python3"
  },
  "language_info": {
   "codemirror_mode": {
    "name": "ipython",
    "version": 3
   },
   "file_extension": ".py",
   "mimetype": "text/x-python",
   "name": "python",
   "nbconvert_exporter": "python",
   "pygments_lexer": "ipython3",
   "version": "3.6.8"
  }
 },
 "nbformat": 4,
 "nbformat_minor": 2
}

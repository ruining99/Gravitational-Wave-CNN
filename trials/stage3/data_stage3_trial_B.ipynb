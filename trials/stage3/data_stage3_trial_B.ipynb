{
 "cells": [
  {
   "cell_type": "markdown",
   "metadata": {},
   "source": [
    "# Construct dataset"
   ]
  },
  {
   "cell_type": "code",
   "execution_count": 3,
   "metadata": {},
   "outputs": [],
   "source": [
    "import pycbc.noise\n",
    "import pycbc.psd\n",
    "import pycbc.filter\n",
    "import pylab\n",
    "from pycbc.filter import sigma\n",
    "from pycbc.waveform import get_td_waveform\n",
    "from pycbc.types.timeseries import load_timeseries\n",
    "import matplotlib.pyplot as plt\n",
    "import pandas as pd\n",
    "import numpy as np\n",
    "from numpy.random import uniform, randint\n",
    "from tqdm import tqdm\n",
    "import seaborn as sns\n",
    "from sklearn.model_selection import train_test_split\n",
    "\n",
    "#import false signal functions\n",
    "from ipynb.fs.full.falsig_functions import random_false_sig, flip_gw\n",
    "from ipynb.fs.full.data_functions import noise, burried_gw, partial_burried_false, partial_burried_gw, burried_false, burried_flip, visualize, bol, empty_gaussian"
   ]
  },
  {
   "cell_type": "code",
   "execution_count": 4,
   "metadata": {
    "collapsed": true
   },
   "outputs": [],
   "source": [
    "# Function used to append data in desired format to X,y\n",
    "def appendXy(wave,target):\n",
    "    wave.save('temporary2.txt')\n",
    "    wave = np.loadtxt('temporary2.txt',usecols=1)\n",
    "    X.append(wave)\n",
    "    y.append(target)"
   ]
  },
  {
   "cell_type": "markdown",
   "metadata": {},
   "source": [
    "Trial 2B information: simply needs more low snr data\n",
    "- full signals\n",
    "    - SNR 10-50\n",
    "    - randomly generate two masses 10-100 (no longer restrictions)\n",
    "    - also flipped and noise & false signals at SNR 10-50\n",
    "- partial gw signals\n",
    "    - SNR 10-50\n",
    "    - 50%-100% kept on the right side\n",
    "- partial false signals\n",
    "    - SNR 10-50\n",
    "    - 10%-100% kept and randomly burried\n",
    "- train and test generated in one batch. Then separate.\n"
   ]
  },
  {
   "cell_type": "code",
   "execution_count": 6,
   "metadata": {
    "collapsed": true
   },
   "outputs": [],
   "source": [
    "# constants and variables\n",
    "mag = -21   # for false signals. Try to be close to the amplitude of gw signals\n",
    "select1 = bol(4,10000)\n",
    "select2 = bol(2,10000)"
   ]
  },
  {
   "cell_type": "code",
   "execution_count": 7,
   "metadata": {
    "scrolled": true
   },
   "outputs": [
    {
     "name": "stderr",
     "output_type": "stream",
     "text": [
      "100%|██████████| 4000/4000 [2:16:47<00:00,  2.24it/s]     \n"
     ]
    }
   ],
   "source": [
    "X = []\n",
    "y = []\n",
    "\n",
    "# SNR 10-50 randomly generated\n",
    "# mass 10-100 randomly generated\n",
    "\n",
    "for i in tqdm(range(4000)):\n",
    "    \n",
    "    # true data\n",
    "    m1 = uniform(10,100)\n",
    "    m2 = uniform(10,100)\n",
    "    snr = uniform(10,50)\n",
    "    gww = burried_gw(m1, m2, snr)\n",
    "    appendXy(gww,1)\n",
    "    \n",
    "    # Insert false flipped case as well as empty gaussian after every 4 true cases\n",
    "    if select1[i]:\n",
    "        wf = burried_flip(m1, m2, snr)\n",
    "        appendXy(wf,0)\n",
    "        \n",
    "        wf = noise(gww,snr)\n",
    "        appendXy(wf,0)\n",
    "        \n",
    "        wf = burried_false(-randint(20,23),snr)\n",
    "        appendXy(wf,0)\n",
    "    \n",
    "    # generate partial graviational wave\n",
    "    # with mass 10-100, snr 10-100, partial percentage 0.5-1\n",
    "    if select2[i]:\n",
    "        wf = partial_burried_gw(m1,m2, uniform(10,50),uniform(0.5,1))\n",
    "        appendXy(wf,1)"
   ]
  },
  {
   "cell_type": "code",
   "execution_count": 8,
   "metadata": {
    "scrolled": true
   },
   "outputs": [
    {
     "name": "stderr",
     "output_type": "stream",
     "text": [
      "100%|██████████| 1500/1500 [04:26<00:00,  5.73it/s]\n"
     ]
    }
   ],
   "source": [
    "# Generate partial false signals: snr 10-50, partial percentage 0.1-1\n",
    "for i in tqdm(range(1500)):\n",
    "    wf = partial_burried_false(-randint(20,23), uniform(10,50),uniform(0.1,1))\n",
    "    appendXy(wf,0)\n"
   ]
  },
  {
   "cell_type": "code",
   "execution_count": 9,
   "metadata": {},
   "outputs": [
    {
     "name": "stderr",
     "output_type": "stream",
     "text": [
      "100%|██████████| 800/800 [02:05<00:00,  6.66it/s]\n",
      "100%|██████████| 400/400 [01:01<00:00,  6.45it/s]\n",
      "100%|██████████| 400/400 [01:01<00:00,  6.47it/s]\n",
      "100%|██████████| 400/400 [01:01<00:00,  6.55it/s]\n"
     ]
    }
   ],
   "source": [
    "from ipynb.fs.full.falsig_functions import gaussPulse_2B, expsin_2B, sawtooth_2B, chirp_2B\n",
    "from ipynb.fs.full.data_functions import partial_burried_2B\n",
    "\n",
    "# Generate easy to be confused false sig\n",
    "# SNR 10 - 50 randomly generated partial signals of false signals that are easy to be mixed up\n",
    "\n",
    "# for gauss pulse use partial percentage 0.5-1\n",
    "for i in tqdm(range(800)):\n",
    "    fc = uniform(10,150)\n",
    "    even = randint(2)\n",
    "    wf = gaussPulse_2B(1, fc, 1, mag, even)\n",
    "    \n",
    "    wf = partial_burried_2B(wf,uniform(10,50),uniform(0.5,1))\n",
    "    appendXy(wf,0)\n",
    "\n",
    "# for other use percentage 0.2-1\n",
    "# expsin\n",
    "for i in tqdm(range(400)):\n",
    "    a = uniform(130,180)\n",
    "    b = randint(1,3)\n",
    "    wf = expsin_2B(1,a,b,-21)\n",
    "    \n",
    "    wf = partial_burried_2B(wf,uniform(10,50),uniform(0.2,1))\n",
    "    appendXy(wf,0)\n",
    "    \n",
    "# sawtooth\n",
    "for i in tqdm(range(400)):\n",
    "    a = randint(50,70)\n",
    "    wf= sawtooth_2B(1,50,-21)\n",
    "    \n",
    "    wf = partial_burried_2B(wf,uniform(10,50),uniform(0.2,1))\n",
    "    appendXy(wf,0)\n",
    "    \n",
    "# chirp\n",
    "for i in tqdm(range(400)):\n",
    "    f0 = np.random.uniform(10,15.0)\n",
    "    wf = chirp_2B(1,f0,19,-21)\n",
    "\n",
    "    wf = partial_burried_2B(wf,uniform(10,50),uniform(0.2,1))\n",
    "    appendXy(wf,0)"
   ]
  },
  {
   "cell_type": "code",
   "execution_count": 10,
   "metadata": {},
   "outputs": [
    {
     "name": "stderr",
     "output_type": "stream",
     "text": [
      "100%|██████████| 800/800 [01:43<00:00,  7.40it/s]\n"
     ]
    }
   ],
   "source": [
    "for i in tqdm(range(800)):    \n",
    "    m1 = uniform(10,100)\n",
    "    m2 = uniform(10,100)\n",
    "    wf = partial_burried_gw(m1,m2, uniform(10,50),uniform(0.5,1))\n",
    "    appendXy(wf,1)"
   ]
  },
  {
   "cell_type": "code",
   "execution_count": 11,
   "metadata": {
    "collapsed": true
   },
   "outputs": [],
   "source": [
    "# Save as dataframe\n",
    "X_df = pd.DataFrame(X)\n",
    "y_df = pd.DataFrame(y)"
   ]
  },
  {
   "cell_type": "code",
   "execution_count": 12,
   "metadata": {
    "collapsed": true
   },
   "outputs": [],
   "source": [
    "# Since sklearn makes things a lot easier, can just store the whole data and split every time. \n",
    "# If want to recreate the split just use same random seed\n",
    "\n",
    "# '''ALREADY DONE NO NEED REPEAT\n",
    "f_path = 'training_data/3B/X.txt'\n",
    "X_df.to_csv(f_path)\n",
    "f_path = 'training_data/3B/y.txt'\n",
    "y_df.to_csv(f_path) \n",
    "#'''"
   ]
  },
  {
   "cell_type": "markdown",
   "metadata": {},
   "source": [
    "# Data Statistics"
   ]
  },
  {
   "cell_type": "code",
   "execution_count": 13,
   "metadata": {},
   "outputs": [
    {
     "name": "stdout",
     "output_type": "stream",
     "text": [
      "Number of data:  13300\n",
      "Percentage  51.12781954887218 % of data contains gw wave.\n"
     ]
    }
   ],
   "source": [
    "# statistic information\n",
    "print(\"Number of data: \",len(X))\n",
    "\n",
    "pos = 0\n",
    "for i in np.arange(len(X)):\n",
    "    pos += y[i]\n",
    "\n",
    "print(\"Percentage \",100* pos/len(X), \"% of data contains gw wave.\")"
   ]
  },
  {
   "cell_type": "markdown",
   "metadata": {
    "collapsed": true
   },
   "source": [
    "Let the positive percentage a little higher so trick the machine into thinking it is better to predict positive.\n",
    "So that it does not miss anything"
   ]
  },
  {
   "cell_type": "code",
   "execution_count": null,
   "metadata": {
    "collapsed": true
   },
   "outputs": [],
   "source": []
  }
 ],
 "metadata": {
  "kernelspec": {
   "display_name": "Python 3",
   "language": "python",
   "name": "python3"
  },
  "language_info": {
   "codemirror_mode": {
    "name": "ipython",
    "version": 3
   },
   "file_extension": ".py",
   "mimetype": "text/x-python",
   "name": "python",
   "nbconvert_exporter": "python",
   "pygments_lexer": "ipython3",
   "version": "3.6.8"
  }
 },
 "nbformat": 4,
 "nbformat_minor": 2
}

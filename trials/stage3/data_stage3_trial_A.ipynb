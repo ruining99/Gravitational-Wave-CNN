{
 "cells": [
  {
   "cell_type": "markdown",
   "metadata": {},
   "source": [
    "# Construct dataset"
   ]
  },
  {
   "cell_type": "code",
   "execution_count": 1,
   "metadata": {},
   "outputs": [
    {
     "name": "stderr",
     "output_type": "stream",
     "text": [
      "PyCBC.libutils: pkg-config call failed, setting NO_PKGCONFIG=1\n"
     ]
    }
   ],
   "source": [
    "import pycbc.noise\n",
    "import pycbc.psd\n",
    "import pycbc.filter\n",
    "import pylab\n",
    "from pycbc.filter import sigma\n",
    "from pycbc.waveform import get_td_waveform\n",
    "from pycbc.types.timeseries import load_timeseries\n",
    "import matplotlib.pyplot as plt\n",
    "import pandas as pd\n",
    "import numpy as np\n",
    "from numpy.random import uniform, randint\n",
    "from tqdm import tqdm\n",
    "import seaborn as sns\n",
    "from sklearn.model_selection import train_test_split\n",
    "\n",
    "#import false signal functions\n",
    "from ipynb.fs.full.falsig_functions import random_false_sig, flip_gw\n",
    "from ipynb.fs.full.data_functions import noise, burried_gw, partial_burried_false, partial_burried_gw, burried_false, burried_flip, visualize, bol, empty_gaussian"
   ]
  },
  {
   "cell_type": "code",
   "execution_count": 2,
   "metadata": {
    "collapsed": true
   },
   "outputs": [],
   "source": [
    "# Function used to append data in desired format to X,y\n",
    "def appendXy(wave,target):\n",
    "    wave.save('temporary2.txt')\n",
    "    wave = np.loadtxt('temporary2.txt',usecols=1)\n",
    "    X.append(wave)\n",
    "    y.append(target)"
   ]
  },
  {
   "cell_type": "markdown",
   "metadata": {},
   "source": [
    "Trial 2a information:\n",
    "- full signals\n",
    "    - SNR 10-100\n",
    "    - randomly generate two masses 10-100 (no longer restrictions)\n",
    "    - also flipped and noise & false signals at SNR 10-100\n",
    "- partial gw signals\n",
    "    - SNR 10-100\n",
    "    - 50%-100% kept on the right side\n",
    "- partial false signals\n",
    "    - SNR 10-100\n",
    "    - 10%-100% kept and randomly burried\n",
    "- train and test generated in one batch. Then separate.\n"
   ]
  },
  {
   "cell_type": "code",
   "execution_count": 4,
   "metadata": {
    "collapsed": true
   },
   "outputs": [],
   "source": [
    "# constants and variables\n",
    "mag = -21   # for false signals. Try to be close to the amplitude of gw signals\n",
    "select1 = bol(4,10000)\n",
    "select2 = bol(2,10000)"
   ]
  },
  {
   "cell_type": "code",
   "execution_count": 5,
   "metadata": {
    "scrolled": true
   },
   "outputs": [
    {
     "name": "stderr",
     "output_type": "stream",
     "text": [
      "100%|██████████| 4000/4000 [47:40<00:00,  1.02s/it]  \n"
     ]
    }
   ],
   "source": [
    "X = []\n",
    "y = []\n",
    "\n",
    "# SNR 10 - 100 randomly generated\n",
    "# mass 10-100 randomly generated\n",
    "\n",
    "for i in tqdm(range(4000)):\n",
    "    \n",
    "    # true data\n",
    "    m1 = uniform(10,100)\n",
    "    m2 = uniform(10,100)\n",
    "    snr = uniform(10,100)\n",
    "    gww = burried_gw(m1, m2, snr)\n",
    "    appendXy(gww,1)\n",
    "    \n",
    "    # Insert false flipped case as well as empty gaussian after every 4 true cases\n",
    "    if select1[i]:\n",
    "        wf = burried_flip(m1, m2, snr)\n",
    "        appendXy(wf,0)\n",
    "        \n",
    "        wf = noise(gww,snr)\n",
    "        appendXy(wf,0)\n",
    "        \n",
    "        wf = burried_false(-randint(20,23),snr)\n",
    "        appendXy(wf,0)\n",
    "    \n",
    "    # generate partial graviational wave\n",
    "    # with mass 10-100, snr 10-100, partial percentage 0.5-1\n",
    "    if select2[i]:\n",
    "        wf = partial_burried_gw(m1,m2, uniform(10,100),uniform(0.5,1))\n",
    "        appendXy(wf,1)"
   ]
  },
  {
   "cell_type": "code",
   "execution_count": 6,
   "metadata": {
    "scrolled": true
   },
   "outputs": [
    {
     "name": "stderr",
     "output_type": "stream",
     "text": [
      "100%|██████████| 1500/1500 [36:36<00:00,  3.99it/s]    \n",
      "  0%|          | 0/1000 [00:00<?, ?it/s]\n"
     ]
    },
    {
     "ename": "NameError",
     "evalue": "name 'gaussPulse_2B' is not defined",
     "output_type": "error",
     "traceback": [
      "\u001b[0;31m---------------------------------------------------------------------------\u001b[0m",
      "\u001b[0;31mNameError\u001b[0m                                 Traceback (most recent call last)",
      "\u001b[0;32m<ipython-input-6-47a4a6f09524>\u001b[0m in \u001b[0;36m<module>\u001b[0;34m()\u001b[0m\n\u001b[1;32m     11\u001b[0m     \u001b[0mfc\u001b[0m \u001b[0;34m=\u001b[0m \u001b[0muniform\u001b[0m\u001b[0;34m(\u001b[0m\u001b[0;36m10\u001b[0m\u001b[0;34m,\u001b[0m\u001b[0;36m150\u001b[0m\u001b[0;34m)\u001b[0m\u001b[0;34m\u001b[0m\u001b[0;34m\u001b[0m\u001b[0m\n\u001b[1;32m     12\u001b[0m     \u001b[0meven\u001b[0m \u001b[0;34m=\u001b[0m \u001b[0mrandint\u001b[0m\u001b[0;34m(\u001b[0m\u001b[0;36m2\u001b[0m\u001b[0;34m)\u001b[0m\u001b[0;34m\u001b[0m\u001b[0;34m\u001b[0m\u001b[0m\n\u001b[0;32m---> 13\u001b[0;31m     \u001b[0mwf\u001b[0m \u001b[0;34m=\u001b[0m \u001b[0mgaussPulse_2B\u001b[0m\u001b[0;34m(\u001b[0m\u001b[0;36m1\u001b[0m\u001b[0;34m,\u001b[0m \u001b[0mfc\u001b[0m\u001b[0;34m,\u001b[0m \u001b[0;36m1\u001b[0m\u001b[0;34m,\u001b[0m \u001b[0mmag\u001b[0m\u001b[0;34m,\u001b[0m \u001b[0meven\u001b[0m\u001b[0;34m)\u001b[0m\u001b[0;34m\u001b[0m\u001b[0;34m\u001b[0m\u001b[0m\n\u001b[0m\u001b[1;32m     14\u001b[0m \u001b[0;34m\u001b[0m\u001b[0m\n\u001b[1;32m     15\u001b[0m     \u001b[0mwf\u001b[0m \u001b[0;34m=\u001b[0m \u001b[0mpartial_burried_2B\u001b[0m\u001b[0;34m(\u001b[0m\u001b[0mwf\u001b[0m\u001b[0;34m,\u001b[0m\u001b[0muniform\u001b[0m\u001b[0;34m(\u001b[0m\u001b[0;36m10\u001b[0m\u001b[0;34m,\u001b[0m\u001b[0;36m400\u001b[0m\u001b[0;34m)\u001b[0m\u001b[0;34m,\u001b[0m\u001b[0muniform\u001b[0m\u001b[0;34m(\u001b[0m\u001b[0;36m0.5\u001b[0m\u001b[0;34m,\u001b[0m\u001b[0;36m1\u001b[0m\u001b[0;34m)\u001b[0m\u001b[0;34m)\u001b[0m\u001b[0;34m\u001b[0m\u001b[0;34m\u001b[0m\u001b[0m\n",
      "\u001b[0;31mNameError\u001b[0m: name 'gaussPulse_2B' is not defined"
     ]
    }
   ],
   "source": [
    "# Generate partial false signals: snr 10-200, partial percentage 0.1-1\n",
    "for i in tqdm(range(1500)):\n",
    "    wf = partial_burried_false(-randint(20,23), uniform(10,200),uniform(0.1,1))\n",
    "    appendXy(wf,0)\n"
   ]
  },
  {
   "cell_type": "code",
   "execution_count": 8,
   "metadata": {},
   "outputs": [
    {
     "name": "stderr",
     "output_type": "stream",
     "text": [
      "100%|██████████| 1000/1000 [04:03<00:00,  4.19it/s]\n",
      "100%|██████████| 500/500 [01:55<00:00,  4.33it/s]\n",
      "100%|██████████| 500/500 [01:58<00:00,  3.65it/s]\n",
      "100%|██████████| 500/500 [01:58<00:00,  4.10it/s]\n"
     ]
    }
   ],
   "source": [
    "from ipynb.fs.full.falsig_functions import gaussPulse_2B, expsin_2B, sawtooth_2B, chirp_2B\n",
    "from ipynb.fs.full.data_functions import partial_burried_2B\n",
    "\n",
    "# Generate easy to be confused false sig\n",
    "# SNR 10 - 500 randomly generated partial signals of false signals that are easy to be mixed up\n",
    "\n",
    "# for gauss pulse use partial percentage 0.5-1\n",
    "for i in tqdm(range(1000)):\n",
    "    fc = uniform(10,150)\n",
    "    even = randint(2)\n",
    "    wf = gaussPulse_2B(1, fc, 1, mag, even)\n",
    "    \n",
    "    wf = partial_burried_2B(wf,uniform(10,400),uniform(0.5,1))\n",
    "    appendXy(wf,0)\n",
    "\n",
    "# for other use percentage 0.2-1\n",
    "# expsin\n",
    "for i in tqdm(range(500)):\n",
    "    a = uniform(130,180)\n",
    "    b = randint(1,3)\n",
    "    wf = expsin_2B(1,a,b,-21)\n",
    "    \n",
    "    wf = partial_burried_2B(wf,uniform(10,400),uniform(0.2,1))\n",
    "    appendXy(wf,0)\n",
    "    \n",
    "# sawtooth\n",
    "for i in tqdm(range(500)):\n",
    "    a = randint(50,70)\n",
    "    wf= sawtooth_2B(1,50,-21)\n",
    "    \n",
    "    wf = partial_burried_2B(wf,uniform(10,400),uniform(0.2,1))\n",
    "    appendXy(wf,0)\n",
    "    \n",
    "# chirp\n",
    "for i in tqdm(range(500)):\n",
    "    f0 = np.random.uniform(10,15.0)\n",
    "    wf = chirp_2B(1,f0,19,-21)\n",
    "\n",
    "    wf = partial_burried_2B(wf,uniform(10,400),uniform(0.2,1))\n",
    "    appendXy(wf,0)"
   ]
  },
  {
   "cell_type": "code",
   "execution_count": 10,
   "metadata": {},
   "outputs": [
    {
     "name": "stderr",
     "output_type": "stream",
     "text": [
      "100%|██████████| 500/500 [01:36<00:00,  5.72it/s]\n"
     ]
    }
   ],
   "source": [
    "for i in tqdm(range(500)):    \n",
    "    m1 = uniform(10,100)\n",
    "    m2 = uniform(10,100)\n",
    "    wf = partial_burried_gw(m1,m2, uniform(10,100),uniform(0.5,1))\n",
    "    appendXy(wf,1)"
   ]
  },
  {
   "cell_type": "code",
   "execution_count": 13,
   "metadata": {},
   "outputs": [],
   "source": [
    "# Save as dataframe\n",
    "X_df = pd.DataFrame(X)\n",
    "y_df = pd.DataFrame(y)"
   ]
  },
  {
   "cell_type": "code",
   "execution_count": 14,
   "metadata": {
    "collapsed": true
   },
   "outputs": [],
   "source": [
    "# Since sklearn makes things a lot easier, can just store the whole data and split every time. \n",
    "# If want to recreate the split just use same random seed\n",
    "\n",
    "# '''ALREADY DONE NO NEED REPEAT\n",
    "f_path = 'training_data/3A/X.txt'\n",
    "X_df.to_csv(f_path)\n",
    "f_path = 'training_data/3A/y.txt'\n",
    "y_df.to_csv(f_path) \n",
    "#'''"
   ]
  },
  {
   "cell_type": "markdown",
   "metadata": {},
   "source": [
    "# Data Statistics"
   ]
  },
  {
   "cell_type": "code",
   "execution_count": 11,
   "metadata": {},
   "outputs": [
    {
     "name": "stdout",
     "output_type": "stream",
     "text": [
      "Number of data:  13500\n",
      "Percentage  48.148148148148145 % of data contains gw wave.\n"
     ]
    }
   ],
   "source": [
    "# statistic information\n",
    "print(\"Number of data: \",len(X))\n",
    "\n",
    "pos = 0\n",
    "for i in np.arange(len(X)):\n",
    "    pos += y[i]\n",
    "\n",
    "print(\"Percentage \",100* pos/len(X), \"% of data contains gw wave.\")"
   ]
  },
  {
   "cell_type": "code",
   "execution_count": null,
   "metadata": {
    "collapsed": true
   },
   "outputs": [],
   "source": []
  }
 ],
 "metadata": {
  "kernelspec": {
   "display_name": "Python 3",
   "language": "python",
   "name": "python3"
  },
  "language_info": {
   "codemirror_mode": {
    "name": "ipython",
    "version": 3
   },
   "file_extension": ".py",
   "mimetype": "text/x-python",
   "name": "python",
   "nbconvert_exporter": "python",
   "pygments_lexer": "ipython3",
   "version": "3.6.8"
  }
 },
 "nbformat": 4,
 "nbformat_minor": 2
}
